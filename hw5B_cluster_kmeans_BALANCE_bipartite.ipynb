{
 "cells": [
  {
   "cell_type": "code",
   "execution_count": 1,
   "metadata": {
    "collapsed": true
   },
   "outputs": [],
   "source": [
    "import numpy as np\n",
    "from collections import defaultdict"
   ]
  },
  {
   "cell_type": "markdown",
   "metadata": {},
   "source": [
    "## Question 1"
   ]
  },
  {
   "cell_type": "markdown",
   "metadata": {},
   "source": [
    " We wish to cluster the following set of points:\n",
    "<img src=\"images/otc_gold.gif\">\n",
    "into 10 clusters. We initially choose each of the green points (25,125), (44,105), (29,97), (35,63), (55,63), (42,57), (23,40), (64,37), (33,22), and (55,20) as a centroid. Assign each of the gold points to their nearest centroid. (Note: the scales of the horizontal and vertical axes differ, so you really need to apply the formula for distance of points; you can't just \"eyeball\" it.) Then, recompute the centroids of each of the clusters. Do any of the points then get reassigned to a new cluster on the next round?"
   ]
  },
  {
   "cell_type": "markdown",
   "metadata": {},
   "source": [
    "// do not run\n",
    "\n",
    "Identify the true statement in the list below. Each statement refers either to a centroid AFTER recomputation of centroids (precise to one decimal place) or to a point that gets reclassified.\n",
    "\n",
    "The point (65,140) is reassigned after computation of centroids.\n",
    "The point (63,88) is reassigned after computation of centroids.\n",
    "There is a centroid after recomputation at (29,97)\n",
    "There is a centroid after recomputation at (56,70.3)"
   ]
  },
  {
   "cell_type": "code",
   "execution_count": 2,
   "metadata": {
    "collapsed": false
   },
   "outputs": [
    {
     "data": {
      "text/plain": [
       "20"
      ]
     },
     "execution_count": 2,
     "metadata": {},
     "output_type": "execute_result"
    }
   ],
   "source": [
    "points = [(28,145), (65,140), (50,130), (25,125), (38,115), (55,118),\n",
    "           (44,105), (29,97), (50,90), (63,88), (43,83), (35,63), (55,63),\n",
    "           (42,57), (50,60), (23,40), (64,37), (50,30), (33,22), (55,20)]\n",
    "len(points)"
   ]
  },
  {
   "cell_type": "code",
   "execution_count": 16,
   "metadata": {
    "collapsed": true
   },
   "outputs": [],
   "source": [
    "# centroids1 = [(25,125), (44,105), (29,97), (35,63), (55,63), (42,57), \n",
    "#             (23,40), (64,37), (33,22), (55,20)]"
   ]
  },
  {
   "cell_type": "code",
   "execution_count": 18,
   "metadata": {
    "collapsed": false
   },
   "outputs": [
    {
     "data": {
      "text/plain": [
       "(55, 20)"
      ]
     },
     "execution_count": 18,
     "metadata": {},
     "output_type": "execute_result"
    }
   ],
   "source": [
    "centroids = {1:(25,125), 2:(44,105), 3:(29,97), 4:(35,63), 5:(55,63), \n",
    "             6:(42,57), 7:(23,40), 8:(64,37), 9:(33,22), 10:(55,20)}\n",
    "centroids[10]"
   ]
  },
  {
   "cell_type": "code",
   "execution_count": 4,
   "metadata": {
    "collapsed": false
   },
   "outputs": [
    {
     "data": {
      "text/plain": [
       "[(42, 57)]"
      ]
     },
     "execution_count": 4,
     "metadata": {},
     "output_type": "execute_result"
    }
   ],
   "source": [
    "clusters = {1:[(25,125)], 2:[(44,105)], 3:[(29,97)], 4:[(35,63)], 5:[(55,63)], \n",
    "             6:[(42,57)], 7:[(23,40)], 8:[(64,37)], 9:[(33,22)], 10:[(55,20)]}\n",
    "clusters[6]"
   ]
  },
  {
   "cell_type": "code",
   "execution_count": 22,
   "metadata": {
    "collapsed": false
   },
   "outputs": [
    {
     "data": {
      "text/plain": [
       "[(28, 145),\n",
       " (65, 140),\n",
       " (50, 130),\n",
       " (38, 115),\n",
       " (55, 118),\n",
       " (50, 90),\n",
       " (63, 88),\n",
       " (43, 83),\n",
       " (50, 60),\n",
       " (50, 30)]"
      ]
     },
     "execution_count": 22,
     "metadata": {},
     "output_type": "execute_result"
    }
   ],
   "source": [
    "centroids1 = [v for k,v in centroids.iteritems() if v in points]\n",
    "first_assign = [item for item in points if item not in centroids1]\n",
    "first_assign"
   ]
  },
  {
   "cell_type": "code",
   "execution_count": 23,
   "metadata": {
    "collapsed": true
   },
   "outputs": [],
   "source": [
    "def euc_dist(a, b):\n",
    "    return ((a[0] - b[0])**2 + (a[1] - b[1])**2)**.5"
   ]
  },
  {
   "cell_type": "code",
   "execution_count": 26,
   "metadata": {
    "collapsed": false
   },
   "outputs": [],
   "source": [
    "def calc_centr(points_list):\n",
    "    x = 0\n",
    "    y = 0\n",
    "    count = 0.\n",
    "\n",
    "    for i in points_list:\n",
    "        x += i[0]\n",
    "        y += i[1]\n",
    "        count += 1\n",
    "\n",
    "    return x/count, y/count"
   ]
  },
  {
   "cell_type": "code",
   "execution_count": 50,
   "metadata": {
    "collapsed": true
   },
   "outputs": [],
   "source": [
    "# create function from above layout\n",
    "# input: centroids (dict) & points (list) & 0/1 for inluding centroids in cluster\n",
    "# output: clusters (dict) "
   ]
  },
  {
   "cell_type": "code",
   "execution_count": 27,
   "metadata": {
    "collapsed": true
   },
   "outputs": [],
   "source": [
    "def clustering(cntrds, pnts, inc):\n",
    "    \n",
    "    clusters_new = defaultdict(list)\n",
    "    centroids_new = {}\n",
    "    \n",
    "    if inc == 1:\n",
    "        for c in cntrds:\n",
    "            clusters_new[c].append(cntrds[c])\n",
    "            \n",
    "    for p in pnts:\n",
    "        centr_dist = 1000.\n",
    "        centr = 0\n",
    "        for c in cntrds:\n",
    "            dist = euc_dist(p, cntrds[c])\n",
    "            if dist < centr_dist:\n",
    "                centr_dist = dist\n",
    "                centr = c\n",
    "        clusters_new[centr].append(p)\n",
    "    \n",
    "    for cl in clusters_new:\n",
    "        centroids_new[cl] = calc_centr(clusters_new[cl])\n",
    "        \n",
    "    return clusters_new, centroids_new"
   ]
  },
  {
   "cell_type": "code",
   "execution_count": 32,
   "metadata": {
    "collapsed": false
   },
   "outputs": [],
   "source": [
    "# round 1 of clustering\n",
    "\n",
    "cluster1, centr1 = clustering(centroids, first_assign, 1)"
   ]
  },
  {
   "cell_type": "code",
   "execution_count": 33,
   "metadata": {
    "collapsed": false
   },
   "outputs": [
    {
     "data": {
      "text/plain": [
       "defaultdict(<type 'list'>, {1: [(25, 125), (28, 145), (50, 130)], 2: [(44, 105), (65, 140), (38, 115), (55, 118), (50, 90), (63, 88)], 3: [(29, 97), (43, 83)], 4: [(35, 63)], 5: [(55, 63), (50, 60)], 6: [(42, 57)], 7: [(23, 40)], 8: [(64, 37)], 9: [(33, 22)], 10: [(55, 20), (50, 30)]})"
      ]
     },
     "execution_count": 33,
     "metadata": {},
     "output_type": "execute_result"
    }
   ],
   "source": [
    "cluster1"
   ]
  },
  {
   "cell_type": "code",
   "execution_count": 34,
   "metadata": {
    "collapsed": false
   },
   "outputs": [
    {
     "data": {
      "text/plain": [
       "{1: (34.333333333333336, 133.33333333333334),\n",
       " 2: (52.5, 109.33333333333333),\n",
       " 3: (36.0, 90.0),\n",
       " 4: (35.0, 63.0),\n",
       " 5: (52.5, 61.5),\n",
       " 6: (42.0, 57.0),\n",
       " 7: (23.0, 40.0),\n",
       " 8: (64.0, 37.0),\n",
       " 9: (33.0, 22.0),\n",
       " 10: (52.5, 25.0)}"
      ]
     },
     "execution_count": 34,
     "metadata": {},
     "output_type": "execute_result"
    }
   ],
   "source": [
    "centr1"
   ]
  },
  {
   "cell_type": "code",
   "execution_count": 35,
   "metadata": {
    "collapsed": false
   },
   "outputs": [
    {
     "data": {
      "text/plain": [
       "(defaultdict(<type 'list'>, {1: [(28, 145), (65, 140), (50, 130), (25, 125)], 2: [(38, 115), (55, 118), (44, 105), (63, 88)], 3: [(29, 97), (50, 90), (43, 83)], 4: [(35, 63)], 5: [(55, 63), (50, 60)], 6: [(42, 57)], 7: [(23, 40)], 8: [(64, 37)], 9: [(33, 22)], 10: [(50, 30), (55, 20)]}),\n",
       " {1: (42.0, 135.0),\n",
       "  2: (50.0, 106.5),\n",
       "  3: (40.666666666666664, 90.0),\n",
       "  4: (35.0, 63.0),\n",
       "  5: (52.5, 61.5),\n",
       "  6: (42.0, 57.0),\n",
       "  7: (23.0, 40.0),\n",
       "  8: (64.0, 37.0),\n",
       "  9: (33.0, 22.0),\n",
       "  10: (52.5, 25.0)})"
      ]
     },
     "execution_count": 35,
     "metadata": {},
     "output_type": "execute_result"
    }
   ],
   "source": [
    "# round 2 of clustering \n",
    "\n",
    "clustering(centr1, points, 0)"
   ]
  },
  {
   "cell_type": "code",
   "execution_count": 36,
   "metadata": {
    "collapsed": true
   },
   "outputs": [],
   "source": [
    "# answer: The point (65,140) is reassigned after computation of centroids.\n",
    "# round 1 - centroid 2\n",
    "# round 2 - centroid 1"
   ]
  },
  {
   "cell_type": "markdown",
   "metadata": {},
   "source": [
    "## Question 2"
   ]
  },
  {
   "cell_type": "markdown",
   "metadata": {},
   "source": [
    "When performing a k-means clustering, success depends very much on the initially chosen points. Suppose that we choose two centroids (a,b) = (5,10) and (c,d) = (20,5), and the data truly belongs to two rectangular clusters, as suggested by the following diagram:\n",
    "<img src=\"images/otc_sq-clust.gif\">\n",
    "Under what circumstances will the initial clustering be successful? That is, under what conditions will all the yellow points be assigned to the centroid (5,10), while all of the blue points are assigned to cluster (20,5))? "
   ]
  },
  {
   "cell_type": "markdown",
   "metadata": {},
   "source": [
    "// do not run\n",
    "\n",
    "Identify in the list below, a pair of rectangles (described by their upper left corner, UL, and their lower-right corner LR) that are successfully clustered.\n",
    "\n",
    "Yellow: UL=(7,12) and LR=(12,8); Blue: UL=(16,16) and LR=(18,5)\n",
    "Yellow: UL=(6,15) and LR=(13,7); Blue: UL=(16,16) and LR=(18,5)\n",
    "Yellow: UL=(6,7) and LR=(11,4); Blue: UL=(11,5) and LR=(17,2)\n",
    "Yellow: UL=(3,3) and LR=(10,1); Blue: UL=(13,10) and LR=(16,4)"
   ]
  },
  {
   "cell_type": "code",
   "execution_count": 124,
   "metadata": {
    "collapsed": true
   },
   "outputs": [],
   "source": [
    "ab = (5,10) # yellow\n",
    "cd = (20,5) # blue"
   ]
  },
  {
   "cell_type": "code",
   "execution_count": 74,
   "metadata": {
    "collapsed": true
   },
   "outputs": [],
   "source": [
    "yellows = {'y1':[(7,12),(12,8)],'y2':[(6,15),(13,7)],'y3':[(6,7),(11,4)],'y4':[(3,3),(10,1)]}"
   ]
  },
  {
   "cell_type": "code",
   "execution_count": 86,
   "metadata": {
    "collapsed": true
   },
   "outputs": [],
   "source": [
    "blues = {'b1':[(16,16),(18,5)],'b2':[(16,16),(18,5)],'b3':[(11,5),(17,2)],'b4':[(13,10),(16,4)]}"
   ]
  },
  {
   "cell_type": "code",
   "execution_count": 85,
   "metadata": {
    "collapsed": false
   },
   "outputs": [
    {
     "name": "stdout",
     "output_type": "stream",
     "text": [
      "y1 (9.5, 10.0) 4.5 11.6297033496\n",
      "y3 (8.5, 5.5) 5.7008771255 11.5108644332\n",
      "y2 (9.5, 11.0) 4.60977222865 12.0933866224\n",
      "y4 (6.5, 2.0) 8.13941029805 13.8293166859\n"
     ]
    }
   ],
   "source": [
    "for y in yellows:\n",
    "    UL_x = yellows[y][0][0]\n",
    "    UL_y = yellows[y][0][1]\n",
    "    LR_x = yellows[y][1][0]\n",
    "    LR_y = yellows[y][1][1]\n",
    "    centr = (UL_x + (LR_x - UL_x)/2., LR_y + (UL_y - LR_y)/2.)\n",
    "    print y, centr, euc_dist(ab, centr), euc_dist(cd, centr)"
   ]
  },
  {
   "cell_type": "code",
   "execution_count": 88,
   "metadata": {
    "collapsed": false
   },
   "outputs": [
    {
     "name": "stdout",
     "output_type": "stream",
     "text": [
      "b4 (14.5, 7.0) 9.96242942259 5.85234995536\n",
      "b1 (17.0, 10.5) 12.0104121495 6.26498204307\n",
      "b2 (17.0, 10.5) 12.0104121495 6.26498204307\n",
      "b3 (14.0, 3.5) 11.1018016556 6.18465843843\n"
     ]
    }
   ],
   "source": [
    "for b in blues:\n",
    "    UL_x = blues[b][0][0]\n",
    "    UL_y = blues[b][0][1]\n",
    "    LR_x = blues[b][1][0]\n",
    "    LR_y = blues[b][1][1]\n",
    "    centr = (UL_x + (LR_x - UL_x)/2., LR_y + (UL_y - LR_y)/2.)\n",
    "    print b, centr, euc_dist(ab, centr), euc_dist(cd, centr)"
   ]
  },
  {
   "cell_type": "code",
   "execution_count": 89,
   "metadata": {
    "collapsed": true
   },
   "outputs": [],
   "source": [
    "# clustering by centroids provided no great insight\n",
    "# will next have to compare closest rect sides to each respective centroid"
   ]
  },
  {
   "cell_type": "code",
   "execution_count": 109,
   "metadata": {
    "collapsed": false
   },
   "outputs": [
    {
     "name": "stdout",
     "output_type": "stream",
     "text": [
      "y1\n",
      "ab: 7.28010988928\n",
      "cd: 8.54400374532\n",
      "\n",
      "y3\n",
      "ab: 8.48528137424\n",
      "cd: 9.05538513814\n",
      "\n",
      "y2\n",
      "ab: 8.54400374532\n",
      "cd: 7.28010988928\n",
      "\n",
      "y4\n",
      "ab: 10.295630141\n",
      "cd: 10.7703296143\n",
      "\n"
     ]
    }
   ],
   "source": [
    "for y in yellows:\n",
    "    UL = yellows[y][0]\n",
    "    LR = yellows[y][1]\n",
    "    print y\n",
    "    print 'ab: ' + str(euc_dist(ab,LR))\n",
    "    print 'cd: ' + str(euc_dist(cd,LR))\n",
    "    print ''"
   ]
  },
  {
   "cell_type": "code",
   "execution_count": 111,
   "metadata": {
    "collapsed": false
   },
   "outputs": [
    {
     "name": "stdout",
     "output_type": "stream",
     "text": [
      "b4\n",
      "ab: 8.0\n",
      "cd: 8.60232526704\n",
      "\n",
      "b1\n",
      "ab: 12.5299640861\n",
      "cd: 11.7046999107\n",
      "\n",
      "b2\n",
      "ab: 12.5299640861\n",
      "cd: 11.7046999107\n",
      "\n",
      "b3\n",
      "ab: 7.81024967591\n",
      "cd: 9.0\n",
      "\n"
     ]
    }
   ],
   "source": [
    "for b in blues:\n",
    "    UL = blues[b][0]\n",
    "    LR = blues[b][1]\n",
    "    print b\n",
    "    print 'ab: ' + str(euc_dist(ab,UL))\n",
    "    print 'cd: ' + str(euc_dist(cd,UL))\n",
    "    print ''"
   ]
  },
  {
   "cell_type": "code",
   "execution_count": 112,
   "metadata": {
    "collapsed": true
   },
   "outputs": [],
   "source": [
    "# CONDENSED DOWN VERSION IN TWO CELLS BELOW\n",
    "\n",
    "rects = {1:{'y':[(7,12),(12,8)], 'b':[(16,16),(18,5)]},\n",
    "         2:{'y':[(6,15),(13,7)], 'b':[(16,16),(18,5)]},\n",
    "         3:{'y':[(6,7),(11,4)], 'b':[(11,5),(17,2)]},\n",
    "         4:{'y':[(3,3),(10,1)], 'b':[(13,10),(16,4)]}\n",
    "        }"
   ]
  },
  {
   "cell_type": "code",
   "execution_count": 125,
   "metadata": {
    "collapsed": true
   },
   "outputs": [],
   "source": [
    "rects = {1:{'y':[(6,7),(11,4)], 'b':[(14,10),(23,6)]},\n",
    "         2:{'y':[(3,15),(13,7)], 'b':[(11,5),(17,2)]},\n",
    "         3:{'y':[(6,7),(11,4)], 'b':[(11,5),(17,2)]},\n",
    "         4:{'y':[(7,8),(12,5)], 'b':[(15,14),(20,10)]}\n",
    "        }"
   ]
  },
  {
   "cell_type": "code",
   "execution_count": 129,
   "metadata": {
    "collapsed": true
   },
   "outputs": [],
   "source": [
    "rects = {1:{'y':[(7,8),(12,5)], 'b':[(13,10),(16,4)]},\n",
    "         2:{'y':[(6,7),(11,4)], 'b':[(11,5),(17,2)]},\n",
    "         3:{'y':[(6,7),(11,4)], 'b':[(14,10),(23,6)]},\n",
    "         4:{'y':[(3,3),(10,1)], 'b':[(13,10),(16,4)]}\n",
    "        }"
   ]
  },
  {
   "cell_type": "code",
   "execution_count": 130,
   "metadata": {
    "collapsed": true
   },
   "outputs": [],
   "source": [
    "rects = {1:{'y':[(7,8),(12,5)], 'b':[(13,10),(16,4)]},\n",
    "         2:{'y':[(6,15),(13,7)], 'b':[(16,19),(25,12)]},\n",
    "         3:{'y':[(7,8),(12,5)], 'b':[(15,14),(20,10)]},\n",
    "         4:{'y':[(7,12),(12,8)], 'b':[(16,16),(18,5)]}\n",
    "        }"
   ]
  },
  {
   "cell_type": "code",
   "execution_count": 131,
   "metadata": {
    "collapsed": false
   },
   "outputs": [
    {
     "name": "stdout",
     "output_type": "stream",
     "text": [
      "4 {'y': [(7, 12), (12, 8)], 'b': [(16, 16), (18, 5)]}\n"
     ]
    }
   ],
   "source": [
    "for r in rects:\n",
    "    LR_y = rects[r]['y'][1]\n",
    "    UL_b = rects[r]['b'][0]\n",
    "    if euc_dist(LR_y, ab) < euc_dist(LR_y, cd) and euc_dist(UL_b, ab) > euc_dist(UL_b,cd):\n",
    "        print r, rects[r]"
   ]
  },
  {
   "cell_type": "code",
   "execution_count": null,
   "metadata": {
    "collapsed": true
   },
   "outputs": [],
   "source": [
    "# answer: [first choice]\n",
    "# Yellow: UL=(7,12) and LR=(12,8); Blue: UL=(16,16) and LR=(18,5)"
   ]
  },
  {
   "cell_type": "markdown",
   "metadata": {},
   "source": [
    "## Question 3"
   ]
  },
  {
   "cell_type": "markdown",
   "metadata": {},
   "source": [
    "Suppose we apply the BALANCE algorithm with bids of 0 or 1 only, to a situation where advertiser A bids on query words x and y, while advertiser B bids on query words x and z. Both have a budget of $2. Identify in the list below a sequence of four queries that will certainly be handled optimally by the algorithm."
   ]
  },
  {
   "cell_type": "markdown",
   "metadata": {},
   "source": [
    "// do not run\n",
    "\n",
    "xxxz\n",
    "zzxz\n",
    "xzzx\n",
    "xyyx"
   ]
  },
  {
   "cell_type": "markdown",
   "metadata": {},
   "source": [
    "## Question 4"
   ]
  },
  {
   "cell_type": "markdown",
   "metadata": {},
   "source": [
    "The set cover problem is: given a list of sets, find a smallest collection of these sets such that every element in any of the sets is in at least one set of the collection. As we form a collection, we say an element is covered if it is in at least one set of the collection. Note: In this problem, we shall represent sets by concatenating their elements, without brackets or commas. For example, {A,B} will be represented simply as AB. There are many greedy algorithms that could be used to pick a collection of sets that is close to as small as possible. Here are some that you will consider in this problem. "
   ]
  },
  {
   "cell_type": "markdown",
   "metadata": {},
   "source": [
    "Dumb: Select sets for the collection in the order in which they appear on the list. Stop when all elements are covered. "
   ]
  },
  {
   "cell_type": "markdown",
   "metadata": {},
   "source": [
    "Simple: Consider sets in the order in which they appear on the list. When it is considered, select a set if it has at least one element that is not already covered. Stop when all elements are covered. "
   ]
  },
  {
   "cell_type": "markdown",
   "metadata": {},
   "source": [
    "Largest-First: Consider sets in order of their size. If there are ties, break the tie in favor of the one that appears first on the list. When it is considered, select a set if it has at least one element that is not already covered. Stop when all elements are covered. "
   ]
  },
  {
   "cell_type": "markdown",
   "metadata": {},
   "source": [
    "Most-Help: Consider sets in order of the number of elements they contain that are not already covered. If there are ties, break the tie in favor of the one that appears first on the list. Stop when all elements are covered. "
   ]
  },
  {
   "cell_type": "markdown",
   "metadata": {},
   "source": [
    "Here is a list of sets: AB, BC, CD, DE, EF, FG, GH, AH, ADG, ADF First, determine the optimum solution, that is, the fewest sets that can be selected for a collection that covers all eight elements A,B,...,H. Then, determine the sizes of the collections that will be constructed by each of the four algorithms mentioned above. Compute the ratio of the size returned by the algorithm to the optimum size, and identify one of these ratios in the list below, correct to two decimal places."
   ]
  },
  {
   "cell_type": "markdown",
   "metadata": {},
   "source": [
    "// do not run\n",
    "\n",
    "The ratio for Simple is 2.33\n",
    "The ratio for Dumb is 1.75\n",
    "The ratio for Dumb is 2.33\n",
    "The ratio for Largest-First is 1.25"
   ]
  },
  {
   "cell_type": "code",
   "execution_count": 40,
   "metadata": {
    "collapsed": true
   },
   "outputs": [],
   "source": [
    "list_sets = [('A','B'),\n",
    "             ('B','C'),\n",
    "             ('C','D'),\n",
    "             ('D','E'),\n",
    "             ('E','F'),\n",
    "             ('F','G'),\n",
    "             ('G','H'),\n",
    "             ('A','H'),\n",
    "             ('A','D','G'),\n",
    "             ('A','D','F')\n",
    "            ]"
   ]
  },
  {
   "cell_type": "code",
   "execution_count": 44,
   "metadata": {
    "collapsed": false
   },
   "outputs": [
    {
     "data": {
      "text/plain": [
       "['A', 'B', 'C', 'D', 'E', 'F', 'G', 'H']"
      ]
     },
     "execution_count": 44,
     "metadata": {},
     "output_type": "execute_result"
    }
   ],
   "source": [
    "complete = ['A','B','C','D','E','F','G','H']\n",
    "complete"
   ]
  },
  {
   "cell_type": "code",
   "execution_count": 78,
   "metadata": {
    "collapsed": false
   },
   "outputs": [
    {
     "data": {
      "text/plain": [
       "'B'"
      ]
     },
     "execution_count": 78,
     "metadata": {},
     "output_type": "execute_result"
    }
   ],
   "source": []
  },
  {
   "cell_type": "code",
   "execution_count": 79,
   "metadata": {
    "collapsed": false
   },
   "outputs": [
    {
     "data": {
      "text/plain": [
       "True"
      ]
     },
     "execution_count": 79,
     "metadata": {},
     "output_type": "execute_result"
    }
   ],
   "source": [
    "set(['D','A']).issubset(list_sets[-1])"
   ]
  },
  {
   "cell_type": "code",
   "execution_count": 80,
   "metadata": {
    "collapsed": false
   },
   "outputs": [
    {
     "data": {
      "text/plain": [
       "{'A', 'D'}"
      ]
     },
     "execution_count": 80,
     "metadata": {},
     "output_type": "execute_result"
    }
   ],
   "source": [
    "set(['D','A']) & set(list_sets[-1])"
   ]
  },
  {
   "cell_type": "code",
   "execution_count": 88,
   "metadata": {
    "collapsed": false
   },
   "outputs": [
    {
     "data": {
      "text/plain": [
       "False"
      ]
     },
     "execution_count": 88,
     "metadata": {},
     "output_type": "execute_result"
    }
   ],
   "source": [
    "set(list_sets[-1]).issubset(['A','D'])"
   ]
  },
  {
   "cell_type": "code",
   "execution_count": 89,
   "metadata": {
    "collapsed": false
   },
   "outputs": [
    {
     "data": {
      "text/plain": [
       "{'A', 'D'}"
      ]
     },
     "execution_count": 89,
     "metadata": {},
     "output_type": "execute_result"
    }
   ],
   "source": [
    "set(['D','A']).intersection(list_sets[-1])"
   ]
  },
  {
   "cell_type": "code",
   "execution_count": 118,
   "metadata": {
    "collapsed": false
   },
   "outputs": [],
   "source": [
    "def simple(l):\n",
    "    picks = []\n",
    "    while (set(picks) != set(complete)):\n",
    "        for i in l:\n",
    "            print set(picks) == set(complete), set(picks), set(complete)\n",
    "            for j in i:\n",
    "                picks.append(j)\n",
    "    return picks"
   ]
  },
  {
   "cell_type": "code",
   "execution_count": 119,
   "metadata": {
    "collapsed": false
   },
   "outputs": [
    {
     "name": "stdout",
     "output_type": "stream",
     "text": [
      "False set([]) set(['A', 'C', 'B', 'E', 'D', 'G', 'F', 'H'])\n",
      "False set(['A', 'B']) set(['A', 'C', 'B', 'E', 'D', 'G', 'F', 'H'])\n",
      "False set(['A', 'C', 'B']) set(['A', 'C', 'B', 'E', 'D', 'G', 'F', 'H'])\n",
      "False set(['A', 'C', 'B', 'D']) set(['A', 'C', 'B', 'E', 'D', 'G', 'F', 'H'])\n",
      "False set(['A', 'C', 'B', 'E', 'D']) set(['A', 'C', 'B', 'E', 'D', 'G', 'F', 'H'])\n",
      "False set(['A', 'C', 'B', 'E', 'D', 'F']) set(['A', 'C', 'B', 'E', 'D', 'G', 'F', 'H'])\n",
      "False set(['A', 'C', 'B', 'E', 'D', 'G', 'F']) set(['A', 'C', 'B', 'E', 'D', 'G', 'F', 'H'])\n",
      "True set(['A', 'C', 'B', 'E', 'D', 'G', 'F', 'H']) set(['A', 'C', 'B', 'E', 'D', 'G', 'F', 'H'])\n",
      "True set(['A', 'C', 'B', 'E', 'D', 'G', 'F', 'H']) set(['A', 'C', 'B', 'E', 'D', 'G', 'F', 'H'])\n",
      "True set(['A', 'C', 'B', 'E', 'D', 'G', 'F', 'H']) set(['A', 'C', 'B', 'E', 'D', 'G', 'F', 'H'])\n"
     ]
    },
    {
     "data": {
      "text/plain": [
       "['A',\n",
       " 'B',\n",
       " 'B',\n",
       " 'C',\n",
       " 'C',\n",
       " 'D',\n",
       " 'D',\n",
       " 'E',\n",
       " 'E',\n",
       " 'F',\n",
       " 'F',\n",
       " 'G',\n",
       " 'G',\n",
       " 'H',\n",
       " 'A',\n",
       " 'H',\n",
       " 'A',\n",
       " 'D',\n",
       " 'G',\n",
       " 'A',\n",
       " 'D',\n",
       " 'F']"
      ]
     },
     "execution_count": 119,
     "metadata": {},
     "output_type": "execute_result"
    }
   ],
   "source": [
    "simple(list_sets)"
   ]
  },
  {
   "cell_type": "code",
   "execution_count": 86,
   "metadata": {
    "collapsed": false
   },
   "outputs": [],
   "source": [
    "def simple2(l):\n",
    "    picks = []\n",
    "    if set(complete) & set(picks) == set(complete):\n",
    "        return picks\n",
    "    else:\n",
    "        for i in l:\n",
    "            for j in i:\n",
    "                picks.append(j)"
   ]
  },
  {
   "cell_type": "code",
   "execution_count": 87,
   "metadata": {
    "collapsed": true
   },
   "outputs": [],
   "source": [
    "simple2(list_sets)"
   ]
  },
  {
   "cell_type": "code",
   "execution_count": 92,
   "metadata": {
    "collapsed": false
   },
   "outputs": [
    {
     "data": {
      "text/plain": [
       "True"
      ]
     },
     "execution_count": 92,
     "metadata": {},
     "output_type": "execute_result"
    }
   ],
   "source": [
    "temp = []\n",
    "for i in list_sets:\n",
    "    for j in i:\n",
    "        temp.append(j)\n",
    "        \n",
    "set(temp) == set(complete)"
   ]
  },
  {
   "cell_type": "markdown",
   "metadata": {},
   "source": [
    "## Question 5"
   ]
  },
  {
   "cell_type": "markdown",
   "metadata": {},
   "source": [
    "This bipartite graph:\n",
    "<img src=\"images/otc.gif\">\n",
    "Has several perfect matchings. Find all the perfect matchings and then identify, in the list below, a pair of edges that can appear together in a perfect matching."
   ]
  },
  {
   "cell_type": "markdown",
   "metadata": {},
   "source": [
    "// do not run\n",
    "\n",
    "a1-b2 and a4-b4\n",
    "a1-b2 and a2-b0\n",
    "a4-b3 and a2-b0\n",
    "a2-b4 and a1-b2"
   ]
  },
  {
   "cell_type": "code",
   "execution_count": 102,
   "metadata": {
    "collapsed": true
   },
   "outputs": [],
   "source": [
    "matches = {'a0':['b0','b1'], 'a1':['b2','b3'], 'a2':['b0','b4'],\n",
    "           'a3':['b1','b2'], 'a4':['b3','b4']}"
   ]
  },
  {
   "cell_type": "code",
   "execution_count": 103,
   "metadata": {
    "collapsed": false
   },
   "outputs": [],
   "source": [
    "a_s = ['a0','a1','a2','a3','a4']\n",
    "b_s = ['b0','b1','b2','b3','b4']"
   ]
  },
  {
   "cell_type": "code",
   "execution_count": 73,
   "metadata": {
    "collapsed": false
   },
   "outputs": [
    {
     "name": "stdout",
     "output_type": "stream",
     "text": [
      "a0 b0\n",
      "a0 b1\n",
      "a1 b2\n",
      "a1 b3\n",
      "a2 b4\n"
     ]
    }
   ],
   "source": [
    "# for a in a_s:\n",
    "#     for b in matches[a]:\n",
    "#         if b in b_s:\n",
    "#             print a, b\n",
    "#             b_s.pop(b_s.index(b))"
   ]
  },
  {
   "cell_type": "code",
   "execution_count": 100,
   "metadata": {
    "collapsed": false
   },
   "outputs": [
    {
     "name": "stdout",
     "output_type": "stream",
     "text": [
      "a0 a1 a2 a3 a4\n",
      "-- -- -- -- --\n",
      "b0 b2 b4 b1 b3\n",
      "b1 b3 b0 b2 b4\n"
     ]
    }
   ],
   "source": [
    "print 'a0', 'a1', 'a2', 'a3', 'a4'\n",
    "print '-- -- -- -- --'\n",
    "\n",
    "for i in matches['a0']:\n",
    "    for j in matches['a1']:\n",
    "        for k in matches['a2']:\n",
    "            for l in matches['a3']:\n",
    "                for m in matches['a4']:\n",
    "                    if len(set([i, j, k, l, m])) > 4:\n",
    "                        print i, j, k, l, m\n",
    "        "
   ]
  },
  {
   "cell_type": "code",
   "execution_count": 101,
   "metadata": {
    "collapsed": false
   },
   "outputs": [],
   "source": [
    "# a2-b4 and a1-b2"
   ]
  },
  {
   "cell_type": "code",
   "execution_count": null,
   "metadata": {
    "collapsed": true
   },
   "outputs": [],
   "source": []
  }
 ],
 "metadata": {
  "kernelspec": {
   "display_name": "Python 2",
   "language": "python",
   "name": "python2"
  },
  "language_info": {
   "codemirror_mode": {
    "name": "ipython",
    "version": 2
   },
   "file_extension": ".py",
   "mimetype": "text/x-python",
   "name": "python",
   "nbconvert_exporter": "python",
   "pygments_lexer": "ipython2",
   "version": "2.7.10"
  }
 },
 "nbformat": 4,
 "nbformat_minor": 0
}
