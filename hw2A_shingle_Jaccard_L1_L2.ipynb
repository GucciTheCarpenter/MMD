{
 "cells": [
  {
   "cell_type": "code",
   "execution_count": 1,
   "metadata": {
    "collapsed": true
   },
   "outputs": [],
   "source": [
    "import numpy as np"
   ]
  },
  {
   "cell_type": "code",
   "execution_count": null,
   "metadata": {
    "collapsed": true
   },
   "outputs": [],
   "source": []
  },
  {
   "cell_type": "markdown",
   "metadata": {},
   "source": [
    "## Question 4"
   ]
  },
  {
   "cell_type": "code",
   "execution_count": 2,
   "metadata": {
    "collapsed": true
   },
   "outputs": [],
   "source": [
    "doc1 = 'ABRACADABRA'\n",
    "doc2 = 'BRICABRAC'"
   ]
  },
  {
   "cell_type": "code",
   "execution_count": 57,
   "metadata": {
    "collapsed": false
   },
   "outputs": [],
   "source": [
    "# shingle extraction function\n",
    "\n",
    "def shingle2(x):\n",
    "    idx = 0\n",
    "    s = []\n",
    "    while idx < len(x)-1:\n",
    "        sh2 = x[idx] + x[idx+1]\n",
    "        s.append(sh2)\n",
    "        idx += 1\n",
    "\n",
    "    return set(s) "
   ]
  },
  {
   "cell_type": "code",
   "execution_count": 62,
   "metadata": {
    "collapsed": false
   },
   "outputs": [
    {
     "data": {
      "text/plain": [
       "({'AB', 'AC', 'AD', 'BR', 'CA', 'DA', 'RA'}, 7)"
      ]
     },
     "execution_count": 62,
     "metadata": {},
     "output_type": "execute_result"
    }
   ],
   "source": [
    "# 1. How many 2-shingles does ABRACADABRA have?\n",
    "# answer: 7\n",
    "\n",
    "x = shingle2(doc1)\n",
    "x, len(x)"
   ]
  },
  {
   "cell_type": "code",
   "execution_count": 61,
   "metadata": {
    "collapsed": false
   },
   "outputs": [
    {
     "data": {
      "text/plain": [
       "({'AB', 'AC', 'BR', 'CA', 'IC', 'RA', 'RI'}, 7)"
      ]
     },
     "execution_count": 61,
     "metadata": {},
     "output_type": "execute_result"
    }
   ],
   "source": [
    "# 2. How many 2-shingles does BRICABRAC have?\n",
    "# answer: 7\n",
    "\n",
    "y = shingle2(doc2)\n",
    "y, len(y)"
   ]
  },
  {
   "cell_type": "code",
   "execution_count": 63,
   "metadata": {
    "collapsed": false
   },
   "outputs": [
    {
     "data": {
      "text/plain": [
       "({'AB', 'AC', 'BR', 'CA', 'RA'}, 5)"
      ]
     },
     "execution_count": 63,
     "metadata": {},
     "output_type": "execute_result"
    }
   ],
   "source": [
    "# 3. How many 2-shingles do they have in common?\n",
    "# answer: 5\n",
    "\n",
    "z = set.intersection(*[x,y])\n",
    "z, len(z)"
   ]
  },
  {
   "cell_type": "markdown",
   "metadata": {},
   "source": [
    "<img src='images/jac_sim.JPG'>"
   ]
  },
  {
   "cell_type": "code",
   "execution_count": 71,
   "metadata": {
    "collapsed": false
   },
   "outputs": [
    {
     "name": "stdout",
     "output_type": "stream",
     "text": [
      "set(['AC', 'AB', 'AD', 'CA', 'DA', 'RA', 'BR', 'IC', 'RI'])\n",
      "9\n",
      "0.555555555556\n"
     ]
    }
   ],
   "source": [
    "# 4. What is the Jaccard similarity between the two documents?\n",
    "# answer: 0.55\n",
    "\n",
    "#union = set().union(*[x,y])\n",
    "union = x | y\n",
    "j_sim = float(len(z))/float(len(union))\n",
    "print union\n",
    "print len(union)\n",
    "print j_sim"
   ]
  },
  {
   "cell_type": "markdown",
   "metadata": {
    "collapsed": true
   },
   "source": [
    "## Question 6"
   ]
  },
  {
   "cell_type": "code",
   "execution_count": 17,
   "metadata": {
    "collapsed": true
   },
   "outputs": [],
   "source": [
    "def l1_norm(X,Y):\n",
    "    return abs(X[0]-Y[0]) + abs(X[1]-Y[1])"
   ]
  },
  {
   "cell_type": "code",
   "execution_count": 6,
   "metadata": {
    "collapsed": true
   },
   "outputs": [],
   "source": [
    "def l2_norm(X,Y):\n",
    "    return ((X[0] - Y[0])**2 + (X[1] - Y[1])**2)**.5"
   ]
  },
  {
   "cell_type": "code",
   "execution_count": 2,
   "metadata": {
    "collapsed": true
   },
   "outputs": [],
   "source": [
    "pt1 = [0,0]\n",
    "pt2 = [100,40]"
   ]
  },
  {
   "cell_type": "code",
   "execution_count": 3,
   "metadata": {
    "collapsed": true
   },
   "outputs": [],
   "source": [
    "cand_list = [[55,5], [51,15], [58,13], [57,5]]"
   ]
  },
  {
   "cell_type": "code",
   "execution_count": 19,
   "metadata": {
    "collapsed": false
   },
   "outputs": [
    {
     "name": "stdout",
     "output_type": "stream",
     "text": [
      "[55, 5]\n",
      "L1 dist to Pt1: 60; L1 dist to Pt2: 80\n",
      "L2 dist to Pt1: 55.2268050859; L2 dist to Pt2: 57.008771255\n",
      "[51, 15]\n",
      "L1 dist to Pt1: 66; L1 dist to Pt2: 74\n",
      "L2 dist to Pt1: 53.16013544; L2 dist to Pt2: 55.0090901579\n",
      "[58, 13]\n",
      "L1 dist to Pt1: 71; L1 dist to Pt2: 69\n",
      "L2 dist to Pt1: 59.4390444069; L2 dist to Pt2: 49.9299509313\n",
      "[57, 5]\n",
      "L1 dist to Pt1: 62; L1 dist to Pt2: 78\n",
      "L2 dist to Pt1: 57.2188780037; L2 dist to Pt2: 55.4436651025\n"
     ]
    }
   ],
   "source": [
    "for i in cand_list:\n",
    "    print str(i)\n",
    "    print \"L1 dist to Pt1: \" + str(l1_norm(i, pt1)) + \"; L1 dist to Pt2: \" + str(l1_norm(i, pt2))\n",
    "    print \"L2 dist to Pt1: \" + str(l2_norm(i, pt1)) + \"; L2 dist to Pt2: \" + str(l2_norm(i, pt2))"
   ]
  },
  {
   "cell_type": "code",
   "execution_count": 21,
   "metadata": {
    "collapsed": false
   },
   "outputs": [
    {
     "name": "stdout",
     "output_type": "stream",
     "text": [
      "[57, 5]\n"
     ]
    }
   ],
   "source": [
    "for i in cand_list:\n",
    "    if l1_norm(i, pt1) < l1_norm(i, pt2) and l2_norm(i, pt1) > l2_norm(i, pt2):\n",
    "        print i"
   ]
  },
  {
   "cell_type": "code",
   "execution_count": null,
   "metadata": {
    "collapsed": true
   },
   "outputs": [],
   "source": []
  }
 ],
 "metadata": {
  "kernelspec": {
   "display_name": "Python 2",
   "language": "python",
   "name": "python2"
  },
  "language_info": {
   "codemirror_mode": {
    "name": "ipython",
    "version": 2
   },
   "file_extension": ".py",
   "mimetype": "text/x-python",
   "name": "python",
   "nbconvert_exporter": "python",
   "pygments_lexer": "ipython2",
   "version": "2.7.10"
  }
 },
 "nbformat": 4,
 "nbformat_minor": 0
}
