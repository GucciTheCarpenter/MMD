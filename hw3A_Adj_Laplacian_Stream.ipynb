{
 "cells": [
  {
   "cell_type": "code",
   "execution_count": 10,
   "metadata": {
    "collapsed": true
   },
   "outputs": [],
   "source": [
    "import pandas as pd\n",
    "import numpy as np"
   ]
  },
  {
   "cell_type": "markdown",
   "metadata": {},
   "source": [
    "## Question 1"
   ]
  },
  {
   "cell_type": "markdown",
   "metadata": {},
   "source": [
    "<img src=\"images/3a_1.JPG\">"
   ]
  },
  {
   "cell_type": "markdown",
   "metadata": {},
   "source": [
    "Write the adjacency matrix A, the degree matrix D, and the Laplacian matrix L. For each, find the sum of all entries and the number of nonzero entries. Then identify the true statement from the list below."
   ]
  },
  {
   "cell_type": "markdown",
   "metadata": {},
   "source": [
    "The sum of the entries of D is 11.<br>\n",
    "The sum of the entries of D is 0.<br>\n",
    "D has 16 nonzero entries.<br>\n",
    "The sum of the entries of L is 0."
   ]
  },
  {
   "cell_type": "code",
   "execution_count": 8,
   "metadata": {
    "collapsed": false
   },
   "outputs": [
    {
     "data": {
      "text/plain": [
       "matrix([[0, 0, 1, 0, 0, 1, 0, 0],\n",
       "        [0, 0, 0, 0, 1, 0, 0, 1],\n",
       "        [1, 0, 0, 1, 0, 1, 0, 0],\n",
       "        [0, 0, 1, 0, 1, 0, 1, 0],\n",
       "        [0, 1, 0, 1, 0, 0, 0, 1],\n",
       "        [1, 0, 1, 0, 0, 0, 1, 0],\n",
       "        [0, 0, 0, 1, 0, 1, 0, 1],\n",
       "        [0, 1, 0, 0, 1, 0, 1, 0]])"
      ]
     },
     "execution_count": 8,
     "metadata": {},
     "output_type": "execute_result"
    }
   ],
   "source": [
    "# adjacency matrix A\n",
    "A = np.matrix([\n",
    "        #A, B, C, D, E, F, G, H\n",
    "        [0, 0, 1, 0, 0, 1, 0, 0], # A\n",
    "        [0, 0, 0, 0, 1, 0, 0, 1], # B\n",
    "        [1, 0, 0, 1, 0, 1, 0, 0], # C\n",
    "        [0, 0, 1, 0, 1, 0, 1, 0], # D\n",
    "        [0, 1, 0, 1, 0, 0, 0, 1], # E \n",
    "        [1, 0, 1, 0, 0, 0, 1, 0], # F\n",
    "        [0, 0, 0, 1, 0, 1, 0, 1], # G\n",
    "        [0, 1, 0, 0, 1, 0, 1, 0]  # H\n",
    "    ])\n",
    "\n",
    "A"
   ]
  },
  {
   "cell_type": "code",
   "execution_count": 9,
   "metadata": {
    "collapsed": false
   },
   "outputs": [
    {
     "data": {
      "text/plain": [
       "matrix([[2, 0, 0, 0, 0, 0, 0, 0],\n",
       "        [0, 2, 0, 0, 0, 0, 0, 0],\n",
       "        [0, 0, 3, 0, 0, 0, 0, 0],\n",
       "        [0, 0, 0, 3, 0, 0, 0, 0],\n",
       "        [0, 0, 0, 0, 3, 0, 0, 0],\n",
       "        [0, 0, 0, 0, 0, 3, 0, 0],\n",
       "        [0, 0, 0, 0, 0, 0, 3, 0],\n",
       "        [0, 0, 0, 0, 0, 0, 0, 3]])"
      ]
     },
     "execution_count": 9,
     "metadata": {},
     "output_type": "execute_result"
    }
   ],
   "source": [
    "# degree matrix D\n",
    "D = np.matrix([\n",
    "        #A, B, C, D, E, F, G, H\n",
    "        [2, 0, 0, 0, 0, 0, 0, 0], # A\n",
    "        [0, 2, 0, 0, 0, 0, 0, 0], # B\n",
    "        [0, 0, 3, 0, 0, 0, 0, 0], # C\n",
    "        [0, 0, 0, 3, 0, 0, 0, 0], # D\n",
    "        [0, 0, 0, 0, 3, 0, 0, 0], # E\n",
    "        [0, 0, 0, 0, 0, 3, 0, 0], # F\n",
    "        [0, 0, 0, 0, 0, 0, 3, 0], # G\n",
    "        [0, 0, 0, 0, 0, 0, 0, 3]  # H\n",
    "    ])\n",
    "\n",
    "D"
   ]
  },
  {
   "cell_type": "code",
   "execution_count": 10,
   "metadata": {
    "collapsed": false
   },
   "outputs": [
    {
     "data": {
      "text/plain": [
       "matrix([[ 2,  0, -1,  0,  0, -1,  0,  0],\n",
       "        [ 0,  2,  0,  0, -1,  0,  0, -1],\n",
       "        [-1,  0,  3, -1,  0, -1,  0,  0],\n",
       "        [ 0,  0, -1,  3, -1,  0, -1,  0],\n",
       "        [ 0, -1,  0, -1,  3,  0,  0, -1],\n",
       "        [-1,  0, -1,  0,  0,  3, -1,  0],\n",
       "        [ 0,  0,  0, -1,  0, -1,  3, -1],\n",
       "        [ 0, -1,  0,  0, -1,  0, -1,  3]])"
      ]
     },
     "execution_count": 10,
     "metadata": {},
     "output_type": "execute_result"
    }
   ],
   "source": [
    "# Laplacian matrix L\n",
    "L = D - A\n",
    "L"
   ]
  },
  {
   "cell_type": "markdown",
   "metadata": {
    "collapsed": true
   },
   "source": [
    "## answer: The sum of the entries of L is 0."
   ]
  },
  {
   "cell_type": "markdown",
   "metadata": {},
   "source": [
    "## Question 2"
   ]
  },
  {
   "cell_type": "markdown",
   "metadata": {},
   "source": [
    "<img src=\"images/3a_2.JPG\">"
   ]
  },
  {
   "cell_type": "markdown",
   "metadata": {},
   "source": [
    "The goal is to find two clusters in this graph using Spectral Clustering on the Laplacian matrix. Compute the Laplacian of this graph. Then compute the second eigen vector of the Laplacian (the one corresponding to the second smallest eigenvalue).\n",
    "\n",
    "To cluster the points, we decide to split at the mean value. We say that a node is a tie if its value in the eigen-vector is exactly equal to the mean value. Let's assume that if a point is a tie, we choose its cluster at random. Identify the true statement from the list below."
   ]
  },
  {
   "cell_type": "markdown",
   "metadata": {},
   "source": [
    "1 and 3 in the same cluster<br>\n",
    "3 and 5 can either be in the same cluster or in different clusters (depending on randomness)<br>\n",
    "3 is a tie<br>\n",
    "2 and 5 are in different clusters"
   ]
  },
  {
   "cell_type": "code",
   "execution_count": 12,
   "metadata": {
    "collapsed": false
   },
   "outputs": [
    {
     "data": {
      "text/plain": [
       "matrix([[0, 1, 1, 0, 0, 0],\n",
       "        [1, 0, 0, 1, 0, 1],\n",
       "        [1, 0, 0, 1, 0, 0],\n",
       "        [0, 1, 1, 0, 1, 0],\n",
       "        [0, 0, 0, 1, 0, 1],\n",
       "        [0, 1, 0, 0, 1, 0]])"
      ]
     },
     "execution_count": 12,
     "metadata": {},
     "output_type": "execute_result"
    }
   ],
   "source": [
    "# adjacency matrix \n",
    "A2 = np.matrix([\n",
    "        #1, 2, 3, 4, 5, 6\n",
    "        [0, 1, 1, 0, 0, 0], # 1\n",
    "        [1, 0, 0, 1, 0, 1], # 2\n",
    "        [1, 0, 0, 1, 0, 0], # 3\n",
    "        [0, 1, 1, 0, 1, 0], # 4\n",
    "        [0, 0, 0, 1, 0, 1], # 5\n",
    "        [0, 1, 0, 0, 1, 0] # 6\n",
    "    ])\n",
    "A2"
   ]
  },
  {
   "cell_type": "code",
   "execution_count": 13,
   "metadata": {
    "collapsed": false
   },
   "outputs": [
    {
     "data": {
      "text/plain": [
       "matrix([[2, 0, 0, 0, 0, 0],\n",
       "        [0, 3, 0, 0, 0, 0],\n",
       "        [0, 0, 2, 0, 0, 0],\n",
       "        [0, 0, 0, 3, 0, 0],\n",
       "        [0, 0, 0, 0, 2, 0],\n",
       "        [0, 0, 0, 0, 0, 2]])"
      ]
     },
     "execution_count": 13,
     "metadata": {},
     "output_type": "execute_result"
    }
   ],
   "source": [
    "D2 = np.matrix([\n",
    "        #1, 2, 3, 4, 5, 6\n",
    "        [2, 0, 0, 0, 0, 0], # 1\n",
    "        [0, 3, 0, 0, 0, 0], # 2\n",
    "        [0, 0, 2, 0, 0, 0], # 3\n",
    "        [0, 0, 0, 3, 0, 0], # 4\n",
    "        [0, 0, 0, 0, 2, 0], # 5\n",
    "        [0, 0, 0, 0, 0, 2]  # 6\n",
    "    ])\n",
    "\n",
    "D2"
   ]
  },
  {
   "cell_type": "code",
   "execution_count": 14,
   "metadata": {
    "collapsed": false
   },
   "outputs": [
    {
     "data": {
      "text/plain": [
       "matrix([[ 2, -1, -1,  0,  0,  0],\n",
       "        [-1,  3,  0, -1,  0, -1],\n",
       "        [-1,  0,  2, -1,  0,  0],\n",
       "        [ 0, -1, -1,  3, -1,  0],\n",
       "        [ 0,  0,  0, -1,  2, -1],\n",
       "        [ 0, -1,  0,  0, -1,  2]])"
      ]
     },
     "execution_count": 14,
     "metadata": {},
     "output_type": "execute_result"
    }
   ],
   "source": [
    "L2 = D2 - A2\n",
    "L2"
   ]
  },
  {
   "cell_type": "code",
   "execution_count": 16,
   "metadata": {
    "collapsed": false
   },
   "outputs": [],
   "source": [
    "from numpy import linalg as LA"
   ]
  },
  {
   "cell_type": "code",
   "execution_count": 30,
   "metadata": {
    "collapsed": false
   },
   "outputs": [
    {
     "data": {
      "text/plain": [
       "array([  5.00000000e+00,  -4.17038366e-16,   1.00000000e+00,\n",
       "         2.00000000e+00,   3.00000000e+00,   3.00000000e+00])"
      ]
     },
     "execution_count": 30,
     "metadata": {},
     "output_type": "execute_result"
    }
   ],
   "source": [
    "w,v = LA.eig(L2)\n",
    "w"
   ]
  },
  {
   "cell_type": "code",
   "execution_count": 36,
   "metadata": {
    "collapsed": false
   },
   "outputs": [
    {
     "name": "stdout",
     "output_type": "stream",
     "text": [
      "[[-0.5]] [[ True]]\n",
      "[[ -2.23361253e-16]] [[ True]]\n",
      "[[-0.5]] [[ True]]\n",
      "[[  5.77149001e-17]] [[False]]\n",
      "[[ 0.5]] [[False]]\n",
      "[[ 0.5]] [[False]]\n"
     ]
    }
   ],
   "source": [
    "v[:,2], np.mean(v[:,2])\n",
    "\n",
    "for i in v[:,2]:\n",
    "    print i, i < np.mean(v[:,2])"
   ]
  },
  {
   "cell_type": "markdown",
   "metadata": {},
   "source": [
    "## Question 3"
   ]
  },
  {
   "cell_type": "markdown",
   "metadata": {
    "collapsed": true
   },
   "source": [
    "We wish to estimate the surprise number (2nd moment) of a data stream, using the method of AMS. It happens that our stream consists of ten different values, which we'll call 1, 2,..., 10, that cycle repeatedly. That is, at timestamps 1 through 10, the element of the stream equals the timestamp, at timestamps 11 through 20, the element is the timestamp minus 10, and so on. It is now timestamp 75, and a 5 has just been read from the stream. As a start, you should calculate the surprise number for this time.\n",
    "For our estimate of the surprise number, we shall choose three timestamps at random, and estimate the surprise number from each, using the AMS approach (length of the stream times 2m-1, where m is the number of occurrences of the element of the stream at that timestamp, considering all times from that timestamp on, to the current time). Then, our estimate will be the median of the three resulting values.\n",
    "\n",
    "You should discover the simple rules that determine the estimate derived from any given timestamp and from any set of three timestamps. Then, identify from the list below the set of three \"random\" timestamps that give the closest estimate.\n",
    "\n",
    "{3, 45, 72}<br>\n",
    "{20, 49, 53}<br>\n",
    "{30, 47, 62}<br>\n",
    "{4, 31, 72}"
   ]
  },
  {
   "cell_type": "code",
   "execution_count": 49,
   "metadata": {
    "collapsed": false
   },
   "outputs": [
    {
     "name": "stdout",
     "output_type": "stream",
     "text": [
      "1 1 8\n",
      "2 4 40\n",
      "3 9 112\n",
      "4 16 240\n",
      "5 25 440\n",
      "6 36 692\n",
      "7 49 1035\n",
      "8 64 1483\n",
      "9 81 2050\n",
      "10 100 2750\n"
     ]
    },
    {
     "data": {
      "text/plain": [
       "2750"
      ]
     },
     "execution_count": 49,
     "metadata": {},
     "output_type": "execute_result"
    }
   ],
   "source": [
    "n = 75\n",
    "sec_moment = 0\n",
    "for i in range(1,11):\n",
    "    if i <= 5:\n",
    "        sec_moment += (i**2)*8\n",
    "    else:\n",
    "        sec_moment += (i**2)*7\n",
    "    print i, i**2, sec_moment\n",
    "        \n",
    "        \n",
    "sec_moment"
   ]
  },
  {
   "cell_type": "code",
   "execution_count": 40,
   "metadata": {
    "collapsed": true
   },
   "outputs": [],
   "source": [
    "random = {1: {3, 45, 72},\n",
    "          2: {20, 49, 53},\n",
    "          3: {30, 47, 62},\n",
    "          4: {4, 31, 72}}"
   ]
  },
  {
   "cell_type": "code",
   "execution_count": 50,
   "metadata": {
    "collapsed": false
   },
   "outputs": [
    {
     "name": "stdout",
     "output_type": "stream",
     "text": [
      "1725\n",
      "1575\n",
      "1275\n",
      "1875\n"
     ]
    }
   ],
   "source": [
    "print n*(2*8-1)+n*(2*4-1)+n*(2*1-1)\n",
    "print n*(2*6-1)+n*(2*3-1)+n*(2*3-1)\n",
    "print n*(2*5-1)+n*(2*3-1)+n*(2*2-1)\n",
    "print n*(2*8-1)+n*(2*5-1)+n*(2*1-1)"
   ]
  },
  {
   "cell_type": "code",
   "execution_count": 52,
   "metadata": {
    "collapsed": false
   },
   "outputs": [
    {
     "name": "stdout",
     "output_type": "stream",
     "text": [
      "3 0\n",
      "72 7\n",
      "30 3\n",
      "26 2\n",
      "55 5\n",
      "22 2\n",
      "45 4\n",
      "13 1\n",
      "28 2\n",
      "3 0\n",
      "71 7\n",
      "44 4\n"
     ]
    }
   ],
   "source": [
    "for k in random:\n",
    "    for v in random[k]:\n",
    "        print 75 - v, (75 - v) // 10"
   ]
  },
  {
   "cell_type": "markdown",
   "metadata": {},
   "source": [
    "<img src=\"images/explain3a_3.JPG\">"
   ]
  },
  {
   "cell_type": "markdown",
   "metadata": {},
   "source": [
    "## Question 4"
   ]
  },
  {
   "cell_type": "markdown",
   "metadata": {
    "collapsed": true
   },
   "source": [
    "We wish to use the Flagolet-Martin lgorithm of Section 4.4 to count the number of distinct elements in a stream. Suppose that there ten possible elements, 1, 2,..., 10, that could appear in the stream, but only four of them have actually appeared. To make our estimate of the count of distinct elements, we hash each element to a 4-bit binary number. The element x is hashed to 3x + 7 (modulo 11). For example, element 8 hashes to 3*8+7 = 31, which is 9 modulo 11 (i.e., the remainder of 31/11 is 9). Thus, the 4-bit string for element 8 is 1001.\n",
    "A set of four of the elements 1 through 10 could give an estimate that is exact (if the estimate is 4), or too high, or too low. You should figure out under what circumstances a set of four elements falls into each of those categories. Then, identify in the list below the set of four elements that gives the exactly correct estimate."
   ]
  },
  {
   "cell_type": "markdown",
   "metadata": {},
   "source": [
    "1. {2, 6, 8, 10}\n",
    "2. {1, 5, 8, 9}\n",
    "3. {3, 4, 8, 10}\n",
    "4. {4, 5, 6, 7}"
   ]
  },
  {
   "cell_type": "code",
   "execution_count": 1,
   "metadata": {
    "collapsed": true
   },
   "outputs": [],
   "source": [
    "q4 = {'a': {2, 6, 8, 10},\n",
    "'b': {1, 5, 8, 9},\n",
    "'c': {3, 4, 8, 10},\n",
    "'d': {4, 5, 6, 7}}"
   ]
  },
  {
   "cell_type": "code",
   "execution_count": 8,
   "metadata": {
    "collapsed": false
   },
   "outputs": [
    {
     "name": "stdout",
     "output_type": "stream",
     "text": [
      "a [9, 4, 2, 3] ['1001', '0100', '0010', '0011']\n",
      "c [9, 4, 5, 8] ['1001', '0100', '0101', '1000']\n",
      "b [9, 1, 0, 10] ['1001', '0001', '0000', '1010']\n",
      "d [8, 0, 3, 6] ['1000', '0000', '0011', '0110']\n"
     ]
    }
   ],
   "source": [
    "bit_strings = {0: '0000', 1: '0001', 2: '0010', 3: '0011', 4: '0100',\n",
    "               5: '0101', 6: '0110', 7: '0111', 8: '1000', 9: '1001', \n",
    "               10: '1010'}\n",
    "\n",
    "for k in q4:\n",
    "    hash_list = []\n",
    "    bit_list = []\n",
    "    for v in q4[k]:\n",
    "        hashed = (3*v + 7) % 11\n",
    "        # print v, hashed\n",
    "        hash_list.append(hashed)\n",
    "        bit_list.append(bit_strings[hashed])\n",
    "    print k, hash_list, bit_list"
   ]
  },
  {
   "cell_type": "markdown",
   "metadata": {
    "collapsed": false
   },
   "source": [
    "<img src=\"images/explain3a_4.JPG\">"
   ]
  },
  {
   "cell_type": "code",
   "execution_count": null,
   "metadata": {
    "collapsed": true
   },
   "outputs": [],
   "source": []
  },
  {
   "cell_type": "markdown",
   "metadata": {},
   "source": [
    "## Question 5"
   ]
  },
  {
   "cell_type": "markdown",
   "metadata": {
    "collapsed": true
   },
   "source": [
    "<img src=\"images/explain3a_5.JPG\">"
   ]
  },
  {
   "cell_type": "code",
   "execution_count": null,
   "metadata": {
    "collapsed": true
   },
   "outputs": [],
   "source": []
  }
 ],
 "metadata": {
  "kernelspec": {
   "display_name": "Python 2",
   "language": "python",
   "name": "python2"
  },
  "language_info": {
   "codemirror_mode": {
    "name": "ipython",
    "version": 2
   },
   "file_extension": ".py",
   "mimetype": "text/x-python",
   "name": "python",
   "nbconvert_exporter": "python",
   "pygments_lexer": "ipython2",
   "version": "2.7.10"
  }
 },
 "nbformat": 4,
 "nbformat_minor": 0
}
