{
 "cells": [
  {
   "cell_type": "code",
   "execution_count": 1,
   "metadata": {
    "collapsed": true
   },
   "outputs": [],
   "source": [
    "import numpy as np\n",
    "import pandas as pd"
   ]
  },
  {
   "cell_type": "markdown",
   "metadata": {},
   "source": [
    "## Question 1"
   ]
  },
  {
   "cell_type": "markdown",
   "metadata": {},
   "source": [
    "Matrix M has three rows and two columns, and the columns form an orthonormal basis. One of the columns is [2/7, 3/7, 6/7]. There are many options for the second column [x,y,z]."
   ]
  },
  {
   "cell_type": "code",
   "execution_count": 35,
   "metadata": {
    "collapsed": false
   },
   "outputs": [
    {
     "data": {
      "text/plain": [
       "array([[ 0.28571429,  0.42857143,  0.85714286]])"
      ]
     },
     "execution_count": 35,
     "metadata": {},
     "output_type": "execute_result"
    }
   ],
   "source": [
    "M1_c1 = np.array([[2/7., 3/7., 6/7.]])\n",
    "M1_c1"
   ]
  },
  {
   "cell_type": "code",
   "execution_count": 36,
   "metadata": {
    "collapsed": false
   },
   "outputs": [
    {
     "data": {
      "text/plain": [
       "{'a': array([[ 0.89 , -0.346, -0.297]]),\n",
       " 'b': array([[-0.548,  0.401,  0.273]]),\n",
       " 'c': array([[ 0.702, -0.702,  0.117]]),\n",
       " 'd': array([[ 0.485, -0.485,  0.728]])}"
      ]
     },
     "execution_count": 36,
     "metadata": {},
     "output_type": "execute_result"
    }
   ],
   "source": [
    "array_dict = {}\n",
    "array_dict['a'] = np.array([[.890, -.346, -.297]])\n",
    "array_dict['b'] = np.array([[-.548, .401, .273]])\n",
    "array_dict['c'] = np.array([[.702, -.702, .117]])\n",
    "array_dict['d'] = np.array([[.485, -.485, .728]])\n",
    "array_dict"
   ]
  },
  {
   "cell_type": "code",
   "execution_count": 49,
   "metadata": {
    "collapsed": false
   },
   "outputs": [
    {
     "name": "stdout",
     "output_type": "stream",
     "text": [
      "a\n",
      "[[ 0.89  -0.346 -0.297]]\n",
      "\n",
      "[[ 1.         -0.14857143]\n",
      " [-0.14857143  1.000025  ]]\n",
      "\n",
      "c\n",
      "[[ 0.702 -0.702  0.117]]\n",
      "\n",
      "[[  1.00000000e+00   2.36318901e-18]\n",
      " [  2.36318901e-18   9.99297000e-01]]\n",
      "\n",
      "b\n",
      "[[-0.548  0.401  0.273]]\n",
      "\n",
      "[[ 1.          0.24928571]\n",
      " [ 0.24928571  0.535634  ]]\n",
      "\n",
      "d\n",
      "[[ 0.485 -0.485  0.728]]\n",
      "\n",
      "[[ 1.          0.55471429]\n",
      " [ 0.55471429  1.000434  ]]\n",
      "\n"
     ]
    }
   ],
   "source": [
    "for k in array_dict:\n",
    "    cand_matrix = np.concatenate((np.transpose(M1_c1),np.transpose(array_dict[k])), axis=1)\n",
    "    print k\n",
    "    print array_dict[k]\n",
    "    print ''\n",
    "    print np.dot(np.transpose(cand_matrix),cand_matrix)\n",
    "    print ''"
   ]
  },
  {
   "cell_type": "code",
   "execution_count": 47,
   "metadata": {
    "collapsed": false
   },
   "outputs": [
    {
     "data": {
      "text/plain": [
       "0.99929699999999988"
      ]
     },
     "execution_count": 47,
     "metadata": {},
     "output_type": "execute_result"
    }
   ],
   "source": [
    "np.sum(np.square(array_dict['c']))"
   ]
  },
  {
   "cell_type": "markdown",
   "metadata": {},
   "source": [
    "## Question 2"
   ]
  },
  {
   "cell_type": "markdown",
   "metadata": {},
   "source": [
    "Matrix M has three rows and three columns, and the columns form an orthonormal basis. One of the columns is [2/7, 3/7, 6/7] and another is [6/7, 2/7, -3/7]. Let the third column be [x,y,z]. Since the length of the vector [x,y,z] must be 1, there is a constraint that x^2+y^2+z^2 = 1. However, there are other constraints, and these other contraints can be used to deduce facts about the ratios among x, y, and z."
   ]
  },
  {
   "cell_type": "code",
   "execution_count": 53,
   "metadata": {
    "collapsed": false
   },
   "outputs": [
    {
     "data": {
      "text/plain": [
       "(matrix([['0.285714285714', '0.857142857143', 'x'],\n",
       "         ['0.428571428571', '0.285714285714', 'y'],\n",
       "         ['0.857142857143', '-0.428571428571', 'z']], \n",
       "        dtype='|S32'),\n",
       " matrix([['0.285714285714', '0.428571428571', '0.857142857143'],\n",
       "         ['0.857142857143', '0.285714285714', '-0.428571428571'],\n",
       "         ['x', 'y', 'z']], \n",
       "        dtype='|S32'))"
      ]
     },
     "execution_count": 53,
     "metadata": {},
     "output_type": "execute_result"
    }
   ],
   "source": [
    "M2 = np.transpose(\n",
    "    np.matrix([\n",
    "        [2/7., 3/7., 6/7.],\n",
    "        [6/7., 2/7., -3/7.],\n",
    "        ['x', 'y', 'z']\n",
    "    ]))\n",
    "\n",
    "M2, np.transpose(M2)"
   ]
  },
  {
   "cell_type": "markdown",
   "metadata": {},
   "source": [
    "// do not run\n",
    "\n",
    "x = +/- 3/7\n",
    "y = +/- 6/7\n",
    "z = +/- 2/7"
   ]
  },
  {
   "cell_type": "code",
   "execution_count": 62,
   "metadata": {
    "collapsed": false
   },
   "outputs": [
    {
     "name": "stdout",
     "output_type": "stream",
     "text": [
      "0.428571428571 0.857142857143 0.285714285714\n",
      "[[  1.00000000e+00   7.34693878e-01  -1.07623661e-17]\n",
      " [  7.34693878e-01   1.00000000e+00   4.89795918e-01]\n",
      " [ -1.07623661e-17   4.89795918e-01   1.00000000e+00]]\n",
      "\n",
      "0.428571428571 0.857142857143 -0.285714285714\n",
      "[[  1.00000000e+00   7.34693878e-01  -2.44897959e-01]\n",
      " [  7.34693878e-01   1.00000000e+00  -6.23084351e-18]\n",
      " [ -2.44897959e-01   2.15247321e-17   1.00000000e+00]]\n",
      "\n",
      "0.428571428571 -0.857142857143 0.285714285714\n",
      "[[  1.00000000e+00   4.53152255e-18  -1.07623661e-17]\n",
      " [  4.53152255e-18   1.00000000e+00  -6.23084351e-18]\n",
      " [ -1.07623661e-17   2.15247321e-17   1.00000000e+00]]\n",
      "\n",
      "0.428571428571 -0.857142857143 -0.285714285714\n",
      "[[  1.00000000e+00   4.53152255e-18  -2.44897959e-01]\n",
      " [  4.53152255e-18   1.00000000e+00   4.89795918e-01]\n",
      " [ -2.44897959e-01   4.89795918e-01   1.00000000e+00]]\n",
      "\n",
      "-0.428571428571 0.857142857143 0.285714285714\n",
      "[[  1.00000000e+00   4.53152255e-18  -2.44897959e-01]\n",
      " [  4.53152255e-18   1.00000000e+00   4.89795918e-01]\n",
      " [ -2.44897959e-01   4.89795918e-01   1.00000000e+00]]\n",
      "\n",
      "-0.428571428571 0.857142857143 -0.285714285714\n",
      "[[  1.00000000e+00   4.53152255e-18  -1.07623661e-17]\n",
      " [  4.53152255e-18   1.00000000e+00  -6.23084351e-18]\n",
      " [ -1.07623661e-17   2.15247321e-17   1.00000000e+00]]\n",
      "\n",
      "-0.428571428571 -0.857142857143 0.285714285714\n",
      "[[  1.00000000e+00   7.34693878e-01  -2.44897959e-01]\n",
      " [  7.34693878e-01   1.00000000e+00  -6.23084351e-18]\n",
      " [ -2.44897959e-01   2.15247321e-17   1.00000000e+00]]\n",
      "\n",
      "-0.428571428571 -0.857142857143 -0.285714285714\n",
      "[[  1.00000000e+00   7.34693878e-01  -1.07623661e-17]\n",
      " [  7.34693878e-01   1.00000000e+00   4.89795918e-01]\n",
      " [ -1.07623661e-17   4.89795918e-01   1.00000000e+00]]\n",
      "\n"
     ]
    }
   ],
   "source": [
    "xs = [3/7., -3/7.]\n",
    "ys = [6/7., -6/7.]\n",
    "zs = [2/7., -2/7.]\n",
    "\n",
    "for x in xs:\n",
    "    for y in ys:\n",
    "        for z in zs:\n",
    "            print x,y,z\n",
    "            M2_temp = np.transpose(\n",
    "                np.matrix([\n",
    "                    [2/7., 3/7., 6/7.],\n",
    "                    [6/7., 2/7., -3/7.],\n",
    "                    [x, y, z]\n",
    "                ]))\n",
    "            print np.dot(M2_temp, np.transpose(M2_temp))\n",
    "            print ''\n"
   ]
  },
  {
   "cell_type": "markdown",
   "metadata": {},
   "source": [
    "// do not run\n",
    "\n",
    "y = -2x"
   ]
  },
  {
   "cell_type": "markdown",
   "metadata": {},
   "source": [
    "## Question 3"
   ]
  },
  {
   "cell_type": "markdown",
   "metadata": {},
   "source": [
    "Suppose we have three points in a two dimensional space: (1,1), (2,2), and (3,4). We want to perform PCA on these points, so we construct a 2-by-2 matrix whose eigenvectors are the directions that best represent these three points. Construct this matrix and identify"
   ]
  },
  {
   "cell_type": "markdown",
   "metadata": {},
   "source": [
    "// do not run\n",
    "\n",
    "(14 - lambda)(21 - lambda) - 17^2 = 0\n",
    "lambda^2 - 35lambda + 294 - 289 = 0\n",
    "lambda^2 - 35lambda + 5 = 0\n"
   ]
  },
  {
   "cell_type": "code",
   "execution_count": 3,
   "metadata": {
    "collapsed": false
   },
   "outputs": [
    {
     "data": {
      "text/plain": [
       "matrix([[14, 17],\n",
       "        [17, 21]])"
      ]
     },
     "execution_count": 3,
     "metadata": {},
     "output_type": "execute_result"
    }
   ],
   "source": [
    "# creating square matrix to identify eigenpairs\n",
    "\n",
    "M3 = np.matrix([\n",
    "        [1,1],\n",
    "        [2,2],\n",
    "        [3,4]\n",
    "    ])\n",
    "\n",
    "M3_T = np.transpose(M3)\n",
    "M3_T\n",
    "\n",
    "M3_matrix = np.dot(M3_T,M3)\n",
    "M3_matrix"
   ]
  },
  {
   "cell_type": "code",
   "execution_count": 6,
   "metadata": {
    "collapsed": true
   },
   "outputs": [],
   "source": [
    "# Frobenius Norm for use in determining eigenpairs by power iteration\n",
    "\n",
    "def frob_norm(v):\n",
    "    return (np.sum(np.square(v))) ** .5\n",
    "    "
   ]
  },
  {
   "cell_type": "code",
   "execution_count": 7,
   "metadata": {
    "collapsed": false
   },
   "outputs": [],
   "source": [
    "# naive power iteration to approximate eigenvector\n",
    "\n",
    "def power_it_naive(M):\n",
    "    # count = 0\n",
    "    x0 = np.transpose(np.matrix([1,1]))\n",
    "    x1 = np.dot(M, x0)/frob_norm(np.dot(M, x0))\n",
    "    x2 = np.dot(M, x1)/frob_norm(np.dot(M, x1))\n",
    "    x3 = np.dot(M, x2)/frob_norm(np.dot(M, x2))\n",
    "    x4 = np.dot(M, x3)/frob_norm(np.dot(M, x3))\n",
    "    return x4"
   ]
  },
  {
   "cell_type": "code",
   "execution_count": 8,
   "metadata": {
    "collapsed": false
   },
   "outputs": [
    {
     "data": {
      "text/plain": [
       "matrix([[ 0.63180182],\n",
       "        [ 0.77512996]])"
      ]
     },
     "execution_count": 8,
     "metadata": {},
     "output_type": "execute_result"
    }
   ],
   "source": [
    "eig_VEC_3a = power_it_naive(M3_matrix)\n",
    "eig_VEC_3a"
   ]
  },
  {
   "cell_type": "code",
   "execution_count": 9,
   "metadata": {
    "collapsed": false
   },
   "outputs": [
    {
     "data": {
      "text/plain": [
       "34.85655495770978"
      ]
     },
     "execution_count": 9,
     "metadata": {},
     "output_type": "execute_result"
    }
   ],
   "source": [
    "eig_VAL_3a = float(np.dot(np.dot(np.transpose(eig_VEC_3a),M3_matrix), eig_VEC_3a))\n",
    "eig_VAL_3a"
   ]
  },
  {
   "cell_type": "code",
   "execution_count": 10,
   "metadata": {
    "collapsed": false
   },
   "outputs": [
    {
     "data": {
      "text/plain": [
       "matrix([[ 0.08618558, -0.07024913],\n",
       "        [-0.07024913,  0.05725947]])"
      ]
     },
     "execution_count": 10,
     "metadata": {},
     "output_type": "execute_result"
    }
   ],
   "source": [
    "# identify new matrix, M* or M3_prime, to find second eigenpair\n",
    "\n",
    "M3_prime = M3_matrix - (eig_VAL_3a * np.dot(eig_VEC_3a, np.transpose(eig_VEC_3a)))\n",
    "M3_prime"
   ]
  },
  {
   "cell_type": "code",
   "execution_count": 11,
   "metadata": {
    "collapsed": false
   },
   "outputs": [
    {
     "data": {
      "text/plain": [
       "matrix([[ 0.77512996],\n",
       "        [-0.63180183]])"
      ]
     },
     "execution_count": 11,
     "metadata": {},
     "output_type": "execute_result"
    }
   ],
   "source": [
    "eig_VEC_3b = power_it_naive(M3_prime)\n",
    "eig_VEC_3b"
   ]
  },
  {
   "cell_type": "code",
   "execution_count": 12,
   "metadata": {
    "collapsed": false
   },
   "outputs": [
    {
     "data": {
      "text/plain": [
       "0.14344504229021982"
      ]
     },
     "execution_count": 12,
     "metadata": {},
     "output_type": "execute_result"
    }
   ],
   "source": [
    "eig_VAL_3b = float(np.dot(np.dot(np.transpose(eig_VEC_3b),M3_prime), eig_VEC_3b))\n",
    "eig_VAL_3b"
   ]
  },
  {
   "cell_type": "code",
   "execution_count": 13,
   "metadata": {
    "collapsed": false
   },
   "outputs": [
    {
     "data": {
      "text/plain": [
       "(5.000000000000051, 35.0)"
      ]
     },
     "execution_count": 13,
     "metadata": {},
     "output_type": "execute_result"
    }
   ],
   "source": [
    "eig_VAL_3a * eig_VAL_3b, eig_VAL_3a + eig_VAL_3b"
   ]
  },
  {
   "cell_type": "code",
   "execution_count": 19,
   "metadata": {
    "collapsed": false
   },
   "outputs": [
    {
     "data": {
      "text/plain": [
       "matrix([[ 0.63180182,  0.77512996],\n",
       "        [ 0.77512996, -0.63180183]])"
      ]
     },
     "execution_count": 19,
     "metadata": {},
     "output_type": "execute_result"
    }
   ],
   "source": [
    "# E3 = eig_VEC_3a with eig_VEC_3b\n",
    "E3 = np.concatenate((eig_VEC_3a, eig_VEC_3b), axis=1)\n",
    "E3"
   ]
  },
  {
   "cell_type": "code",
   "execution_count": 69,
   "metadata": {
    "collapsed": false
   },
   "outputs": [
    {
     "data": {
      "text/plain": [
       "matrix([[  9.99999993e-01,  -1.42585682e-09],\n",
       "        [ -1.42585682e-09,   1.00000001e+00]])"
      ]
     },
     "execution_count": 69,
     "metadata": {},
     "output_type": "execute_result"
    }
   ],
   "source": [
    "np.dot(E3, np.transpose(E3))"
   ]
  },
  {
   "cell_type": "code",
   "execution_count": 20,
   "metadata": {
    "collapsed": false
   },
   "outputs": [
    {
     "data": {
      "text/plain": [
       "matrix([[ 1.40693178,  0.14332813],\n",
       "        [ 2.81386357,  0.28665627],\n",
       "        [ 4.99592531, -0.20181742]])"
      ]
     },
     "execution_count": 20,
     "metadata": {},
     "output_type": "execute_result"
    }
   ],
   "source": [
    "# combine eigenvectors into 2x2 matrix\n",
    "\n",
    "np.dot(M3,E3)"
   ]
  },
  {
   "cell_type": "code",
   "execution_count": 71,
   "metadata": {
    "collapsed": false
   },
   "outputs": [
    {
     "data": {
      "text/plain": [
       "(matrix([[ 22.02243486],\n",
       "         [ 27.01836017]]), matrix([[ 22.02243486],\n",
       "         [ 27.01836017]]))"
      ]
     },
     "execution_count": 71,
     "metadata": {},
     "output_type": "execute_result"
    }
   ],
   "source": [
    "np.dot(M3_matrix, eig_VEC_3a), eig_VAL_3a * eig_VEC_3a"
   ]
  },
  {
   "cell_type": "code",
   "execution_count": 72,
   "metadata": {
    "collapsed": false
   },
   "outputs": [
    {
     "data": {
      "text/plain": [
       "(matrix([[ 0.11118839],\n",
       "         [-0.09062903]]), matrix([[ 0.11118855],\n",
       "         [-0.09062884]]))"
      ]
     },
     "execution_count": 72,
     "metadata": {},
     "output_type": "execute_result"
    }
   ],
   "source": [
    "np.dot(M3_matrix, eig_VEC_3b), eig_VAL_3b * eig_VEC_3b"
   ]
  },
  {
   "cell_type": "markdown",
   "metadata": {},
   "source": [
    "## Question 4"
   ]
  },
  {
   "cell_type": "markdown",
   "metadata": {},
   "source": [
    "Find, in the list below, the vector that is orthogonal to the vector [1,2,3]. Note: the interesting concept regarding eigenvectors is \"orthonormal\", that is unit vectors that are orthogonal. However, this question avoids using unit vectors to make the calculations simpler."
   ]
  },
  {
   "cell_type": "code",
   "execution_count": 63,
   "metadata": {
    "collapsed": false
   },
   "outputs": [
    {
     "data": {
      "text/plain": [
       "{'a': array([ 0,  2, -1]),\n",
       " 'b': array([-1, -1,  1]),\n",
       " 'c': array([1, 0, 0]),\n",
       " 'd': array([-1,  1, -1])}"
      ]
     },
     "execution_count": 63,
     "metadata": {},
     "output_type": "execute_result"
    }
   ],
   "source": [
    "array_dict4 = {}\n",
    "array_dict4['a'] = np.array([0, 2, -1])\n",
    "array_dict4['b'] = np.array([-1, -1, 1])\n",
    "array_dict4['c'] = np.array([1, 1/2, 1/3])\n",
    "array_dict4['d'] = np.array([-1, 1, -1])\n",
    "array_dict4"
   ]
  },
  {
   "cell_type": "code",
   "execution_count": 66,
   "metadata": {
    "collapsed": false
   },
   "outputs": [
    {
     "name": "stdout",
     "output_type": "stream",
     "text": [
      "a 1\n",
      "c 1\n",
      "b 0\n",
      "d -2\n"
     ]
    }
   ],
   "source": [
    "for k in array_dict4:\n",
    "    print k, np.dot(np.transpose(array_dict4[k]), np.array([1,2,3]))"
   ]
  },
  {
   "cell_type": "code",
   "execution_count": null,
   "metadata": {
    "collapsed": true
   },
   "outputs": [],
   "source": []
  }
 ],
 "metadata": {
  "kernelspec": {
   "display_name": "Python 2",
   "language": "python",
   "name": "python2"
  },
  "language_info": {
   "codemirror_mode": {
    "name": "ipython",
    "version": 2
   },
   "file_extension": ".py",
   "mimetype": "text/x-python",
   "name": "python",
   "nbconvert_exporter": "python",
   "pygments_lexer": "ipython2",
   "version": "2.7.10"
  }
 },
 "nbformat": 4,
 "nbformat_minor": 0
}
