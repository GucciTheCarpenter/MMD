{
 "cells": [
  {
   "cell_type": "code",
   "execution_count": 1,
   "metadata": {
    "collapsed": true
   },
   "outputs": [],
   "source": [
    "import numpy as np"
   ]
  },
  {
   "cell_type": "markdown",
   "metadata": {},
   "source": [
    "## Question 1"
   ]
  },
  {
   "cell_type": "markdown",
   "metadata": {},
   "source": [
    "Compute the Topic-Specific PageRank for the following link topology. Assume that pages selected for the teleport set are nodes 1 and 2 and that in the teleport set, the weight assigned for node 1 is twice that of node 2. Assume further that the teleport probability, (1 - beta), is 0.3. Which of the following statements is correct?\n",
    "<img src=\"images/otc_pagerank4 (1).gif\">\n",
    "\n",
    "TSPR(1) = .3576<br>\n",
    "TSPR(1) = .4236<br>\n",
    "TSPR(2) = .7535<br>\n",
    "TSPR(4) = .4787"
   ]
  },
  {
   "cell_type": "markdown",
   "metadata": {
    "collapsed": true
   },
   "source": [
    "<b>PageRank</b>: v' = ßMv + (1 - ß)(e/n) <br>\n",
    "(see hw1)"
   ]
  },
  {
   "cell_type": "markdown",
   "metadata": {},
   "source": [
    "<img src=\"images/tspg_teleport.JPG\">"
   ]
  },
  {
   "cell_type": "markdown",
   "metadata": {},
   "source": [
    "<img src=\"images/text_5.3.2.JPG\">"
   ]
  },
  {
   "cell_type": "code",
   "execution_count": 2,
   "metadata": {
    "collapsed": false
   },
   "outputs": [
    {
     "data": {
      "text/plain": [
       "matrix([[ 0. ,  1. ,  0. ,  0. ],\n",
       "        [ 0.5,  0. ,  0. ,  0. ],\n",
       "        [ 0.5,  0. ,  0. ,  1. ],\n",
       "        [ 0. ,  0. ,  1. ,  0. ]])"
      ]
     },
     "execution_count": 2,
     "metadata": {},
     "output_type": "execute_result"
    }
   ],
   "source": [
    "M1 = np.matrix([\n",
    "        # 1, 2, 3, 4\n",
    "        [0., 1., 0., 0.], #1\n",
    "        [.5, 0., 0., 0.], #2\n",
    "        [.5, 0., 0., 1.], #3\n",
    "        [.0, 0., 1., 0.]  #4\n",
    "    ])\n",
    "M1"
   ]
  },
  {
   "cell_type": "markdown",
   "metadata": {},
   "source": [
    "## let's work through the video eg first"
   ]
  },
  {
   "cell_type": "code",
   "execution_count": 3,
   "metadata": {
    "collapsed": false
   },
   "outputs": [
    {
     "data": {
      "text/plain": [
       "array([[ 1.],\n",
       "       [ 0.],\n",
       "       [ 0.],\n",
       "       [ 0.]])"
      ]
     },
     "execution_count": 3,
     "metadata": {},
     "output_type": "execute_result"
    }
   ],
   "source": [
    "S1 = {1}\n",
    "beta1 = 0.8\n",
    "v0 = np.ones((4,1)) * 1./4.\n",
    "\n",
    "# 'e' is a vector that has 1 in the components in S and 0 in other components\n",
    "e = np.array([1., 0., 0., 0.]).reshape((4,1))\n",
    "e"
   ]
  },
  {
   "cell_type": "code",
   "execution_count": 4,
   "metadata": {
    "collapsed": false
   },
   "outputs": [
    {
     "data": {
      "text/plain": [
       "[array([[ 0.25],\n",
       "        [ 0.25],\n",
       "        [ 0.25],\n",
       "        [ 0.25]])]"
      ]
     },
     "execution_count": 4,
     "metadata": {},
     "output_type": "execute_result"
    }
   ],
   "source": [
    "PR = []\n",
    "PR.append(v0)\n",
    "PR"
   ]
  },
  {
   "cell_type": "code",
   "execution_count": 5,
   "metadata": {
    "collapsed": false
   },
   "outputs": [
    {
     "name": "stdout",
     "output_type": "stream",
     "text": [
      "[[ 1.  1.  1.  1.]] beta=0.8\n",
      "[[ 0.13235294]\n",
      " [ 0.10294118]\n",
      " [ 0.39705882]\n",
      " [ 0.36764706]]\n",
      "[[ 1.  1.  1.  0.]] beta=0.8\n",
      "[[ 0.26470588]\n",
      " [ 0.20588235]\n",
      " [ 0.34966582]\n",
      " [ 0.17974595]]\n",
      "[[ 1.  1.  0.  0.]] beta=0.8\n",
      "[[ 0.39705882]\n",
      " [ 0.30882353]\n",
      " [ 0.19117647]\n",
      " [ 0.10294118]]\n",
      "[[ 1.  0.  0.  0.]] beta=0.8\n",
      "[[ 0.29411765]\n",
      " [ 0.11764706]\n",
      " [ 0.32680477]\n",
      " [ 0.26143052]]\n"
     ]
    }
   ],
   "source": [
    "e = np.ones((4,1))\n",
    "\n",
    "for j in range(4):\n",
    "    PR = []\n",
    "    PR.append(v0)\n",
    "    for i in range(40):\n",
    "        v = PR[i]\n",
    "        v_prime = beta1 * np.dot(M1, v) + (1. - beta1)*e/len(S1)\n",
    "        leaked = 1. - sum(v_prime)\n",
    "        re_insert = np.ones((4,1)) * leaked/4.\n",
    "        v_prime = np.add(v_prime, re_insert)\n",
    "        PR.append(v_prime)\n",
    "    \n",
    "    print np.transpose(e), \"beta=\" + str(beta1)\n",
    "    print PR[40]\n",
    "    idx = j + 1\n",
    "    e[-idx] = 0"
   ]
  },
  {
   "cell_type": "markdown",
   "metadata": {},
   "source": [
    "<img src=\"images/tspr_eg.JPG\">"
   ]
  },
  {
   "cell_type": "code",
   "execution_count": 91,
   "metadata": {
    "collapsed": false
   },
   "outputs": [
    {
     "name": "stdout",
     "output_type": "stream",
     "text": [
      "[[ 1.  0.  0.  0.]] beta=0.9\n",
      "[[ 0.16807695]\n",
      " [ 0.07565095]\n",
      " [ 0.40123264]\n",
      " [ 0.35503945]]\n",
      "[[ 1.  0.  0.  0.]] beta=0.8\n",
      "[[ 0.29411715]\n",
      " [ 0.11764855]\n",
      " [ 0.32743641]\n",
      " [ 0.26079789]]\n",
      "[[ 1.  0.  0.  0.]] beta=0.7\n",
      "[[ 0.39735088]\n",
      " [ 0.13907293]\n",
      " [ 0.27276218]\n",
      " [ 0.19081401]]\n"
     ]
    }
   ],
   "source": [
    "e = np.array([1., 0., 0., 0.]).reshape((4,1))\n",
    "beta_list = [.9, .8, .7]\n",
    "\n",
    "for b in beta_list:\n",
    "    PR = []\n",
    "    PR.append(v0)\n",
    "    for i in range(20):\n",
    "        v = PR[i]\n",
    "        v_prime = b * np.dot(M1, v) + (1. - b)*e/len(S1)\n",
    "        leaked = 1. - sum(v_prime)\n",
    "        re_insert = np.ones((4,1)) * leaked/4.\n",
    "        v_prime = np.add(v_prime, re_insert)\n",
    "        PR.append(v_prime)\n",
    "        \n",
    "    \n",
    "\n",
    "    print np.transpose(e), \"beta=\" + str(b)\n",
    "    print PR[20]"
   ]
  },
  {
   "cell_type": "markdown",
   "metadata": {
    "collapsed": true
   },
   "source": [
    "## now let's target the hw assignment"
   ]
  },
  {
   "cell_type": "code",
   "execution_count": 14,
   "metadata": {
    "collapsed": false
   },
   "outputs": [
    {
     "data": {
      "text/plain": [
       "array([[ 1.33333333],\n",
       "       [ 0.66666667],\n",
       "       [ 0.        ],\n",
       "       [ 0.        ]])"
      ]
     },
     "execution_count": 14,
     "metadata": {},
     "output_type": "execute_result"
    }
   ],
   "source": [
    "S1 = {1, 2}\n",
    "beta1 = .7\n",
    "v0 = np.ones((4,1)) * 1./4.\n",
    "\n",
    "# the weight assigned for node 1 is twice that of node 2\n",
    "# BUT also want e/len(S1) == [2/3, 1/3, 0, 0]\n",
    "# SO THAT node 1 gets .2 and node 2 gets .1 of teleport probability\n",
    "e = np.array([4./3, 2./3, 0., 0.]).reshape((4,1))\n",
    "e"
   ]
  },
  {
   "cell_type": "code",
   "execution_count": 15,
   "metadata": {
    "collapsed": false
   },
   "outputs": [
    {
     "data": {
      "text/plain": [
       "matrix([[ 0.35761589],\n",
       "        [ 0.22516556],\n",
       "        [ 0.24542267],\n",
       "        [ 0.17179587]])"
      ]
     },
     "execution_count": 15,
     "metadata": {},
     "output_type": "execute_result"
    }
   ],
   "source": [
    "PR = []\n",
    "PR.append(v0)\n",
    "\n",
    "for i in range(400):\n",
    "    v = PR[i]\n",
    "    v_prime = beta1 * np.dot(M1, v) + (1. - beta1)*e/len(S1)\n",
    "    leaked = 1. - sum(v_prime)\n",
    "    re_insert = np.ones((4,1)) * leaked/4.\n",
    "    v_prime = np.add(v_prime, re_insert)\n",
    "    PR.append(v_prime)\n",
    "PR[400]"
   ]
  },
  {
   "cell_type": "markdown",
   "metadata": {},
   "source": [
    "## answer: TSPR(1) = .3576"
   ]
  },
  {
   "cell_type": "markdown",
   "metadata": {},
   "source": [
    "## Question 2"
   ]
  },
  {
   "cell_type": "markdown",
   "metadata": {},
   "source": [
    "The spam-farm architecture described in Section 5.4.1 suffers from the problem that the target page has many links --- one to each supporting page. To avoid that problem, the spammer could use the architecture shown below:\n",
    "<img src=\"images/otc_spamfarm1.gif\">\n",
    "There, k \"second-tier\" nodes act as intermediaries. The target page t has only to link to the k second-tier pages, and each of those pages links to m/k of the m supporting pages. Each of the supporting pages links only to t (although most of these links are not shown). Suppose the taxation parameter is β = 0.85, and x is the amount of PageRank supplied from outside to the target page. Let n be the total number of pages in the Web. Finally, let y be the PageRank of target page t. If we compute the formula for y in terms of k, m, and n, we get a formula with the form\n",
    "\n",
    "<center>y = ax + bm/n + ck/n</center>\n",
    "\n",
    "<b>Note</b>: To arrive at this form, it is necessary at the last step to drop a low-order term that is a fraction of 1/n. Determine coefficients a, b, and c, remembering that β is fixed at 0.85. Then, identify the value, correct to two decimal places, for one of these coefficients.\n",
    "\n",
    "c = 0.28<br>\n",
    "c = 0.13<br>\n",
    "a = 3.07<br>\n",
    "b = 0.28"
   ]
  },
  {
   "cell_type": "markdown",
   "metadata": {
    "collapsed": true
   },
   "source": [
    "<img src=\"images/spamfarm.JPG\">"
   ]
  },
  {
   "cell_type": "code",
   "execution_count": 17,
   "metadata": {
    "collapsed": false
   },
   "outputs": [
    {
     "data": {
      "text/plain": [
       "3.6036036036036028"
      ]
     },
     "execution_count": 17,
     "metadata": {},
     "output_type": "execute_result"
    }
   ],
   "source": [
    "beta2 = 0.85\n",
    "a = 1/(1 - beta2**2)\n",
    "a"
   ]
  },
  {
   "cell_type": "code",
   "execution_count": 2,
   "metadata": {
    "collapsed": false
   },
   "outputs": [
    {
     "data": {
      "text/plain": [
       "0.45945945945945943"
      ]
     },
     "execution_count": 2,
     "metadata": {},
     "output_type": "execute_result"
    }
   ],
   "source": [
    "c = beta2/(1 + beta2)\n",
    "c"
   ]
  },
  {
   "cell_type": "code",
   "execution_count": 4,
   "metadata": {
    "collapsed": false
   },
   "outputs": [
    {
     "data": {
      "text/plain": [
       "0.3304178814382896"
      ]
     },
     "execution_count": 4,
     "metadata": {},
     "output_type": "execute_result"
    }
   ],
   "source": [
    "b = beta2/(1 + beta2 + beta2**2)\n",
    "b"
   ]
  },
  {
   "cell_type": "code",
   "execution_count": 5,
   "metadata": {
    "collapsed": false
   },
   "outputs": [
    {
     "data": {
      "text/plain": [
       "0.28085519922254615"
      ]
     },
     "execution_count": 5,
     "metadata": {},
     "output_type": "execute_result"
    }
   ],
   "source": [
    "b * beta2"
   ]
  },
  {
   "cell_type": "markdown",
   "metadata": {},
   "source": [
    "<img src=\"images/explain7b_2.JPG\">"
   ]
  },
  {
   "cell_type": "code",
   "execution_count": null,
   "metadata": {
    "collapsed": true
   },
   "outputs": [],
   "source": []
  }
 ],
 "metadata": {
  "kernelspec": {
   "display_name": "Python 2",
   "language": "python",
   "name": "python2"
  },
  "language_info": {
   "codemirror_mode": {
    "name": "ipython",
    "version": 2
   },
   "file_extension": ".py",
   "mimetype": "text/x-python",
   "name": "python",
   "nbconvert_exporter": "python",
   "pygments_lexer": "ipython2",
   "version": "2.7.10"
  }
 },
 "nbformat": 4,
 "nbformat_minor": 0
}
