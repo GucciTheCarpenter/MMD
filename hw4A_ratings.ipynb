{
 "cells": [
  {
   "cell_type": "code",
   "execution_count": 14,
   "metadata": {
    "collapsed": true
   },
   "outputs": [],
   "source": [
    "import numpy as np\n",
    "import pandas as pd\n",
    "# import math"
   ]
  },
  {
   "cell_type": "markdown",
   "metadata": {},
   "source": [
    "## Question 1"
   ]
  },
  {
   "cell_type": "code",
   "execution_count": 59,
   "metadata": {
    "collapsed": false
   },
   "outputs": [],
   "source": [
    "M1 = np.matrix([\n",
    "        #M, N, P, Q, R\n",
    "        [1, 2, 3, 4, 5], #A\n",
    "        [2, 3, 2, 5, 3], #B\n",
    "        [5, 5, 5, 3, 2]  #C\n",
    "    ])\n",
    "\n",
    "M1 = M1.astype(float)"
   ]
  },
  {
   "cell_type": "markdown",
   "metadata": {},
   "source": [
    "Normalize the ratings by substracting the average for each row and then subtracting the average for each column in the resulting table."
   ]
  },
  {
   "cell_type": "code",
   "execution_count": 60,
   "metadata": {
    "collapsed": false
   },
   "outputs": [
    {
     "name": "stdout",
     "output_type": "stream",
     "text": [
      "3.0\n",
      "3.0\n",
      "4.0\n"
     ]
    }
   ],
   "source": [
    "# average for each row\n",
    "\n",
    "for i in range(np.shape(M1)[0]):\n",
    "    print np.mean(M1[i])"
   ]
  },
  {
   "cell_type": "code",
   "execution_count": 61,
   "metadata": {
    "collapsed": false
   },
   "outputs": [
    {
     "data": {
      "text/plain": [
       "matrix([[-2., -1.,  0.,  1.,  2.],\n",
       "        [-1.,  0., -1.,  2.,  0.],\n",
       "        [ 1.,  1.,  1., -1., -2.]])"
      ]
     },
     "execution_count": 61,
     "metadata": {},
     "output_type": "execute_result"
    }
   ],
   "source": [
    "# substracting the average for each row\n",
    "\n",
    "for i in range(np.shape(M1)[0]):\n",
    "    M1[i] = M1[i].astype(float) - np.mean(M1[i])\n",
    "    \n",
    "M1"
   ]
  },
  {
   "cell_type": "code",
   "execution_count": 62,
   "metadata": {
    "collapsed": false
   },
   "outputs": [
    {
     "name": "stdout",
     "output_type": "stream",
     "text": [
      "-0.666666666667\n",
      "0.0\n",
      "0.0\n",
      "0.666666666667\n",
      "0.0\n"
     ]
    }
   ],
   "source": [
    "# average for each resulting column\n",
    "\n",
    "for i in range(np.shape(M1)[1]):\n",
    "    print np.mean(M1[:,i])"
   ]
  },
  {
   "cell_type": "code",
   "execution_count": 63,
   "metadata": {
    "collapsed": false
   },
   "outputs": [
    {
     "data": {
      "text/plain": [
       "matrix([[-1.33333333, -1.        ,  0.        ,  0.33333333,  2.        ],\n",
       "        [-0.33333333,  0.        , -1.        ,  1.33333333,  0.        ],\n",
       "        [ 1.66666667,  1.        ,  1.        , -1.66666667, -2.        ]])"
      ]
     },
     "execution_count": 63,
     "metadata": {},
     "output_type": "execute_result"
    }
   ],
   "source": [
    "# subtracting the average for each column in the resulting table\n",
    "\n",
    "for i in range(np.shape(M1)[1]):\n",
    "    M1[:,i] = M1[:,i] - np.mean(M1[:,i])\n",
    "    \n",
    "M1"
   ]
  },
  {
   "cell_type": "code",
   "execution_count": null,
   "metadata": {
    "collapsed": false
   },
   "outputs": [],
   "source": []
  },
  {
   "cell_type": "markdown",
   "metadata": {},
   "source": [
    "## Question 2"
   ]
  },
  {
   "cell_type": "markdown",
   "metadata": {},
   "source": [
    "Below is a table givig the profile of three items."
   ]
  },
  {
   "cell_type": "code",
   "execution_count": 142,
   "metadata": {
    "collapsed": false
   },
   "outputs": [],
   "source": [
    "M2 = np.matrix([\n",
    "        [1, 0, 1, 0, 1, 2], #A\n",
    "        [1, 1, 0, 0, 1, 6], #B\n",
    "        [0, 1, 0, 1, 0, 2]  #C\n",
    "    ])\n",
    "\n",
    "M2 = M2.astype(float)"
   ]
  },
  {
   "cell_type": "markdown",
   "metadata": {},
   "source": [
    "The first five attributes are Boolean, and the last is an integer \"rating\". Assume that the scale factor for the rating is alpha. Compute, as a function of alpha, the cosine distances between each pair of profiles. For each of alpha = 0, 0.5, 1, and 2, determine the cosine of the angle between each pair of vectors. "
   ]
  },
  {
   "cell_type": "code",
   "execution_count": 134,
   "metadata": {
    "collapsed": true
   },
   "outputs": [],
   "source": [
    "#alpha values\n",
    "\n",
    "a = [0., 0.5, 1., 2.]\n",
    "\n",
    "# products\n",
    "\n",
    "A, B, C = 0, 1, 2"
   ]
  },
  {
   "cell_type": "code",
   "execution_count": 135,
   "metadata": {
    "collapsed": false,
    "scrolled": true
   },
   "outputs": [
    {
     "name": "stdout",
     "output_type": "stream",
     "text": [
      "alpha: 0.0\n",
      "rating: \n",
      "0.0\n",
      "0.0\n",
      "0.0\n",
      "alpha: 0.5\n",
      "rating: \n",
      "1.0\n",
      "3.0\n",
      "1.0\n",
      "alpha: 1.0\n",
      "rating: \n",
      "2.0\n",
      "6.0\n",
      "2.0\n",
      "alpha: 2.0\n",
      "rating: \n",
      "4.0\n",
      "12.0\n",
      "4.0\n"
     ]
    }
   ],
   "source": [
    "for i in a:\n",
    "    print \"alpha: \" + str(i)\n",
    "    print \"rating: \"\n",
    "    for j in range(np.shape(M2)[0]):\n",
    "        print i * M2[j, -1]"
   ]
  },
  {
   "cell_type": "code",
   "execution_count": 136,
   "metadata": {
    "collapsed": false
   },
   "outputs": [],
   "source": [
    "def cos_measure(x,y):\n",
    "    nom = np.dot(x, np.transpose(y))\n",
    "    denom_x = np.sum(np.square(x)) ** .5\n",
    "    denom_y = np.sum(np.square(y)) ** .5\n",
    "    return nom / (denom_x * denom_y)"
   ]
  },
  {
   "cell_type": "code",
   "execution_count": 148,
   "metadata": {
    "collapsed": false
   },
   "outputs": [
    {
     "name": "stdout",
     "output_type": "stream",
     "text": [
      "alpha: 0.0\n",
      "[[ 1.  0.  1.  0.  1.  0.]\n",
      " [ 1.  1.  0.  0.  1.  0.]\n",
      " [ 0.  1.  0.  1.  0.  0.]]\n",
      "cosine of A & B: [[ 0.66666667]]\n",
      "cosine of A & C: [[ 0.]]\n",
      "cosine of B & C: [[ 0.40824829]]\n",
      "\n",
      "alpha: 0.5\n",
      "[[ 1.  0.  1.  0.  1.  1.]\n",
      " [ 1.  1.  0.  0.  1.  3.]\n",
      " [ 0.  1.  0.  1.  0.  1.]]\n",
      "cosine of A & B: [[ 0.72168784]]\n",
      "cosine of A & C: [[ 0.28867513]]\n",
      "cosine of B & C: [[ 0.66666667]]\n",
      "\n",
      "alpha: 1.0\n",
      "[[ 1.  0.  1.  0.  1.  2.]\n",
      " [ 1.  1.  0.  0.  1.  6.]\n",
      " [ 0.  1.  0.  1.  0.  2.]]\n",
      "cosine of A & B: [[ 0.84731855]]\n",
      "cosine of A & C: [[ 0.6172134]]\n",
      "cosine of B & C: [[ 0.84983659]]\n",
      "\n",
      "alpha: 2.0\n",
      "[[  1.   0.   1.   0.   1.   4.]\n",
      " [  1.   1.   0.   0.   1.  12.]\n",
      " [  0.   1.   0.   1.   0.   4.]]\n",
      "cosine of A & B: [[ 0.94609454]]\n",
      "cosine of A & C: [[ 0.86518091]]\n",
      "cosine of B & C: [[ 0.95257934]]\n",
      "\n"
     ]
    }
   ],
   "source": [
    "for i in a:\n",
    "    M2_alpha = np.array([2., 6., 2.]).reshape((3,1))\n",
    "    print \"alpha: \" + str(i)\n",
    "    M2[:,-1] = M2_alpha * i\n",
    "    print M2\n",
    "    print \"cosine of A & B: \" + str(cos_measure(M2[0], M2[1]))\n",
    "    print \"cosine of A & C: \" + str(cos_measure(M2[0], M2[2]))\n",
    "    print \"cosine of B & C: \" + str(cos_measure(M2[1], M2[2]))\n",
    "    print ''"
   ]
  },
  {
   "cell_type": "code",
   "execution_count": 108,
   "metadata": {
    "collapsed": false,
    "scrolled": true
   },
   "outputs": [
    {
     "name": "stdout",
     "output_type": "stream",
     "text": [
      "[[ 1.  0.  1.  0.  1.  2.]]\n",
      "5.0\n",
      "[[ 1.  0.  1.  0.  1.  4.]]\n",
      "7.0\n",
      "2.64575131106\n"
     ]
    }
   ],
   "source": [
    "print M2[0]\n",
    "print np.sum(M2[0])\n",
    "print np.square(M2[0])\n",
    "print np.sum(np.square(M2[0]))\n",
    "print np.sum(np.square(M2[0])) ** .5"
   ]
  },
  {
   "cell_type": "code",
   "execution_count": 111,
   "metadata": {
    "collapsed": false
   },
   "outputs": [
    {
     "data": {
      "text/plain": [
       "(3.0, 2.4494897427831779, 2.4494897427831779, 0.50000000000000011)"
      ]
     },
     "execution_count": 111,
     "metadata": {},
     "output_type": "execute_result"
    }
   ],
   "source": [
    "# test\n",
    "x = [1., 2., -1.]\n",
    "y = [2., 1., 1.]\n",
    "\n",
    "nom = np.dot(x, np.transpose(y))\n",
    "denom_x = np.sum(np.square(x)) ** .5\n",
    "denom_y = np.sum(np.square(y)) ** .5\n",
    "\n",
    "nom, denom_x, denom_y, nom / (denom_x * denom_y)"
   ]
  },
  {
   "cell_type": "code",
   "execution_count": 113,
   "metadata": {
    "collapsed": false
   },
   "outputs": [
    {
     "data": {
      "text/plain": [
       "28.64788975654117"
      ]
     },
     "execution_count": 113,
     "metadata": {},
     "output_type": "execute_result"
    }
   ],
   "source": [
    "math.degrees(nom / (denom_x * denom_y))"
   ]
  },
  {
   "cell_type": "code",
   "execution_count": 114,
   "metadata": {
    "collapsed": false
   },
   "outputs": [
    {
     "data": {
      "text/plain": [
       "5.0"
      ]
     },
     "execution_count": 114,
     "metadata": {},
     "output_type": "execute_result"
    }
   ],
   "source": [
    "math.hypot(3,4)"
   ]
  },
  {
   "cell_type": "code",
   "execution_count": 115,
   "metadata": {
    "collapsed": false
   },
   "outputs": [
    {
     "data": {
      "text/plain": [
       "-0.9524129804151563"
      ]
     },
     "execution_count": 115,
     "metadata": {},
     "output_type": "execute_result"
    }
   ],
   "source": [
    "math.cos(60)"
   ]
  },
  {
   "cell_type": "code",
   "execution_count": 119,
   "metadata": {
    "collapsed": false
   },
   "outputs": [
    {
     "data": {
      "text/plain": [
       "28.64788975654116"
      ]
     },
     "execution_count": 119,
     "metadata": {},
     "output_type": "execute_result"
    }
   ],
   "source": [
    "math.degrees(.5)"
   ]
  },
  {
   "cell_type": "code",
   "execution_count": null,
   "metadata": {
    "collapsed": true
   },
   "outputs": [],
   "source": []
  }
 ],
 "metadata": {
  "kernelspec": {
   "display_name": "Python 2",
   "language": "python",
   "name": "python2"
  },
  "language_info": {
   "codemirror_mode": {
    "name": "ipython",
    "version": 2
   },
   "file_extension": ".py",
   "mimetype": "text/x-python",
   "name": "python",
   "nbconvert_exporter": "python",
   "pygments_lexer": "ipython2",
   "version": "2.7.10"
  }
 },
 "nbformat": 4,
 "nbformat_minor": 0
}
