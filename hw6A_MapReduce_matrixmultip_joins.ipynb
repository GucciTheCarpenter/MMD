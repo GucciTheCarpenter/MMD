{
 "cells": [
  {
   "cell_type": "code",
   "execution_count": 1,
   "metadata": {
    "collapsed": true
   },
   "outputs": [],
   "source": [
    "import numpy as np\n",
    "from collections import defaultdict"
   ]
  },
  {
   "cell_type": "markdown",
   "metadata": {},
   "source": [
    "## Question 1"
   ]
  },
  {
   "cell_type": "markdown",
   "metadata": {},
   "source": [
    "Using the matrix-vector multiplication described in Section 2.3.1, applied to the matrix:\n",
    "\n",
    "1\t2\t3\t4<br>\n",
    "5\t6\t7\t8<br>\n",
    "9\t10\t11\t12<br>\n",
    "13\t14\t15\t16\n",
    "\n",
    "and vector:\n",
    "1\n",
    "2\n",
    "3\n",
    "4\n",
    "\n",
    "<img src=\"images/6a_1.JPG\">\n",
    "\n",
    "apply the Map function to this matrix and vector. Then, identify in the list below, one of the key-value pairs that are output of Map.\n",
    "\n",
    "(3,110)<br>\n",
    "(4,48)<br>\n",
    "(4,150)<br>\n",
    "(1,9)"
   ]
  },
  {
   "cell_type": "code",
   "execution_count": 40,
   "metadata": {
    "collapsed": false
   },
   "outputs": [
    {
     "data": {
      "text/plain": [
       "matrix([[ 1,  2,  3,  4],\n",
       "        [ 5,  6,  7,  8],\n",
       "        [ 9, 10, 11, 12],\n",
       "        [13, 14, 15, 16]])"
      ]
     },
     "execution_count": 40,
     "metadata": {},
     "output_type": "execute_result"
    }
   ],
   "source": [
    "M1 = np.matrix([\n",
    "        [1, 2, 3, 4],\n",
    "        [5, 6, 7, 8],\n",
    "        [9,10,11,12],\n",
    "        [13,14,15,16]\n",
    "    ])\n",
    "M1"
   ]
  },
  {
   "cell_type": "code",
   "execution_count": 41,
   "metadata": {
    "collapsed": false
   },
   "outputs": [
    {
     "data": {
      "text/plain": [
       "array([1, 2, 3, 4])"
      ]
     },
     "execution_count": 41,
     "metadata": {},
     "output_type": "execute_result"
    }
   ],
   "source": [
    "v1 = np.array([1, 2, 3, 4])\n",
    "v1"
   ]
  },
  {
   "cell_type": "markdown",
   "metadata": {},
   "source": [
    "<img src=\"images/text_2.3.1.JPG\">"
   ]
  },
  {
   "cell_type": "code",
   "execution_count": 43,
   "metadata": {
    "collapsed": false
   },
   "outputs": [
    {
     "name": "stdout",
     "output_type": "stream",
     "text": [
      "(1, 1)\n",
      "(1, 4)\n",
      "(1, 9)\n",
      "(1, 16)\n",
      "(2, 5)\n",
      "(2, 12)\n",
      "(2, 21)\n",
      "(2, 32)\n",
      "(3, 9)\n",
      "(3, 20)\n",
      "(3, 33)\n",
      "(3, 48)\n",
      "(4, 13)\n",
      "(4, 28)\n",
      "(4, 45)\n",
      "(4, 64)\n"
     ]
    }
   ],
   "source": [
    "keys = range(4)\n",
    "\n",
    "x_i = 1\n",
    "\n",
    "map1 = []\n",
    "\n",
    "for i in keys:\n",
    "    for j in keys:\n",
    "        print (x_i, M1[i,j] * v1[j])\n",
    "        map1.append((x_i, M1[i,j] * v1[j]))\n",
    "    x_i += 1"
   ]
  },
  {
   "cell_type": "markdown",
   "metadata": {},
   "source": [
    "## answer: (1, 9)"
   ]
  },
  {
   "cell_type": "code",
   "execution_count": 44,
   "metadata": {
    "collapsed": false
   },
   "outputs": [
    {
     "data": {
      "text/plain": [
       "{1: 0, 2: 0, 3: 0, 4: 0}"
      ]
     },
     "execution_count": 44,
     "metadata": {},
     "output_type": "execute_result"
    }
   ],
   "source": [
    "reduce1 = {k+1: 0 for k in keys}\n",
    "reduce1"
   ]
  },
  {
   "cell_type": "code",
   "execution_count": 56,
   "metadata": {
    "collapsed": false
   },
   "outputs": [
    {
     "data": {
      "text/plain": [
       "{1: 30, 2: 70, 3: 110, 4: 150}"
      ]
     },
     "execution_count": 56,
     "metadata": {},
     "output_type": "execute_result"
    }
   ],
   "source": [
    "for m in map1:\n",
    "    reduce1[m[0]] += m[1]\n",
    "    \n",
    "reduce1"
   ]
  },
  {
   "cell_type": "code",
   "execution_count": 14,
   "metadata": {
    "collapsed": false
   },
   "outputs": [
    {
     "data": {
      "text/plain": [
       "matrix([[ 30,  70, 110, 150]])"
      ]
     },
     "execution_count": 14,
     "metadata": {},
     "output_type": "execute_result"
    }
   ],
   "source": [
    "np.dot(M1,v1)"
   ]
  },
  {
   "cell_type": "markdown",
   "metadata": {},
   "source": [
    "## Question 2"
   ]
  },
  {
   "cell_type": "markdown",
   "metadata": {},
   "source": [
    "Suppose we use the algorithm of Section 2.3.10 to compute the product of matrices M and N. Let M have x rows and y columns, while N has y rows and z columns. As a function of x, y, and z, express the answers to the following questions:\n",
    "\n",
    "1. The output of the Map function has how many different keys? How many key-value pairs are there with each key? How many key-value pairs are there in all?\n",
    "2. The input to the Reduce function has how many keys? What is the length of the value (a list) associated with each key?\n",
    "\n",
    "Then, identify the true statement in the list below.\n",
    "\n",
    "1. The output of the Map function has 2y pairs with each key.\n",
    "2. The input to the Reduce function has pairs with lists of length xz.\n",
    "3. The input to the Reduce function has pairs with lists of length 2(x+z).\n",
    "4. The output of the Map function has 2y(x+z) pairs with each key."
   ]
  },
  {
   "cell_type": "markdown",
   "metadata": {},
   "source": [
    "<img src=\"images/text_2.3.10_map.JPG\">"
   ]
  },
  {
   "cell_type": "code",
   "execution_count": 2,
   "metadata": {
    "collapsed": false
   },
   "outputs": [
    {
     "name": "stdout",
     "output_type": "stream",
     "text": [
      "[[ 1  2  3  4]\n",
      " [ 5  6  7  8]\n",
      " [ 9 10 11 12]]\n",
      "[[1 5]\n",
      " [2 6]\n",
      " [3 7]\n",
      " [4 8]]\n",
      "[[ 30  70]\n",
      " [ 70 174]\n",
      " [110 278]]\n"
     ]
    }
   ],
   "source": [
    "M2 = np.matrix([\n",
    "        [1, 2, 3, 4],\n",
    "        [5, 6, 7, 8],\n",
    "        [9,10,11,12]\n",
    "    ])\n",
    "\n",
    "N2 = np.matrix([\n",
    "        [1, 5],\n",
    "        [2, 6],\n",
    "        [3, 7],\n",
    "        [4, 8]\n",
    "    ])\n",
    "print M2\n",
    "print N2\n",
    "print np.dot(M2,N2)"
   ]
  },
  {
   "cell_type": "code",
   "execution_count": 20,
   "metadata": {
    "collapsed": false
   },
   "outputs": [
    {
     "data": {
      "text/plain": [
       "([((1, 1), ('M', 1, 1)),\n",
       "  ((1, 1), ('M', 2, 2)),\n",
       "  ((1, 1), ('M', 3, 3)),\n",
       "  ((1, 1), ('M', 4, 4)),\n",
       "  ((2, 1), ('M', 1, 5)),\n",
       "  ((2, 1), ('M', 2, 6)),\n",
       "  ((2, 1), ('M', 3, 7)),\n",
       "  ((2, 1), ('M', 4, 8)),\n",
       "  ((3, 1), ('M', 1, 9)),\n",
       "  ((3, 1), ('M', 2, 10)),\n",
       "  ((3, 1), ('M', 3, 11)),\n",
       "  ((3, 1), ('M', 4, 12)),\n",
       "  ((1, 2), ('M', 1, 1)),\n",
       "  ((1, 2), ('M', 2, 2)),\n",
       "  ((1, 2), ('M', 3, 3)),\n",
       "  ((1, 2), ('M', 4, 4)),\n",
       "  ((2, 2), ('M', 1, 5)),\n",
       "  ((2, 2), ('M', 2, 6)),\n",
       "  ((2, 2), ('M', 3, 7)),\n",
       "  ((2, 2), ('M', 4, 8)),\n",
       "  ((3, 2), ('M', 1, 9)),\n",
       "  ((3, 2), ('M', 2, 10)),\n",
       "  ((3, 2), ('M', 3, 11)),\n",
       "  ((3, 2), ('M', 4, 12))],\n",
       " [((1, 1), ('N', 1, 1)),\n",
       "  ((1, 1), ('N', 2, 2)),\n",
       "  ((1, 1), ('N', 3, 3)),\n",
       "  ((1, 1), ('N', 4, 4)),\n",
       "  ((2, 1), ('N', 1, 1)),\n",
       "  ((2, 1), ('N', 2, 2)),\n",
       "  ((2, 1), ('N', 3, 3)),\n",
       "  ((2, 1), ('N', 4, 4)),\n",
       "  ((3, 1), ('N', 1, 1)),\n",
       "  ((3, 1), ('N', 2, 2)),\n",
       "  ((3, 1), ('N', 3, 3)),\n",
       "  ((3, 1), ('N', 4, 4)),\n",
       "  ((1, 2), ('N', 1, 5)),\n",
       "  ((1, 2), ('N', 2, 6)),\n",
       "  ((1, 2), ('N', 3, 7)),\n",
       "  ((1, 2), ('N', 4, 8)),\n",
       "  ((2, 2), ('N', 1, 5)),\n",
       "  ((2, 2), ('N', 2, 6)),\n",
       "  ((2, 2), ('N', 3, 7)),\n",
       "  ((2, 2), ('N', 4, 8)),\n",
       "  ((3, 2), ('N', 1, 5)),\n",
       "  ((3, 2), ('N', 2, 6)),\n",
       "  ((3, 2), ('N', 3, 7)),\n",
       "  ((3, 2), ('N', 4, 8))])"
      ]
     },
     "execution_count": 20,
     "metadata": {},
     "output_type": "execute_result"
    }
   ],
   "source": [
    "def map_Q2(M,N):\n",
    "    \n",
    "    map_M = []\n",
    "    map_N = []\n",
    "    \n",
    "    x, y = np.shape(M)\n",
    "    x = int(x) # i\n",
    "    y = int(y) # j\n",
    "    z = int(np.shape(N)[1]) # k\n",
    "    \n",
    "    for k in range(z):\n",
    "        for i in range(x):\n",
    "            for j in range(y):\n",
    "                map_M.append((((i+1,k+1), ('M',j+1,M[i,j]))))\n",
    "                \n",
    "    for k in range(z):\n",
    "        for i in range(x):\n",
    "            for j in range(y):\n",
    "                map_N.append((((i+1,k+1), ('N',j+1,N[j,k]))))\n",
    "            \n",
    "    return map_M, map_N\n",
    "\n",
    "map_Q2(M2,N2)"
   ]
  },
  {
   "cell_type": "markdown",
   "metadata": {},
   "source": [
    "<img src=\"images/text_2.3.10_red.JPG\">"
   ]
  },
  {
   "cell_type": "code",
   "execution_count": 21,
   "metadata": {
    "collapsed": true
   },
   "outputs": [],
   "source": [
    "mapM, mapN = map_Q2(M2,N2)"
   ]
  },
  {
   "cell_type": "code",
   "execution_count": 27,
   "metadata": {
    "collapsed": false
   },
   "outputs": [
    {
     "data": {
      "text/plain": [
       "defaultdict(<type 'list'>, {(1, 2): 70, (3, 2): 278, (3, 1): 110, (2, 1): 70, (2, 2): 174, (1, 1): 30})"
      ]
     },
     "execution_count": 27,
     "metadata": {},
     "output_type": "execute_result"
    }
   ],
   "source": [
    "# will not use sort feature for this (toy) set\n",
    "\n",
    "def red_Q2(mapM, mapN):\n",
    "    reduce_dict = defaultdict(list)\n",
    "    \n",
    "    for m in mapM:\n",
    "        for n in mapN:\n",
    "            \n",
    "            keyM = m[0]\n",
    "            valMj = m[1][1]\n",
    "            m_ij = m[1][2]\n",
    "            \n",
    "            keyN = n[0]\n",
    "            valNj = n[1][1]\n",
    "            n_jk = n[1][2]\n",
    "            \n",
    "            if keyM == keyN and valMj == valNj:\n",
    "                reduce_dict[keyM].append(m_ij * n_jk)\n",
    "\n",
    "    for ik in reduce_dict:\n",
    "        reduce_dict[ik] = sum(reduce_dict[ik])\n",
    "                \n",
    "    return reduce_dict\n",
    "\n",
    "\n",
    "red_Q2(mapM, mapN)          "
   ]
  },
  {
   "cell_type": "code",
   "execution_count": null,
   "metadata": {
    "collapsed": true
   },
   "outputs": [],
   "source": []
  },
  {
   "cell_type": "markdown",
   "metadata": {},
   "source": [
    "## Question 3"
   ]
  },
  {
   "cell_type": "markdown",
   "metadata": {},
   "source": [
    "Suppose we use the two-stage algorithm of Section 2.3.9 to compute the product of matrices M and N. Let M have x rows and y columns, while N has y rows and z columns. As a function of x, y, and z, express the answers to the following questions:\n",
    "\n",
    "1. The output of the first Map function has how many different keys? How many key-value pairs are there with each key? How many key-value pairs are there in all?\n",
    "2. The output of the first Reduce function has how many keys? What is the length of the value (a list) associated with each key?\n",
    "3. The output of the second Map function has how many different keys? How many key-value pairs are there with each key? How many key-value pairs are there in all?\n",
    "\n",
    "Then, identify the true statement in the list below.\n",
    "\n",
    "1. The output of the first Reduce function has y pairs.\n",
    "2. The output of the second Map function has yz different keys.\n",
    "3. The output of the first Reduce function has x+z pairs.\n",
    "4. The output of the first Reduce function has x pairs."
   ]
  },
  {
   "cell_type": "code",
   "execution_count": 82,
   "metadata": {
    "collapsed": true
   },
   "outputs": [],
   "source": [
    "# map(M) results in y different keys: (y,(M,x,m_xy))\n",
    "# map(N) results in y different keys: (y,(N,z,n_yz))\n",
    "\n",
    "# key-value pairs for each key: x for M; z for N\n",
    "# how many key-value pairs in total: y*x + y*z\n",
    "\n",
    "# first Reduce function has how many keys: x*z\n",
    "# length of value (a list): 1\n",
    "\n",
    "# output of the second Map function has how many different keys: x*z (identity)\n",
    "# how many key-value pairs with each key: 1\n",
    "# how many key-value pairs in all: x*z"
   ]
  },
  {
   "cell_type": "markdown",
   "metadata": {},
   "source": [
    "<img src=\"images/text_2.3.9_mapred1a.JPG\">\n",
    "<img src=\"images/text_2.3.9_mapred1b.JPG\">"
   ]
  },
  {
   "cell_type": "code",
   "execution_count": 46,
   "metadata": {
    "collapsed": false
   },
   "outputs": [
    {
     "name": "stdout",
     "output_type": "stream",
     "text": [
      "[[1 2 3 4]\n",
      " [5 6 7 8]\n",
      " [2 2 2 6]]\n",
      "[[1 5]\n",
      " [2 6]\n",
      " [3 7]\n",
      " [4 8]]\n",
      "[[ 30  70]\n",
      " [ 70 174]\n",
      " [ 36  84]]\n"
     ]
    }
   ],
   "source": [
    "M3 = np.matrix([\n",
    "        [1, 2, 3, 4],\n",
    "        [5, 6, 7, 8],\n",
    "        [2, 2, 2, 6]\n",
    "    ])\n",
    "\n",
    "N3 = np.matrix([\n",
    "        [1, 5],\n",
    "        [2, 6],\n",
    "        [3, 7],\n",
    "        [4, 8]\n",
    "    ])\n",
    "print M3\n",
    "print N3\n",
    "print np.dot(M3,N3)"
   ]
  },
  {
   "cell_type": "code",
   "execution_count": 47,
   "metadata": {
    "collapsed": false
   },
   "outputs": [],
   "source": [
    "def map1(M,N):\n",
    "    map_M = []\n",
    "    map_N = []\n",
    "    \n",
    "    for y in range(int(np.shape(M)[1])):\n",
    "        for x in range(int(np.shape(M)[0])):\n",
    "            map_M.append((y+1, ('M', x+1, M[x,y])))\n",
    "            \n",
    "    for y in range(int(np.shape(N)[0])):\n",
    "        for z in range(int(np.shape(N)[1])):\n",
    "            map_N.append((y+1, ('N', z+1, N[y,z])))\n",
    "    \n",
    "    return map_M, map_N"
   ]
  },
  {
   "cell_type": "code",
   "execution_count": 48,
   "metadata": {
    "collapsed": false
   },
   "outputs": [],
   "source": [
    "map1_M, map1_N = map1(M3,N3)"
   ]
  },
  {
   "cell_type": "code",
   "execution_count": 49,
   "metadata": {
    "collapsed": false
   },
   "outputs": [
    {
     "data": {
      "text/plain": [
       "([(1, ('M', 1, 1)),\n",
       "  (1, ('M', 2, 5)),\n",
       "  (1, ('M', 3, 2)),\n",
       "  (2, ('M', 1, 2)),\n",
       "  (2, ('M', 2, 6)),\n",
       "  (2, ('M', 3, 2)),\n",
       "  (3, ('M', 1, 3)),\n",
       "  (3, ('M', 2, 7)),\n",
       "  (3, ('M', 3, 2)),\n",
       "  (4, ('M', 1, 4)),\n",
       "  (4, ('M', 2, 8)),\n",
       "  (4, ('M', 3, 6))],\n",
       " [(1, ('N', 1, 1)),\n",
       "  (1, ('N', 2, 5)),\n",
       "  (2, ('N', 1, 2)),\n",
       "  (2, ('N', 2, 6)),\n",
       "  (3, ('N', 1, 3)),\n",
       "  (3, ('N', 2, 7)),\n",
       "  (4, ('N', 1, 4)),\n",
       "  (4, ('N', 2, 8))])"
      ]
     },
     "execution_count": 49,
     "metadata": {},
     "output_type": "execute_result"
    }
   ],
   "source": [
    "map1_M, map1_N"
   ]
  },
  {
   "cell_type": "code",
   "execution_count": 59,
   "metadata": {
    "collapsed": false
   },
   "outputs": [],
   "source": [
    "def red1(M,N):\n",
    "    red_MN = []\n",
    "    \n",
    "    for m in M:\n",
    "        for n in N:\n",
    "            if m[0] == n[0]:\n",
    "                x = m[1][1]\n",
    "                m_xy = m[1][2]\n",
    "                # y NOT needed, already checked for in if-statement\n",
    "                z = n[1][1]\n",
    "                n_yz = n[1][2]\n",
    "                red_MN.append(((x,z), m_xy * n_yz))\n",
    "                \n",
    "    return red_MN"
   ]
  },
  {
   "cell_type": "code",
   "execution_count": 60,
   "metadata": {
    "collapsed": false,
    "scrolled": true
   },
   "outputs": [
    {
     "data": {
      "text/plain": [
       "[((1, 1), 1),\n",
       " ((1, 2), 5),\n",
       " ((2, 1), 5),\n",
       " ((2, 2), 25),\n",
       " ((3, 1), 2),\n",
       " ((3, 2), 10),\n",
       " ((1, 1), 4),\n",
       " ((1, 2), 12),\n",
       " ((2, 1), 12),\n",
       " ((2, 2), 36),\n",
       " ((3, 1), 4),\n",
       " ((3, 2), 12),\n",
       " ((1, 1), 9),\n",
       " ((1, 2), 21),\n",
       " ((2, 1), 21),\n",
       " ((2, 2), 49),\n",
       " ((3, 1), 6),\n",
       " ((3, 2), 14),\n",
       " ((1, 1), 16),\n",
       " ((1, 2), 32),\n",
       " ((2, 1), 32),\n",
       " ((2, 2), 64),\n",
       " ((3, 1), 24),\n",
       " ((3, 2), 48)]"
      ]
     },
     "execution_count": 60,
     "metadata": {},
     "output_type": "execute_result"
    }
   ],
   "source": [
    "red1(map1_M,map1_N)"
   ]
  },
  {
   "cell_type": "markdown",
   "metadata": {},
   "source": [
    "<img src=\"images/text_2.3.9_mapred2.JPG\">"
   ]
  },
  {
   "cell_type": "code",
   "execution_count": 61,
   "metadata": {
    "collapsed": true
   },
   "outputs": [],
   "source": [
    "def map2(xz):\n",
    "    map_XZ = defaultdict(list)\n",
    "    for key,value in xz:\n",
    "        map_XZ[key].append(value)\n",
    "    return map_XZ"
   ]
  },
  {
   "cell_type": "code",
   "execution_count": 62,
   "metadata": {
    "collapsed": false
   },
   "outputs": [
    {
     "data": {
      "text/plain": [
       "defaultdict(<type 'list'>, {(1, 2): [5, 12, 21, 32], (3, 2): [10, 12, 14, 48], (3, 1): [2, 4, 6, 24], (2, 1): [5, 12, 21, 32], (2, 2): [25, 36, 49, 64], (1, 1): [1, 4, 9, 16]})"
      ]
     },
     "execution_count": 62,
     "metadata": {},
     "output_type": "execute_result"
    }
   ],
   "source": [
    "pre_sum = map2(red1(map1_M,map1_N))\n",
    "pre_sum"
   ]
  },
  {
   "cell_type": "code",
   "execution_count": 121,
   "metadata": {
    "collapsed": false
   },
   "outputs": [
    {
     "name": "stdout",
     "output_type": "stream",
     "text": [
      "((1, 2), [5, 12, 21, 32])\n",
      "((3, 2), [45, 60, 77, 96])\n",
      "((3, 1), [9, 20, 33, 48])\n",
      "((2, 1), [5, 12, 21, 32])\n",
      "((2, 2), [25, 36, 49, 64])\n",
      "((1, 1), [1, 4, 9, 16])\n"
     ]
    }
   ],
   "source": [
    "# sum(pre_sum[(1,1)])\n",
    "\n",
    "for k in pre_sum:\n",
    "    print (k, pre_sum[k])"
   ]
  },
  {
   "cell_type": "code",
   "execution_count": 122,
   "metadata": {
    "collapsed": false
   },
   "outputs": [],
   "source": [
    "def red2(xz):\n",
    "    red_sum = []\n",
    "    for key in xz:\n",
    "        red_sum.append(((key), sum(xz[key])))\n",
    "    return red_sum"
   ]
  },
  {
   "cell_type": "code",
   "execution_count": 123,
   "metadata": {
    "collapsed": false
   },
   "outputs": [
    {
     "data": {
      "text/plain": [
       "[((1, 2), 70),\n",
       " ((3, 2), 278),\n",
       " ((3, 1), 110),\n",
       " ((2, 1), 70),\n",
       " ((2, 2), 174),\n",
       " ((1, 1), 30)]"
      ]
     },
     "execution_count": 123,
     "metadata": {},
     "output_type": "execute_result"
    }
   ],
   "source": [
    "red2(map2(red1(map1_M,map1_N)))"
   ]
  },
  {
   "cell_type": "code",
   "execution_count": null,
   "metadata": {
    "collapsed": true
   },
   "outputs": [],
   "source": []
  },
  {
   "cell_type": "markdown",
   "metadata": {},
   "source": [
    "## Question 4"
   ]
  },
  {
   "cell_type": "markdown",
   "metadata": {},
   "source": [
    "Suppose we have the following relations:\n",
    "<img src=\"images/6a_4.JPG\">\n",
    "and we take their natural join by the algorithm of Section 2.3.7. Apply the Map function to the tuples of these relations. Then, construct the elements that are input to the Reduce function. Identify one of these elements in the list below.\n",
    "\n",
    "1. (0, [(S,1)])\n",
    "2. (1,(S,2))\n",
    "3. (2,(R,1))\n",
    "4. (1, [(S,2)])"
   ]
  },
  {
   "cell_type": "markdown",
   "metadata": {},
   "source": [
    "<img src=\"images/text_2.3.7_join.JPG\">"
   ]
  },
  {
   "cell_type": "code",
   "execution_count": 50,
   "metadata": {
    "collapsed": true
   },
   "outputs": [],
   "source": [
    "R = [(0,1), (1,2), (2,3)]\n",
    "S = [(0,1), (1,2), (2,3)]"
   ]
  },
  {
   "cell_type": "code",
   "execution_count": 51,
   "metadata": {
    "collapsed": false
   },
   "outputs": [
    {
     "data": {
      "text/plain": [
       "[(1, ('R', 0)), (2, ('R', 1)), (3, ('R', 2))]"
      ]
     },
     "execution_count": 51,
     "metadata": {},
     "output_type": "execute_result"
    }
   ],
   "source": [
    "# natural join Map Function for R\n",
    "\n",
    "map_R = []\n",
    "\n",
    "for r in R:\n",
    "    map_R.append((r[1],('R',r[0])))\n",
    "\n",
    "map_R"
   ]
  },
  {
   "cell_type": "code",
   "execution_count": 52,
   "metadata": {
    "collapsed": false
   },
   "outputs": [
    {
     "data": {
      "text/plain": [
       "[(0, ('S', 1)), (1, ('S', 2)), (2, ('S', 3))]"
      ]
     },
     "execution_count": 52,
     "metadata": {},
     "output_type": "execute_result"
    }
   ],
   "source": [
    "# natural join Map Function for S\n",
    "\n",
    "map_S = []\n",
    "\n",
    "for s in S:\n",
    "    map_S.append((s[0],('S',s[1])))\n",
    "\n",
    "map_S"
   ]
  },
  {
   "cell_type": "code",
   "execution_count": 54,
   "metadata": {
    "collapsed": false
   },
   "outputs": [
    {
     "name": "stdout",
     "output_type": "stream",
     "text": [
      "[(0, [('S', 1)]), (1, [('R', 0), ('S', 2)]), (2, [('R', 1), ('S', 3)]), (3, [('R', 2)])]\n"
     ]
    }
   ],
   "source": [
    "# construct list to be passed to reducer\n",
    "\n",
    "map_RS = []\n",
    "\n",
    "for i in range(4):\n",
    "    temp = (i, [])\n",
    "    for r in map_R:\n",
    "        if i == r[0]:\n",
    "            temp[1].append(r[1])\n",
    "    for s in map_S:\n",
    "        if i == s[0]:\n",
    "            temp[1].append(s[1])\n",
    "            \n",
    "    map_RS.append(temp)\n",
    "            \n",
    "print map_RS"
   ]
  },
  {
   "cell_type": "markdown",
   "metadata": {},
   "source": [
    "## answer: (0, [('S', 1)])\n",
    "from above output list"
   ]
  },
  {
   "cell_type": "code",
   "execution_count": 58,
   "metadata": {
    "collapsed": false
   },
   "outputs": [
    {
     "data": {
      "text/plain": [
       "[(0, 1, 2), (1, 2, 3)]"
      ]
     },
     "execution_count": 58,
     "metadata": {},
     "output_type": "execute_result"
    }
   ],
   "source": [
    "reduce_RS = []\n",
    "\n",
    "for rs in map_RS:\n",
    "    pairs = rs[1]\n",
    "    if len(pairs) > 1:\n",
    "        a = pairs[0][1]\n",
    "        b = rs[0]\n",
    "        c = pairs[1][1]\n",
    "        \n",
    "        reduce_RS.append((a,b,c))\n",
    "            \n",
    "reduce_RS"
   ]
  },
  {
   "cell_type": "code",
   "execution_count": null,
   "metadata": {
    "collapsed": true
   },
   "outputs": [],
   "source": []
  }
 ],
 "metadata": {
  "kernelspec": {
   "display_name": "Python 2",
   "language": "python",
   "name": "python2"
  },
  "language_info": {
   "codemirror_mode": {
    "name": "ipython",
    "version": 2
   },
   "file_extension": ".py",
   "mimetype": "text/x-python",
   "name": "python",
   "nbconvert_exporter": "python",
   "pygments_lexer": "ipython2",
   "version": "2.7.10"
  }
 },
 "nbformat": 4,
 "nbformat_minor": 0
}
