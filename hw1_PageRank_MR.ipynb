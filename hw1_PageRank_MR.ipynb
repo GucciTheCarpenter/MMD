{
 "cells": [
  {
   "cell_type": "code",
   "execution_count": 1,
   "metadata": {
    "collapsed": true
   },
   "outputs": [],
   "source": [
    "import numpy as np"
   ]
  },
  {
   "cell_type": "markdown",
   "metadata": {},
   "source": [
    "## Question 1"
   ]
  },
  {
   "cell_type": "markdown",
   "metadata": {},
   "source": [
    "<img src=\"images/otc_pagerank2.gif\">"
   ]
  },
  {
   "cell_type": "markdown",
   "metadata": {},
   "source": [
    "Suppose we compute PageRank with a ß of 0.7, and we introduce the additional constraint that the sum of the PageRanks of the three pages must be 3, to handle the problem that otherwise any multiple of a solution will also be a solution. Compute the PageRanks a, b, and c of the three pages A, B, and C, respectively."
   ]
  },
  {
   "cell_type": "markdown",
   "metadata": {},
   "source": [
    "Then, identify from the list below, the true statement.\n",
    "\n",
    "1. a + c = 2.745\n",
    "2. a + c = 1.985\n",
    "3. b + c = 2.7\n",
    "4. a + b = 0.655"
   ]
  },
  {
   "cell_type": "markdown",
   "metadata": {},
   "source": [
    "v' = ßMv + (1 - ß)(e/n)"
   ]
  },
  {
   "cell_type": "code",
   "execution_count": 2,
   "metadata": {
    "collapsed": false
   },
   "outputs": [
    {
     "data": {
      "text/plain": [
       "array([[ 0. ,  0. ,  0. ],\n",
       "       [ 0.5,  0. ,  0. ],\n",
       "       [ 0.5,  1. ,  1. ]])"
      ]
     },
     "execution_count": 2,
     "metadata": {},
     "output_type": "execute_result"
    }
   ],
   "source": [
    "M1 = np.array([0., 0., 0., .5, 0., 0., .5, 1., 1.]).reshape((3,3))\n",
    "M1"
   ]
  },
  {
   "cell_type": "code",
   "execution_count": 3,
   "metadata": {
    "collapsed": false
   },
   "outputs": [
    {
     "data": {
      "text/plain": [
       "array([[ 1.],\n",
       "       [ 1.],\n",
       "       [ 1.]])"
      ]
     },
     "execution_count": 3,
     "metadata": {},
     "output_type": "execute_result"
    }
   ],
   "source": [
    "# the sum of the PageRanks of the three pages must be 3\n",
    "# v0 = np.array([1., 1., 1.]).reshape((3,1))\n",
    "v0 = np.ones((3,1))\n",
    "v0"
   ]
  },
  {
   "cell_type": "code",
   "execution_count": 4,
   "metadata": {
    "collapsed": false
   },
   "outputs": [
    {
     "data": {
      "text/plain": [
       "array([[ 0.1],\n",
       "       [ 0.1],\n",
       "       [ 0.1]])"
      ]
     },
     "execution_count": 4,
     "metadata": {},
     "output_type": "execute_result"
    }
   ],
   "source": [
    "# teleport / random surfer\n",
    "beta = 0.7\n",
    "\n",
    "# e / n\n",
    "# ones = np.ones(3).reshape((3,1))\n",
    "ones = np.ones((3,1))\n",
    "e_div_n = ones * 1./3.\n",
    "surfer = e_div_n * (1. - beta)\n",
    "surfer"
   ]
  },
  {
   "cell_type": "code",
   "execution_count": 5,
   "metadata": {
    "collapsed": true
   },
   "outputs": [],
   "source": [
    "v_test = range(1, 21)\n",
    "rank_list = []\n",
    "\n",
    "rank_list.append(v0)"
   ]
  },
  {
   "cell_type": "code",
   "execution_count": 6,
   "metadata": {
    "collapsed": false
   },
   "outputs": [],
   "source": [
    "for i in v_test:\n",
    "    v_prime = beta * np.dot(M1, rank_list[i - 1]) + surfer\n",
    "    # re-insert the leaked PageRank\n",
    "    leaked = 3. - sum(v_prime)\n",
    "    re_insert = np.ones((3,1)) * leaked/3.\n",
    "    v_prime = np.add(v_prime, re_insert)\n",
    "    rank_list.append(v_prime)"
   ]
  },
  {
   "cell_type": "code",
   "execution_count": 7,
   "metadata": {
    "collapsed": false
   },
   "outputs": [
    {
     "data": {
      "text/plain": [
       "array([[ 0.3  ],\n",
       "       [ 0.405],\n",
       "       [ 2.295]])"
      ]
     },
     "execution_count": 7,
     "metadata": {},
     "output_type": "execute_result"
    }
   ],
   "source": [
    "rank_list[-1]"
   ]
  },
  {
   "cell_type": "code",
   "execution_count": 8,
   "metadata": {
    "collapsed": true
   },
   "outputs": [],
   "source": [
    "## b + c = 2.7"
   ]
  },
  {
   "cell_type": "markdown",
   "metadata": {},
   "source": [
    "## Question 2"
   ]
  },
  {
   "cell_type": "markdown",
   "metadata": {},
   "source": [
    "<img src=\"images/otc_pagerank3.gif\">"
   ]
  },
  {
   "cell_type": "markdown",
   "metadata": {},
   "source": [
    "Suppose we compute PageRank with ß=0.85. Write the equations for the PageRanks a, b, and c of the three pages A, B, and C, respectively. Then, identify in the list below, one of the equations."
   ]
  },
  {
   "cell_type": "markdown",
   "metadata": {},
   "source": [
    "// do not run cell //\n",
    ".95c = .9b + .475a\n",
    "a = .9c + .05b\n",
    "b = .575a + .15c\n",
    "c = b + .575a"
   ]
  },
  {
   "cell_type": "markdown",
   "metadata": {},
   "source": [
    "v' = ßMv + (1 - ß)(e/n)"
   ]
  },
  {
   "cell_type": "code",
   "execution_count": 9,
   "metadata": {
    "collapsed": false
   },
   "outputs": [
    {
     "data": {
      "text/plain": [
       "array([[ 0. ,  0. ,  1. ],\n",
       "       [ 0.5,  0. ,  0. ],\n",
       "       [ 0.5,  1. ,  0. ]])"
      ]
     },
     "execution_count": 9,
     "metadata": {},
     "output_type": "execute_result"
    }
   ],
   "source": [
    "M2 = np.array([0., 0., 1., .5, 0., 0., .5, 1., 0.]).reshape((3,3))\n",
    "M2"
   ]
  },
  {
   "cell_type": "code",
   "execution_count": 10,
   "metadata": {
    "collapsed": false
   },
   "outputs": [
    {
     "data": {
      "text/plain": [
       "(0.85, array([[ 0.33333333],\n",
       "        [ 0.33333333],\n",
       "        [ 0.33333333]]), array([[ 0.05],\n",
       "        [ 0.05],\n",
       "        [ 0.05]]))"
      ]
     },
     "execution_count": 10,
     "metadata": {},
     "output_type": "execute_result"
    }
   ],
   "source": [
    "beta2 = .85\n",
    "v0_2 = np.ones((3,1)) * 1./3.\n",
    "surfer2 = (1. - beta2) * np.ones((3,1)) * 1./3.\n",
    "beta2, v0_2, surfer2"
   ]
  },
  {
   "cell_type": "code",
   "execution_count": 11,
   "metadata": {
    "collapsed": true
   },
   "outputs": [],
   "source": [
    "v_test2 = range(1, 31)\n",
    "rank_list2 = []\n",
    "\n",
    "rank_list2.append(v0_2)"
   ]
  },
  {
   "cell_type": "code",
   "execution_count": 12,
   "metadata": {
    "collapsed": false
   },
   "outputs": [
    {
     "data": {
      "text/plain": [
       "[array([[ 0.33333333],\n",
       "        [ 0.33333333],\n",
       "        [ 0.33333333]])]"
      ]
     },
     "execution_count": 12,
     "metadata": {},
     "output_type": "execute_result"
    }
   ],
   "source": [
    "rank_list2"
   ]
  },
  {
   "cell_type": "code",
   "execution_count": 13,
   "metadata": {
    "collapsed": true
   },
   "outputs": [],
   "source": [
    "for i in v_test2:\n",
    "    v_prime = beta2 * np.dot(M2, rank_list2[i - 1]) + surfer2\n",
    "    # re-insert the leaked PageRank\n",
    "    leaked = 1. - sum(v_prime)\n",
    "    re_insert = np.ones((3,1)) * leaked/3.\n",
    "    v_prime = np.add(v_prime, re_insert)\n",
    "    rank_list2.append(v_prime)"
   ]
  },
  {
   "cell_type": "code",
   "execution_count": 14,
   "metadata": {
    "collapsed": false
   },
   "outputs": [
    {
     "data": {
      "text/plain": [
       "31"
      ]
     },
     "execution_count": 14,
     "metadata": {},
     "output_type": "execute_result"
    }
   ],
   "source": [
    "len(rank_list2)"
   ]
  },
  {
   "cell_type": "code",
   "execution_count": 15,
   "metadata": {
    "collapsed": false
   },
   "outputs": [
    {
     "data": {
      "text/plain": [
       "array([[ 0.38778967],\n",
       "       [ 0.21481064],\n",
       "       [ 0.39739969]])"
      ]
     },
     "execution_count": 15,
     "metadata": {},
     "output_type": "execute_result"
    }
   ],
   "source": [
    "pageranks2 = rank_list2[-1]\n",
    "pageranks2"
   ]
  },
  {
   "cell_type": "code",
   "execution_count": 16,
   "metadata": {
    "collapsed": false
   },
   "outputs": [
    {
     "data": {
      "text/plain": [
       "(0.38778966918159774, 0.21481064239242184, 0.39739968842598039)"
      ]
     },
     "execution_count": 16,
     "metadata": {},
     "output_type": "execute_result"
    }
   ],
   "source": [
    "a = pageranks2[0][0]\n",
    "b = pageranks2[1][0]\n",
    "c = pageranks2[2][0]\n",
    "a, b, c"
   ]
  },
  {
   "cell_type": "code",
   "execution_count": 32,
   "metadata": {
    "collapsed": false
   },
   "outputs": [
    {
     "data": {
      "text/plain": [
       "(True, 0.37752970400468133, 0.37752967101443857)"
      ]
     },
     "execution_count": 32,
     "metadata": {},
     "output_type": "execute_result"
    }
   ],
   "source": [
    "# close enough!\n",
    "# round to get approximate equation\n",
    "\n",
    "float(\"%.5f\" % (.95*c)) == float(\"%.5f\" % (.9*b + .475*a)), .95*c, .9*b + .475*a"
   ]
  },
  {
   "cell_type": "code",
   "execution_count": 18,
   "metadata": {
    "collapsed": false
   },
   "outputs": [
    {
     "data": {
      "text/plain": [
       "(False, 0.38778966918159774, 0.3684002517030035)"
      ]
     },
     "execution_count": 18,
     "metadata": {},
     "output_type": "execute_result"
    }
   ],
   "source": [
    "a == .9*c + .05*b, a, .9*c + .05*b"
   ]
  },
  {
   "cell_type": "code",
   "execution_count": 19,
   "metadata": {
    "collapsed": false
   },
   "outputs": [
    {
     "data": {
      "text/plain": [
       "(False, 0.21481064239242184, 0.28258901304331574)"
      ]
     },
     "execution_count": 19,
     "metadata": {},
     "output_type": "execute_result"
    }
   ],
   "source": [
    "b == .575*a + .15*c, b, .575*a + .15*c"
   ]
  },
  {
   "cell_type": "code",
   "execution_count": 20,
   "metadata": {
    "collapsed": false
   },
   "outputs": [
    {
     "data": {
      "text/plain": [
       "(False, 0.39739968842598039, 0.43778970217184054)"
      ]
     },
     "execution_count": 20,
     "metadata": {},
     "output_type": "execute_result"
    }
   ],
   "source": [
    "c == b + .575*a, c, b + .575*a"
   ]
  },
  {
   "cell_type": "code",
   "execution_count": null,
   "metadata": {
    "collapsed": true
   },
   "outputs": [],
   "source": [
    "## .95c = .9b + .475a"
   ]
  },
  {
   "cell_type": "markdown",
   "metadata": {},
   "source": [
    "## Question 3"
   ]
  },
  {
   "cell_type": "markdown",
   "metadata": {},
   "source": [
    "<img src=\"images/otc_pagerank3 (1).gif\">"
   ]
  },
  {
   "cell_type": "markdown",
   "metadata": {},
   "source": [
    "Assuming no \"taxation,\" compute the PageRanks a, b, and c of the three pages A, B, and C, using iteration, starting with the \"0th\" iteration where all three pages have rank a = b = c = 1. Compute as far as the 5th iteration, and also determine what the PageRanks are in the limit. Then, identify the true statement from the list below."
   ]
  },
  {
   "cell_type": "markdown",
   "metadata": {},
   "source": [
    "// do not run cell //\n",
    "After iteration 4, a = 9/8\n",
    "In the limit, c = 4/3\n",
    "In the limit, c = 6/5\n",
    "In the limit, a = 5/4"
   ]
  },
  {
   "cell_type": "code",
   "execution_count": 37,
   "metadata": {
    "collapsed": false
   },
   "outputs": [
    {
     "data": {
      "text/plain": [
       "array([[ 0. ,  0. ,  1. ],\n",
       "       [ 0.5,  0. ,  0. ],\n",
       "       [ 0.5,  1. ,  0. ]])"
      ]
     },
     "execution_count": 37,
     "metadata": {},
     "output_type": "execute_result"
    }
   ],
   "source": [
    "M3 = np.array([0., 0., 1., .5, 0., 0., .5, 1., 0.]).reshape((3,3))\n",
    "M3"
   ]
  },
  {
   "cell_type": "code",
   "execution_count": 38,
   "metadata": {
    "collapsed": false
   },
   "outputs": [
    {
     "data": {
      "text/plain": [
       "array([[ 1.],\n",
       "       [ 1.],\n",
       "       [ 1.]])"
      ]
     },
     "execution_count": 38,
     "metadata": {},
     "output_type": "execute_result"
    }
   ],
   "source": [
    "v0_3 = np.ones((3,1))\n",
    "v0_3"
   ]
  },
  {
   "cell_type": "code",
   "execution_count": 47,
   "metadata": {
    "collapsed": true
   },
   "outputs": [],
   "source": [
    "v_test3 = range(1, 101)\n",
    "rank_list3 = []\n",
    "\n",
    "rank_list3.append(v0_3)"
   ]
  },
  {
   "cell_type": "code",
   "execution_count": 48,
   "metadata": {
    "collapsed": true
   },
   "outputs": [],
   "source": [
    "for i in v_test3:\n",
    "    v_prime = np.dot(M3, rank_list3[i-1])\n",
    "    rank_list3.append(v_prime)"
   ]
  },
  {
   "cell_type": "code",
   "execution_count": 49,
   "metadata": {
    "collapsed": false
   },
   "outputs": [
    {
     "data": {
      "text/plain": [
       "array([[ 1.25],\n",
       "       [ 0.5 ],\n",
       "       [ 1.25]])"
      ]
     },
     "execution_count": 49,
     "metadata": {},
     "output_type": "execute_result"
    }
   ],
   "source": [
    "rank_list3[4]"
   ]
  },
  {
   "cell_type": "code",
   "execution_count": 51,
   "metadata": {
    "collapsed": false
   },
   "outputs": [
    {
     "data": {
      "text/plain": [
       "array([[ 1.2],\n",
       "       [ 0.6],\n",
       "       [ 1.2]])"
      ]
     },
     "execution_count": 51,
     "metadata": {},
     "output_type": "execute_result"
    }
   ],
   "source": [
    "rank_list3[-1]"
   ]
  },
  {
   "cell_type": "code",
   "execution_count": null,
   "metadata": {
    "collapsed": true
   },
   "outputs": [],
   "source": [
    "## In the limit, c = 6/5"
   ]
  },
  {
   "cell_type": "markdown",
   "metadata": {},
   "source": [
    "## Question 4"
   ]
  },
  {
   "cell_type": "markdown",
   "metadata": {},
   "source": [
    "Suppose our input data to a map-reduce operation consists of integer values (the keys are not important). The map function takes an integer i and produces the list of pairs (p,i) such that p is a prime divisor of i. For example, map(12) = [(2,12), (3,12)].\n",
    "The reduce function is addition. That is, reduce(p, [i1, i2, ...,ik]) is (p,i1+i2+...+ik).\n",
    "\n",
    "Compute the output, if the input is the set of integers 15, 21, 24, 30, 49. Then, identify, in the list below, one of the pairs in the output."
   ]
  },
  {
   "cell_type": "markdown",
   "metadata": {},
   "source": [
    "// do not run cell // \n",
    "(7,119)\n",
    "(2,102)\n",
    "(3,69)\n",
    "(3,90)"
   ]
  },
  {
   "cell_type": "code",
   "execution_count": 75,
   "metadata": {
    "collapsed": true
   },
   "outputs": [],
   "source": [
    "from collections import defaultdict"
   ]
  },
  {
   "cell_type": "code",
   "execution_count": 52,
   "metadata": {
    "collapsed": true
   },
   "outputs": [],
   "source": [
    "input = [15, 21, 24, 30, 49]"
   ]
  },
  {
   "cell_type": "code",
   "execution_count": 80,
   "metadata": {
    "collapsed": false
   },
   "outputs": [
    {
     "data": {
      "text/plain": [
       "{15: [(3, 15), (5, 15)],\n",
       " 21: [(3, 21), (7, 21)],\n",
       " 24: [(3, 24)],\n",
       " 30: [(3, 30), (5, 30), (15, 30)],\n",
       " 49: [(7, 49)]}"
      ]
     },
     "execution_count": 80,
     "metadata": {},
     "output_type": "execute_result"
    }
   ],
   "source": [
    "map_dict = {}\n",
    "\n",
    "\n",
    "# correct answer derived\n",
    "# BUT\n",
    "# the inner-most for-loop to identify prime factors is faulty:\n",
    "# leaving out '2' as a factor AND including '15' as a prime factor\n",
    "for i in input:\n",
    "    map_dict[i] = []\n",
    "    # print i, range(2, i)\n",
    "    for j in range(2, i):\n",
    "        if i%j == 0:\n",
    "            # print j, range(2, j)\n",
    "            for k in (2,j):\n",
    "                if j%k == 0:\n",
    "                    break\n",
    "                else:\n",
    "                    map_dict[i].append((j, i))\n",
    "        \n",
    "map_dict"
   ]
  },
  {
   "cell_type": "code",
   "execution_count": 70,
   "metadata": {
    "collapsed": false
   },
   "outputs": [
    {
     "data": {
      "text/plain": [
       "15"
      ]
     },
     "execution_count": 70,
     "metadata": {},
     "output_type": "execute_result"
    }
   ],
   "source": [
    "u, v = map_dict[15][0][0], map_dict[15][0][1]\n",
    "v"
   ]
  },
  {
   "cell_type": "code",
   "execution_count": 77,
   "metadata": {
    "collapsed": false
   },
   "outputs": [
    {
     "data": {
      "text/plain": [
       "{3: 90, 5: 45, 7: 70, 15: 30}"
      ]
     },
     "execution_count": 77,
     "metadata": {},
     "output_type": "execute_result"
    }
   ],
   "source": [
    "output = {}\n",
    "\n",
    "for k in map_dict:\n",
    "    for i in range(len(map_dict[k])):\n",
    "        if map_dict[k][i][0] not in output:\n",
    "            output[map_dict[k][i][0]] = map_dict[k][i][1]\n",
    "        else:\n",
    "            output[map_dict[k][i][0]] += map_dict[k][i][1]\n",
    "        \n",
    "output"
   ]
  },
  {
   "cell_type": "code",
   "execution_count": null,
   "metadata": {
    "collapsed": true
   },
   "outputs": [],
   "source": [
    "## (3,90)"
   ]
  }
 ],
 "metadata": {
  "kernelspec": {
   "display_name": "Python 2",
   "language": "python",
   "name": "python2"
  },
  "language_info": {
   "codemirror_mode": {
    "name": "ipython",
    "version": 2
   },
   "file_extension": ".py",
   "mimetype": "text/x-python",
   "name": "python",
   "nbconvert_exporter": "python",
   "pygments_lexer": "ipython2",
   "version": "2.7.10"
  }
 },
 "nbformat": 4,
 "nbformat_minor": 0
}
