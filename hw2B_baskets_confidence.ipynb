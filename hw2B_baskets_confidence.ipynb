{
 "cells": [
  {
   "cell_type": "code",
   "execution_count": 1,
   "metadata": {
    "collapsed": true
   },
   "outputs": [],
   "source": [
    "import numpy as np\n",
    "import pandas as pd"
   ]
  },
  {
   "cell_type": "code",
   "execution_count": null,
   "metadata": {
    "collapsed": true
   },
   "outputs": [],
   "source": []
  },
  {
   "cell_type": "markdown",
   "metadata": {},
   "source": [
    "## Question 2"
   ]
  },
  {
   "cell_type": "markdown",
   "metadata": {},
   "source": [
    "Imagine there are 100 baskets, numbered 1,2,...,100, and 100 items, similarly numbered. Item i is in basket j if and only if i divides j evenly. For example, basket 24 is the set of items {1,2,3,4,6,8,12,24}. Describe all the association rules that have 100% confidence. Which of the following rules has 100% confidence?"
   ]
  },
  {
   "cell_type": "markdown",
   "metadata": {},
   "source": [
    "{4,6} → 24 <br>\n",
    "{2,3,5} → 45 <br>\n",
    "{3,5} → 1 <br>\n",
    "{8,12} → 96"
   ]
  },
  {
   "cell_type": "code",
   "execution_count": 4,
   "metadata": {
    "collapsed": false
   },
   "outputs": [],
   "source": [
    "def factors(n):\n",
    "    return set(reduce(list.__add__,([i, n//i] for i in range(1, int(n**0.5) + 1) if n % i == 0)))"
   ]
  },
  {
   "cell_type": "code",
   "execution_count": 5,
   "metadata": {
    "collapsed": false
   },
   "outputs": [
    {
     "data": {
      "text/plain": [
       "{1, 2, 3, 4, 6, 8, 12, 24}"
      ]
     },
     "execution_count": 5,
     "metadata": {},
     "output_type": "execute_result"
    }
   ],
   "source": [
    "factors(24)"
   ]
  },
  {
   "cell_type": "code",
   "execution_count": 6,
   "metadata": {
    "collapsed": false
   },
   "outputs": [],
   "source": [
    "baskets = {}\n",
    "\n",
    "for i in range(1,101):\n",
    "    baskets[i] = factors(i)"
   ]
  },
  {
   "cell_type": "code",
   "execution_count": 30,
   "metadata": {
    "collapsed": false,
    "scrolled": true
   },
   "outputs": [
    {
     "data": {
      "text/plain": [
       "{1: {1},\n",
       " 2: {1, 2},\n",
       " 3: {1, 3},\n",
       " 4: {1, 2, 4},\n",
       " 5: {1, 5},\n",
       " 6: {1, 2, 3, 6},\n",
       " 7: {1, 7},\n",
       " 8: {1, 2, 4, 8},\n",
       " 9: {1, 3, 9},\n",
       " 10: {1, 2, 5, 10},\n",
       " 11: {1, 11},\n",
       " 12: {1, 2, 3, 4, 6, 12},\n",
       " 13: {1, 13},\n",
       " 14: {1, 2, 7, 14},\n",
       " 15: {1, 3, 5, 15},\n",
       " 16: {1, 2, 4, 8, 16},\n",
       " 17: {1, 17},\n",
       " 18: {1, 2, 3, 6, 9, 18},\n",
       " 19: {1, 19},\n",
       " 20: {1, 2, 4, 5, 10, 20},\n",
       " 21: {1, 3, 7, 21},\n",
       " 22: {1, 2, 11, 22},\n",
       " 23: {1, 23},\n",
       " 24: {1, 2, 3, 4, 6, 8, 12, 24},\n",
       " 25: {1, 5, 25},\n",
       " 26: {1, 2, 13, 26},\n",
       " 27: {1, 3, 9, 27},\n",
       " 28: {1, 2, 4, 7, 14, 28},\n",
       " 29: {1, 29},\n",
       " 30: {1, 2, 3, 5, 6, 10, 15, 30},\n",
       " 31: {1, 31},\n",
       " 32: {1, 2, 4, 8, 16, 32},\n",
       " 33: {1, 3, 11, 33},\n",
       " 34: {1, 2, 17, 34},\n",
       " 35: {1, 5, 7, 35},\n",
       " 36: {1, 2, 3, 4, 6, 9, 12, 18, 36},\n",
       " 37: {1, 37},\n",
       " 38: {1, 2, 19, 38},\n",
       " 39: {1, 3, 13, 39},\n",
       " 40: {1, 2, 4, 5, 8, 10, 20, 40},\n",
       " 41: {1, 41},\n",
       " 42: {1, 2, 3, 6, 7, 14, 21, 42},\n",
       " 43: {1, 43},\n",
       " 44: {1, 2, 4, 11, 22, 44},\n",
       " 45: {1, 3, 5, 9, 15, 45},\n",
       " 46: {1, 2, 23, 46},\n",
       " 47: {1, 47},\n",
       " 48: {1, 2, 3, 4, 6, 8, 12, 16, 24, 48},\n",
       " 49: {1, 7, 49},\n",
       " 50: {1, 2, 5, 10, 25, 50},\n",
       " 51: {1, 3, 17, 51},\n",
       " 52: {1, 2, 4, 13, 26, 52},\n",
       " 53: {1, 53},\n",
       " 54: {1, 2, 3, 6, 9, 18, 27, 54},\n",
       " 55: {1, 5, 11, 55},\n",
       " 56: {1, 2, 4, 7, 8, 14, 28, 56},\n",
       " 57: {1, 3, 19, 57},\n",
       " 58: {1, 2, 29, 58},\n",
       " 59: {1, 59},\n",
       " 60: {1, 2, 3, 4, 5, 6, 10, 12, 15, 20, 30, 60},\n",
       " 61: {1, 61},\n",
       " 62: {1, 2, 31, 62},\n",
       " 63: {1, 3, 7, 9, 21, 63},\n",
       " 64: {1, 2, 4, 8, 16, 32, 64},\n",
       " 65: {1, 5, 13, 65},\n",
       " 66: {1, 2, 3, 6, 11, 22, 33, 66},\n",
       " 67: {1, 67},\n",
       " 68: {1, 2, 4, 17, 34, 68},\n",
       " 69: {1, 3, 23, 69},\n",
       " 70: {1, 2, 5, 7, 10, 14, 35, 70},\n",
       " 71: {1, 71},\n",
       " 72: {1, 2, 3, 4, 6, 8, 9, 12, 18, 24, 36, 72},\n",
       " 73: {1, 73},\n",
       " 74: {1, 2, 37, 74},\n",
       " 75: {1, 3, 5, 15, 25, 75},\n",
       " 76: {1, 2, 4, 19, 38, 76},\n",
       " 77: {1, 7, 11, 77},\n",
       " 78: {1, 2, 3, 6, 13, 26, 39, 78},\n",
       " 79: {1, 79},\n",
       " 80: {1, 2, 4, 5, 8, 10, 16, 20, 40, 80},\n",
       " 81: {1, 3, 9, 27, 81},\n",
       " 82: {1, 2, 41, 82},\n",
       " 83: {1, 83},\n",
       " 84: {1, 2, 3, 4, 6, 7, 12, 14, 21, 28, 42, 84},\n",
       " 85: {1, 5, 17, 85},\n",
       " 86: {1, 2, 43, 86},\n",
       " 87: {1, 3, 29, 87},\n",
       " 88: {1, 2, 4, 8, 11, 22, 44, 88},\n",
       " 89: {1, 89},\n",
       " 90: {1, 2, 3, 5, 6, 9, 10, 15, 18, 30, 45, 90},\n",
       " 91: {1, 7, 13, 91},\n",
       " 92: {1, 2, 4, 23, 46, 92},\n",
       " 93: {1, 3, 31, 93},\n",
       " 94: {1, 2, 47, 94},\n",
       " 95: {1, 5, 19, 95},\n",
       " 96: {1, 2, 3, 4, 6, 8, 12, 16, 24, 32, 48, 96},\n",
       " 97: {1, 97},\n",
       " 98: {1, 2, 7, 14, 49, 98},\n",
       " 99: {1, 3, 9, 11, 33, 99},\n",
       " 100: {1, 2, 4, 5, 10, 20, 25, 50, 100}}"
      ]
     },
     "execution_count": 30,
     "metadata": {},
     "output_type": "execute_result"
    }
   ],
   "source": [
    "baskets"
   ]
  },
  {
   "cell_type": "code",
   "execution_count": 22,
   "metadata": {
    "collapsed": false
   },
   "outputs": [
    {
     "name": "stdout",
     "output_type": "stream",
     "text": [
      "[4, 6]\n",
      "12 set([1, 2, 3, 4, 6, 12])\n",
      "24 set([1, 2, 3, 4, 6, 8, 12, 24])\n",
      "36 set([1, 2, 3, 36, 6, 9, 12, 18, 4])\n",
      "48 set([1, 2, 3, 4, 6, 16, 8, 12, 48, 24])\n",
      "60 set([1, 2, 3, 4, 5, 6, 10, 12, 15, 20, 60, 30])\n",
      "72 set([1, 2, 3, 36, 6, 72, 9, 12, 8, 18, 24, 4])\n",
      "84 set([1, 2, 3, 4, 6, 7, 42, 12, 14, 84, 21, 28])\n",
      "96 set([96, 1, 2, 3, 4, 6, 32, 8, 12, 48, 24, 16])\n",
      "[2, 3, 5]\n",
      "30 set([1, 2, 3, 5, 6, 10, 15, 30])\n",
      "60 set([1, 2, 3, 4, 5, 6, 10, 12, 15, 20, 60, 30])\n",
      "90 set([1, 2, 3, 5, 6, 9, 10, 45, 15, 18, 90, 30])\n",
      "[3, 5]\n",
      "15 set([1, 3, 5, 15])\n",
      "30 set([1, 2, 3, 5, 6, 10, 15, 30])\n",
      "45 set([1, 3, 5, 9, 45, 15])\n",
      "60 set([1, 2, 3, 4, 5, 6, 10, 12, 15, 20, 60, 30])\n",
      "75 set([1, 3, 5, 75, 15, 25])\n",
      "90 set([1, 2, 3, 5, 6, 9, 10, 45, 15, 18, 90, 30])\n",
      "[8, 12]\n",
      "24 set([1, 2, 3, 4, 6, 8, 12, 24])\n",
      "48 set([1, 2, 3, 4, 6, 16, 8, 12, 48, 24])\n",
      "72 set([1, 2, 3, 36, 6, 72, 9, 12, 8, 18, 24, 4])\n",
      "96 set([96, 1, 2, 3, 4, 6, 32, 8, 12, 48, 24, 16])\n"
     ]
    }
   ],
   "source": [
    "candidates = [[4,6], [2,3,5], [3,5], [8,12]]\n",
    "\n",
    "for c in candidates:\n",
    "    print c\n",
    "    for b in baskets:\n",
    "        if set(c) == set(c).intersection(baskets[b]):\n",
    "            print b, baskets[b]"
   ]
  },
  {
   "cell_type": "code",
   "execution_count": 24,
   "metadata": {
    "collapsed": false
   },
   "outputs": [],
   "source": [
    "candidates2 = {24:[4,6], 45:[2,3,5], 1:[3,5], 96:[8,12]}"
   ]
  },
  {
   "cell_type": "code",
   "execution_count": 8,
   "metadata": {
    "collapsed": true
   },
   "outputs": [],
   "source": [
    "candidates2 = {80: [4,10,12], 20: [8, 10], 2: [1], 16: [8]}"
   ]
  },
  {
   "cell_type": "code",
   "execution_count": 11,
   "metadata": {
    "collapsed": true
   },
   "outputs": [],
   "source": [
    "candidates2 = {16: [8], 12: [1,3,6], 24: [4,6], 1: [3,5]}"
   ]
  },
  {
   "cell_type": "code",
   "execution_count": 12,
   "metadata": {
    "collapsed": true
   },
   "outputs": [],
   "source": [
    "candidates2 = {24: [4,6], 16: [8], 1: [3,5], 96: [8, 12]}"
   ]
  },
  {
   "cell_type": "code",
   "execution_count": 13,
   "metadata": {
    "collapsed": false
   },
   "outputs": [
    {
     "name": "stdout",
     "output_type": "stream",
     "text": [
      "24 [4, 6]\n",
      "Confidence: 0.5\n",
      "16 [8]\n",
      "Confidence: 0.5\n",
      "96 [8, 12]\n",
      "Confidence: 0.25\n",
      "1 [3, 5]\n",
      "Confidence: 1.0\n"
     ]
    }
   ],
   "source": [
    "for c in candidates2:\n",
    "    print c, candidates2[c]\n",
    "    basket_count = 0\n",
    "    j_appearance = 0\n",
    "    for b in baskets:\n",
    "        if set(candidates2[c]) == set(candidates2[c]).intersection(baskets[b]):\n",
    "            basket_count += 1\n",
    "            # print b, baskets[b]\n",
    "            if c in baskets[b]:\n",
    "                j_appearance += 1\n",
    "    print \"Confidence: \" + str(float(j_appearance)/basket_count)\n",
    "    "
   ]
  },
  {
   "cell_type": "code",
   "execution_count": 23,
   "metadata": {
    "collapsed": false
   },
   "outputs": [],
   "source": [
    "## {3,5} → 1"
   ]
  },
  {
   "cell_type": "code",
   "execution_count": null,
   "metadata": {
    "collapsed": false
   },
   "outputs": [],
   "source": []
  },
  {
   "cell_type": "code",
   "execution_count": null,
   "metadata": {
    "collapsed": true
   },
   "outputs": [],
   "source": []
  }
 ],
 "metadata": {
  "kernelspec": {
   "display_name": "Python 2",
   "language": "python",
   "name": "python2"
  },
  "language_info": {
   "codemirror_mode": {
    "name": "ipython",
    "version": 2
   },
   "file_extension": ".py",
   "mimetype": "text/x-python",
   "name": "python",
   "nbconvert_exporter": "python",
   "pygments_lexer": "ipython2",
   "version": "2.7.10"
  }
 },
 "nbformat": 4,
 "nbformat_minor": 0
}
