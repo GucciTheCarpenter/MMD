{
 "cells": [
  {
   "cell_type": "code",
   "execution_count": 1,
   "metadata": {
    "collapsed": true
   },
   "outputs": [],
   "source": [
    "import numpy as np"
   ]
  },
  {
   "cell_type": "code",
   "execution_count": null,
   "metadata": {
    "collapsed": true
   },
   "outputs": [],
   "source": []
  },
  {
   "cell_type": "markdown",
   "metadata": {},
   "source": [
    "## Question 2"
   ]
  },
  {
   "cell_type": "markdown",
   "metadata": {},
   "source": [
    "An ad publisher selects three ads to place on each page, in order from the top. Click-through rates (CTR's) at each position differ for each advertiser, and each advertiser has a different CTR for each position. Each advertiser bids for click-throughs, and each advertiser has a daily budget, which may not be exceeded. When a click-through occurs, the advertiser pays the amount they bid. In one day, there are 101 click-throughs to be auctioned.\n",
    "Here is a table of the bids, CTR's for positions 1, 2, and 3, and budget for each advertiser.\n",
    "<img src=\"images/5a_2.JPG\">\n",
    "The publisher uses the following strategy to allocate the three ad slots:\n",
    "\n",
    "1. Any advertiser whose budget is spent is ignored in what follows.\n",
    "2. The first slot goes to the advertiser whose expected yield for the first slot (product of the bid and the CTR for the first slot) is the greatest. This advertiser is ignored in what follows.\n",
    "3. The second slot goes to the advertiser whose expected yield for the second slot (product of the bid and the CTR for the second slot) is the greatest. This advertiser is ignored in what follows.\n",
    "4. The third slot goes to the advertiser whose expected yield for the third slot (product of the bid and the CTR for the third slot) is the greatest.\n",
    "\n",
    "The same three advertisers get the three ad positions until one of two things happens:\n",
    "\n",
    "1. An advertiser runs out of budget, or\n",
    "2. All 101 click-throughs have been obtained.\n",
    "\n",
    "Either of these events ends one phase of the allocation. If a phase ends because an advertiser ran out of budget, then they are assumed to get all the clicks their budget buys. During the same phase, we calculate the number of click-throughs received by the other two advertisers by assuming that all three received click-throughs in proportion to their respective CTR's for their positions (round to the nearest integer). If click-throughs remain, the publisher reallocates all three slots and starts a new phase.\n",
    "\n",
    "If the phase ends because all click-throughs have been allocated, assume that the three advertisers received click-throughs in proportion to their respective CTR's (again, rounding if necessary).\n",
    "\n",
    "Your task is to simulate the allocation of slots and to determine how many click-throughs each of the five advertisers get."
   ]
  },
  {
   "cell_type": "code",
   "execution_count": 266,
   "metadata": {
    "collapsed": true
   },
   "outputs": [],
   "source": [
    "advertisers = {\n",
    "    'A': {'bid': 0.10, 'ctr1': .015, 'ctr2': .010, 'ctr3': .005, 'budget': 1.},\n",
    "    'B': {'bid': 0.09, 'ctr1': .016, 'ctr2': .012, 'ctr3': .006, 'budget': 2.},\n",
    "    'C': {'bid': 0.08, 'ctr1': .017, 'ctr2': .014, 'ctr3': .007, 'budget': 3.},\n",
    "    'D': {'bid': 0.07, 'ctr1': .018, 'ctr2': .015, 'ctr3': .008, 'budget': 4.},\n",
    "    'E': {'bid': 0.06, 'ctr1': .019, 'ctr2': .016, 'ctr3': .010, 'budget': 5.}\n",
    "}\n",
    "\n",
    "# 'bid':, 'ctr1':, 'ctr2':, 'ctr3': , 'budget':"
   ]
  },
  {
   "cell_type": "code",
   "execution_count": 267,
   "metadata": {
    "collapsed": false
   },
   "outputs": [],
   "source": [
    "click_throughs = 11"
   ]
  },
  {
   "cell_type": "code",
   "execution_count": 268,
   "metadata": {
    "collapsed": true
   },
   "outputs": [],
   "source": [
    "ad_clicks = {\n",
    "    'A': 0,\n",
    "    'B': 0,\n",
    "    'C': 0,\n",
    "    'D': 0,\n",
    "    'E': 0\n",
    "}"
   ]
  },
  {
   "cell_type": "code",
   "execution_count": 271,
   "metadata": {
    "collapsed": false
   },
   "outputs": [
    {
     "name": "stdout",
     "output_type": "stream",
     "text": [
      "{'C': 0.00136, 'E': 0.00114, 'D': 0.00126}\n",
      "{'E': 0.00096, 'D': 0.00105}\n",
      "{'E': 0.0006}\n",
      "('C', 0.00136) ('D', 0.00105) ('E', 0.0006)\n",
      "9 C\n",
      "E 5 0.3\n",
      "D 8 0.56\n",
      "A 0.0\n",
      "C 0.04\n",
      "B 0.02\n",
      "E 3.44\n",
      "D 3.44\n"
     ]
    },
    {
     "data": {
      "text/plain": [
       "{'A': 10, 'B': 22, 'C': 37, 'D': 8, 'E': 26}"
      ]
     },
     "execution_count": 271,
     "metadata": {},
     "output_type": "execute_result"
    }
   ],
   "source": [
    "pos_bids = {1: {}, 2: {}, 3: {}}\n",
    "\n",
    "for ad in advertisers:\n",
    "    ad_budget = advertisers[ad]['budget']\n",
    "    ad_bid = advertisers[ad]['bid']\n",
    "    if ad_budget >= ad_bid:\n",
    "        bid1 = round((advertisers[ad]['bid'] * advertisers[ad]['ctr1']),5)\n",
    "        bid2 = round((advertisers[ad]['bid'] * advertisers[ad]['ctr2']),5)\n",
    "        bid3 = round((advertisers[ad]['bid'] * advertisers[ad]['ctr3']),5)\n",
    "\n",
    "        # print ad, bid1, bid2, bid3\n",
    "\n",
    "        if ad_budget - bid1 >= 0.:\n",
    "            pos_bids[1][ad] = bid1\n",
    "        if ad_budget - bid2 >= 0.:\n",
    "            pos_bids[2][ad] = bid2\n",
    "        if ad_budget - bid3 >= 0.:\n",
    "            pos_bids[3][ad] = bid3\n",
    "\n",
    "\n",
    "bid1_key, bid1_value = max(pos_bids[1].iteritems(), key=lambda x:x[1])\n",
    "pos_bids[2].pop(bid1_key)\n",
    "pos_bids[3].pop(bid1_key)\n",
    "bid2_key, bid2_value = max(pos_bids[2].iteritems(), key=lambda x:x[1])\n",
    "pos_bids[3].pop(bid2_key)\n",
    "bid3_key, bid3_value = max(pos_bids[3].iteritems(), key=lambda x:x[1])\n",
    "\n",
    "print pos_bids[1]\n",
    "print pos_bids[2]\n",
    "print pos_bids[3]\n",
    "print (bid1_key, bid1_value), (bid2_key, bid2_value), (bid3_key, bid3_value)\n",
    "\n",
    "# find amongst the three slots which runs out of money first\n",
    "# bid_keys = [bid1_key, bid2_key, bid3_key]\n",
    "bid_keys = {bid1_key: advertisers[bid1_key]['ctr1'],\n",
    "             bid2_key: advertisers[bid2_key]['ctr2'],\n",
    "             bid3_key: advertisers[bid3_key]['ctr3']}\n",
    "\n",
    "clicks_allowed = 1000.\n",
    "bids_done = ''\n",
    "\n",
    "for b in bid_keys:\n",
    "    if 0 < advertisers[b]['budget']/advertisers[b]['bid'] < clicks_allowed:\n",
    "        clicks_allowed = int(advertisers[b]['budget']/advertisers[b]['bid'])\n",
    "        bids_done = b\n",
    "        \n",
    "print clicks_allowed, bids_done\n",
    "\n",
    "advertisers[bids_done]['budget'] -= advertisers[bids_done]['bid'] * int(clicks_allowed)\n",
    "ad_clicks[bids_done] += clicks_allowed\n",
    "\n",
    "for b in bid_keys:\n",
    "    if b != bids_done:\n",
    "        clicks = int(round(bid_keys[b]/bid_keys[bids_done] * clicks_allowed))\n",
    "        ad_clicks[b] += clicks\n",
    "        spent = clicks * advertisers[b]['bid']\n",
    "        advertisers[b]['budget'] -= spent\n",
    "        print b, clicks, spent\n",
    "\n",
    "    \n",
    "for ad in advertisers:\n",
    "    print ad, advertisers[ad]['budget']\n",
    "\n",
    "ad_clicks"
   ]
  },
  {
   "cell_type": "code",
   "execution_count": 273,
   "metadata": {
    "collapsed": false
   },
   "outputs": [
    {
     "data": {
      "text/plain": [
       "103"
      ]
     },
     "execution_count": 273,
     "metadata": {},
     "output_type": "execute_result"
    }
   ],
   "source": [
    "count = 0\n",
    "for k in ad_clicks:\n",
    "    count += ad_clicks[k]\n",
    "count"
   ]
  },
  {
   "cell_type": "code",
   "execution_count": 182,
   "metadata": {
    "collapsed": false
   },
   "outputs": [
    {
     "data": {
      "text/plain": [
       "10"
      ]
     },
     "execution_count": 182,
     "metadata": {},
     "output_type": "execute_result"
    }
   ],
   "source": [
    "int(round(9.56))"
   ]
  },
  {
   "cell_type": "code",
   "execution_count": 183,
   "metadata": {
    "collapsed": false
   },
   "outputs": [
    {
     "data": {
      "text/plain": [
       "1.98"
      ]
     },
     "execution_count": 183,
     "metadata": {},
     "output_type": "execute_result"
    }
   ],
   "source": [
    ".09 * 22"
   ]
  },
  {
   "cell_type": "code",
   "execution_count": 42,
   "metadata": {
    "collapsed": false
   },
   "outputs": [
    {
     "data": {
      "text/plain": [
       "'A'"
      ]
     },
     "execution_count": 42,
     "metadata": {},
     "output_type": "execute_result"
    }
   ],
   "source": [
    "max(bid1.iterkeys(), key=lambda k: bid1[k])"
   ]
  },
  {
   "cell_type": "code",
   "execution_count": 44,
   "metadata": {
    "collapsed": false
   },
   "outputs": [
    {
     "data": {
      "text/plain": [
       "('A', 0.0015)"
      ]
     },
     "execution_count": 44,
     "metadata": {},
     "output_type": "execute_result"
    }
   ],
   "source": [
    "key, value = max(bid1.iteritems(), key=lambda x:x[1])\n",
    "key, value"
   ]
  },
  {
   "cell_type": "markdown",
   "metadata": {},
   "source": [
    "## Question 3"
   ]
  },
  {
   "cell_type": "markdown",
   "metadata": {},
   "source": [
    "In certain clustering algorithms, such as CURE, we need to pick a representative set of points in a supposed cluster, and these points should be as far away from each other as possible. That is, begin with the two furthest points, and at each step add the point whose minimum distance to any of the previously selected points is maximum.\n",
    "Suppose you are given the following points in two-dimensional Euclidean space: x = (0,0); y = (10,10), a = (1,6); b = (3,7); c = (4,3); d = (7,7), e = (8,2); f = (9,5). Obviously, x and y are furthest apart, so start with these. You must add five more points, which we shall refer to as the first, second,..., fifth points in what follows. The distance measure is the normal Euclidean L2-norm. "
   ]
  },
  {
   "cell_type": "markdown",
   "metadata": {},
   "source": [
    "Which of the following is true about the order in which the five points are added?\n",
    "\n",
    "1. e is added second\n",
    "2. c is added first\n",
    "3. a is added third\n",
    "4. c is added third"
   ]
  },
  {
   "cell_type": "code",
   "execution_count": 36,
   "metadata": {
    "collapsed": true
   },
   "outputs": [],
   "source": [
    "x = (0,0)\n",
    "y = (10,10)\n",
    "\n",
    "furthest = []"
   ]
  },
  {
   "cell_type": "code",
   "execution_count": 37,
   "metadata": {
    "collapsed": false
   },
   "outputs": [
    {
     "data": {
      "text/plain": [
       "[(0, 0), (10, 10)]"
      ]
     },
     "execution_count": 37,
     "metadata": {},
     "output_type": "execute_result"
    }
   ],
   "source": [
    "furthest.append(x)\n",
    "furthest.append(y)\n",
    "furthest"
   ]
  },
  {
   "cell_type": "code",
   "execution_count": 38,
   "metadata": {
    "collapsed": true
   },
   "outputs": [],
   "source": [
    "furthest_order = ['x', 'y']"
   ]
  },
  {
   "cell_type": "code",
   "execution_count": 39,
   "metadata": {
    "collapsed": true
   },
   "outputs": [],
   "source": [
    "points = {'a':(1,6), 'b':(3,7), 'c':(4,3), 'd':(7,7), 'e':(8,2), 'f':(9,5)}"
   ]
  },
  {
   "cell_type": "code",
   "execution_count": 5,
   "metadata": {
    "collapsed": true
   },
   "outputs": [],
   "source": [
    "def euc_dist(a, b):\n",
    "    return ((a[0] - b[0])**2 + (a[1] - b[1])**2)**.5"
   ]
  },
  {
   "cell_type": "code",
   "execution_count": 17,
   "metadata": {
    "collapsed": false
   },
   "outputs": [
    {
     "data": {
      "text/plain": [
       "(2.23606797749979, 2.23606797749979)"
      ]
     },
     "execution_count": 17,
     "metadata": {},
     "output_type": "execute_result"
    }
   ],
   "source": [
    "euc_dist(points['a'], points['b']), (4 + 1)**.5"
   ]
  },
  {
   "cell_type": "code",
   "execution_count": 18,
   "metadata": {
    "collapsed": false
   },
   "outputs": [
    {
     "data": {
      "text/plain": [
       "(14.142135623730951, 14.142135623730951)"
      ]
     },
     "execution_count": 18,
     "metadata": {},
     "output_type": "execute_result"
    }
   ],
   "source": [
    "euc_dist(x,y), 200**.5"
   ]
  },
  {
   "cell_type": "code",
   "execution_count": 11,
   "metadata": {
    "collapsed": false
   },
   "outputs": [
    {
     "data": {
      "text/plain": [
       "6.082762530298219"
      ]
     },
     "execution_count": 11,
     "metadata": {},
     "output_type": "execute_result"
    }
   ],
   "source": [
    "min(euc_dist(points['a'], x), euc_dist(points['a'], y))"
   ]
  },
  {
   "cell_type": "code",
   "execution_count": 22,
   "metadata": {
    "collapsed": false
   },
   "outputs": [
    {
     "data": {
      "text/plain": [
       "('e', 8.246211251235321)"
      ]
     },
     "execution_count": 22,
     "metadata": {},
     "output_type": "execute_result"
    }
   ],
   "source": [
    "f_point = ''\n",
    "f_dist = -1.0\n",
    "\n",
    "for p in points:\n",
    "    if min(euc_dist(points[p], x), euc_dist(points[p], y)) > f_dist:\n",
    "        f_point = p\n",
    "        f_dist = min(euc_dist(points[p], x), euc_dist(points[p], y))\n",
    "        \n",
    "f_point, f_dist"
   ]
  },
  {
   "cell_type": "code",
   "execution_count": 45,
   "metadata": {
    "collapsed": false
   },
   "outputs": [
    {
     "name": "stdout",
     "output_type": "stream",
     "text": [
      "a 2.2360679775\n",
      "[(0, 0), (10, 10), (8, 2), (3, 7), (4, 3), (7, 7), (9, 5), (1, 6)]\n",
      "['x', 'y', 'e', 'b', 'c', 'd', 'f', 'a']\n",
      "{}\n"
     ]
    }
   ],
   "source": [
    "f_point = ''\n",
    "f_dist = -1.0\n",
    "\n",
    "for p in points:\n",
    "    min_dist = 1000.\n",
    "    for f in furthest:\n",
    "        if euc_dist(points[p], f) < min_dist:\n",
    "            min_dist = euc_dist(points[p], f)\n",
    "    if min_dist > f_dist:\n",
    "        f_point = p\n",
    "        f_dist = min_dist\n",
    "        \n",
    "print f_point, f_dist\n",
    "furthest.append(points[f_point])\n",
    "furthest_order.append(f_point)\n",
    "points.pop(f_point)\n",
    "print furthest\n",
    "print furthest_order\n",
    "print points"
   ]
  },
  {
   "cell_type": "code",
   "execution_count": null,
   "metadata": {
    "collapsed": true
   },
   "outputs": [],
   "source": []
  }
 ],
 "metadata": {
  "kernelspec": {
   "display_name": "Python 2",
   "language": "python",
   "name": "python2"
  },
  "language_info": {
   "codemirror_mode": {
    "name": "ipython",
    "version": 2
   },
   "file_extension": ".py",
   "mimetype": "text/x-python",
   "name": "python",
   "nbconvert_exporter": "python",
   "pygments_lexer": "ipython2",
   "version": "2.7.10"
  }
 },
 "nbformat": 4,
 "nbformat_minor": 0
}
