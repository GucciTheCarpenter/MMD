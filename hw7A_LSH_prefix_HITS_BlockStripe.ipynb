{
 "cells": [
  {
   "cell_type": "code",
   "execution_count": 1,
   "metadata": {
    "collapsed": true
   },
   "outputs": [],
   "source": [
    "import numpy as np\n",
    "from collections import defaultdict"
   ]
  },
  {
   "cell_type": "markdown",
   "metadata": {},
   "source": [
    "## Question 1"
   ]
  },
  {
   "cell_type": "markdown",
   "metadata": {},
   "source": [
    "Suppose we have an LSH family h of (d1,d2,.6,.4) hash functions. We can use three functions from h and the AND-construction to form a (d1,d2,w,x) family, and we can use two functions from h and the OR-construction to form a (d1,d2,y,z) family. Calculate w, x, y, and z, and then identify the correct value of one of these in the list below.\n",
    "\n",
    "1. w=.936\n",
    "2. x=.784\n",
    "3. y=.36\n",
    "4. y=.84"
   ]
  },
  {
   "cell_type": "code",
   "execution_count": 1,
   "metadata": {
    "collapsed": true
   },
   "outputs": [],
   "source": [
    "h = ('d1','d2',.6,.4)"
   ]
  },
  {
   "cell_type": "code",
   "execution_count": 5,
   "metadata": {
    "collapsed": true
   },
   "outputs": [],
   "source": [
    "def h_AND(h, r):\n",
    "    d1 = h[0]\n",
    "    d2 = h[1]\n",
    "    p1 = h[2]\n",
    "    p2 = h[3]\n",
    "    return (d1, d2, p1**r, p2**r)\n",
    "    "
   ]
  },
  {
   "cell_type": "code",
   "execution_count": 6,
   "metadata": {
    "collapsed": false
   },
   "outputs": [
    {
     "data": {
      "text/plain": [
       "('d1', 'd2', 0.21599999999999997, 0.06400000000000002)"
      ]
     },
     "execution_count": 6,
     "metadata": {},
     "output_type": "execute_result"
    }
   ],
   "source": [
    "h_AND(h,3)"
   ]
  },
  {
   "cell_type": "code",
   "execution_count": 7,
   "metadata": {
    "collapsed": true
   },
   "outputs": [],
   "source": [
    "def h_OR(h, b):\n",
    "    d1 = h[0]\n",
    "    d2 = h[1]\n",
    "    p1 = h[2]\n",
    "    p2 = h[3]\n",
    "    return (d1, d2, 1.-(1.-p1)**b, 1.-(1.-p2)**b)"
   ]
  },
  {
   "cell_type": "code",
   "execution_count": 9,
   "metadata": {
    "collapsed": false
   },
   "outputs": [
    {
     "data": {
      "text/plain": [
       "('d1', 'd2', 0.84, 0.64)"
      ]
     },
     "execution_count": 9,
     "metadata": {},
     "output_type": "execute_result"
    }
   ],
   "source": [
    "h_OR(h, 2)"
   ]
  },
  {
   "cell_type": "markdown",
   "metadata": {},
   "source": [
    "## answer: y=.84\n",
    "<img src=\"images/andofhash.JPG\">\n",
    "<img src=\"images/orofhash.JPG\">"
   ]
  },
  {
   "cell_type": "markdown",
   "metadata": {},
   "source": [
    "## Question 2"
   ]
  },
  {
   "cell_type": "markdown",
   "metadata": {},
   "source": [
    "Here are eight strings that represent sets:\n",
    "\n",
    "s1 = abcef\n",
    "s2 = acdeg\n",
    "s3 = bcdefg\n",
    "s4 = adfg\n",
    "s5 = bcdfgh\n",
    "s6 = bceg\n",
    "s7 = cdfg\n",
    "s8 = abcd\n",
    "\n",
    "Suppose our upper limit on Jaccard distance is 0.2, and we use the indexing scheme of Section 3.9.4 based on symbols appearing in the prefix (no position or length information). For each of s1, s3, and s6, determine how many other strings that string will be compared with, if it is used as the probe string. Then, identify the true count from the list below.\n",
    "\n",
    "1. s1 is compared with 6 other strings.\n",
    "2. s1 is compared with 5 other strings.\n",
    "3. s6 is compared with 2 other strings.\n",
    "4. s3 is compared with 2 other strings."
   ]
  },
  {
   "cell_type": "markdown",
   "metadata": {
    "collapsed": true
   },
   "source": [
    "<img src=\"images/preofstr.JPG\">"
   ]
  },
  {
   "cell_type": "code",
   "execution_count": 6,
   "metadata": {
    "collapsed": false
   },
   "outputs": [],
   "source": [
    "str_sets = {'s1': 'abcef', 's2': 'acdeg', 's3': 'bcdefg', 's4': 'adfg',\n",
    "            's5': 'bcdfgh', 's6': 'bceg', 's7': 'cdfg', 's8': 'abcd'}"
   ]
  },
  {
   "cell_type": "code",
   "execution_count": 13,
   "metadata": {
    "collapsed": false
   },
   "outputs": [
    {
     "name": "stdout",
     "output_type": "stream",
     "text": [
      "\n"
     ]
    }
   ],
   "source": [
    "# Jaccard distance\n",
    "J = 0.2"
   ]
  },
  {
   "cell_type": "code",
   "execution_count": 28,
   "metadata": {
    "collapsed": false
   },
   "outputs": [
    {
     "name": "stdout",
     "output_type": "stream",
     "text": [
      "defaultdict(<type 'list'>, {'a': ['s8', 's2', 's1', 's4'], 'c': ['s3', 's2', 's7', 's5'], 'b': ['s3', 's1', 's6', 's5']})\n"
     ]
    }
   ],
   "source": [
    "str_comp = defaultdict(list)\n",
    "\n",
    "for s in str_sets:\n",
    "    L = len(str_sets[s])\n",
    "    pos = int(J*L) + 1\n",
    "    idx = str_sets[s][:pos]\n",
    "    for a in idx:\n",
    "        str_comp[a].append(s)\n",
    "    \n",
    "    # print s, L, J*L, pos, idx\n",
    "    \n",
    "print str_comp"
   ]
  },
  {
   "cell_type": "markdown",
   "metadata": {},
   "source": [
    "## answer: s1 is compared with 6 other strings."
   ]
  },
  {
   "cell_type": "code",
   "execution_count": null,
   "metadata": {
    "collapsed": true
   },
   "outputs": [],
   "source": []
  },
  {
   "cell_type": "markdown",
   "metadata": {},
   "source": [
    "## Question 3"
   ]
  },
  {
   "cell_type": "markdown",
   "metadata": {},
   "source": [
    "Consider the link graph\n",
    "<img src=\"images/otc_pagerank4.gif\">\n",
    "First, construct the L, the link matrix, as discussed in Section 5.5 on the HITS algorithm. Then do the following:\n",
    "\n",
    "1. Start by assuming the hubbiness of each node is 1; that is, the vector h is (the transpose of) [1,1,1,1].\n",
    "2. Compute an estimate of the authority vector a=LTh.\n",
    "3. Normalize a by dividing all values so the largest value is 1.\n",
    "4.  an estimate of the hubbiness vector h=La.\n",
    "5. Normalize h by dividing all values so the largest value is 1.\n",
    "6. Repeat steps 2-5.\n",
    "\n",
    "Now, identify in the list below the true statement about the final estimates.\n",
    "\n",
    "The final estimate of the hubbiness of 3 is 1. <br>\n",
    "The final estimate of the hubbiness of 1 is 1/5. <br>\n",
    "The final estimate of the hubbiness of 1 is 1/8. <br>\n",
    "The final estimate of the authority of 2 is 3/5."
   ]
  },
  {
   "cell_type": "code",
   "execution_count": 2,
   "metadata": {
    "collapsed": false
   },
   "outputs": [
    {
     "data": {
      "text/plain": [
       "matrix([[0, 1, 1, 0],\n",
       "        [1, 0, 0, 0],\n",
       "        [0, 0, 0, 1],\n",
       "        [0, 0, 1, 0]])"
      ]
     },
     "execution_count": 2,
     "metadata": {},
     "output_type": "execute_result"
    }
   ],
   "source": [
    "L = np.matrix([\n",
    "        [0, 1, 1, 0],\n",
    "        [1, 0, 0, 0],\n",
    "        [0, 0, 0, 1],\n",
    "        [0, 0, 1, 0]\n",
    "    ])\n",
    "L"
   ]
  },
  {
   "cell_type": "code",
   "execution_count": 3,
   "metadata": {
    "collapsed": false
   },
   "outputs": [
    {
     "data": {
      "text/plain": [
       "matrix([[0, 1, 0, 0],\n",
       "        [1, 0, 0, 0],\n",
       "        [1, 0, 0, 1],\n",
       "        [0, 0, 1, 0]])"
      ]
     },
     "execution_count": 3,
     "metadata": {},
     "output_type": "execute_result"
    }
   ],
   "source": [
    "L_t = np.transpose(L)\n",
    "L_t"
   ]
  },
  {
   "cell_type": "code",
   "execution_count": 4,
   "metadata": {
    "collapsed": false
   },
   "outputs": [
    {
     "data": {
      "text/plain": [
       "array([[ 1.],\n",
       "       [ 1.],\n",
       "       [ 1.],\n",
       "       [ 1.]])"
      ]
     },
     "execution_count": 4,
     "metadata": {},
     "output_type": "execute_result"
    }
   ],
   "source": [
    "h = np.ones((4,1))\n",
    "h"
   ]
  },
  {
   "cell_type": "code",
   "execution_count": 6,
   "metadata": {
    "collapsed": false
   },
   "outputs": [
    {
     "data": {
      "text/plain": [
       "matrix([[ 1.],\n",
       "        [ 1.],\n",
       "        [ 2.],\n",
       "        [ 1.]])"
      ]
     },
     "execution_count": 6,
     "metadata": {},
     "output_type": "execute_result"
    }
   ],
   "source": [
    "a = np.dot(L_t,h)\n",
    "a"
   ]
  },
  {
   "cell_type": "code",
   "execution_count": 9,
   "metadata": {
    "collapsed": false
   },
   "outputs": [
    {
     "data": {
      "text/plain": [
       "matrix([[ 0.5],\n",
       "        [ 0.5],\n",
       "        [ 1. ],\n",
       "        [ 0.5]])"
      ]
     },
     "execution_count": 9,
     "metadata": {},
     "output_type": "execute_result"
    }
   ],
   "source": [
    "# estimate 1 of authority\n",
    "a = a / np.max(a)\n",
    "a"
   ]
  },
  {
   "cell_type": "code",
   "execution_count": 10,
   "metadata": {
    "collapsed": false
   },
   "outputs": [
    {
     "data": {
      "text/plain": [
       "matrix([[ 1.5],\n",
       "        [ 0.5],\n",
       "        [ 0.5],\n",
       "        [ 1. ]])"
      ]
     },
     "execution_count": 10,
     "metadata": {},
     "output_type": "execute_result"
    }
   ],
   "source": [
    "# estimate 1 of hubbiness\n",
    "h = np.dot(L,a)\n",
    "h"
   ]
  },
  {
   "cell_type": "code",
   "execution_count": 12,
   "metadata": {
    "collapsed": false
   },
   "outputs": [
    {
     "data": {
      "text/plain": [
       "matrix([[ 1.        ],\n",
       "        [ 0.33333333],\n",
       "        [ 0.33333333],\n",
       "        [ 0.66666667]])"
      ]
     },
     "execution_count": 12,
     "metadata": {},
     "output_type": "execute_result"
    }
   ],
   "source": [
    "h = h / np.max(h)\n",
    "h"
   ]
  },
  {
   "cell_type": "code",
   "execution_count": 13,
   "metadata": {
    "collapsed": false
   },
   "outputs": [
    {
     "data": {
      "text/plain": [
       "matrix([[ 0.2],\n",
       "        [ 0.6],\n",
       "        [ 1. ],\n",
       "        [ 0.2]])"
      ]
     },
     "execution_count": 13,
     "metadata": {},
     "output_type": "execute_result"
    }
   ],
   "source": [
    "# estimate 2 of authority\n",
    "a = np.dot(L_t,h)\n",
    "a = a / np.max(a)\n",
    "a"
   ]
  },
  {
   "cell_type": "code",
   "execution_count": 14,
   "metadata": {
    "collapsed": false
   },
   "outputs": [
    {
     "data": {
      "text/plain": [
       "matrix([[ 1.   ],\n",
       "        [ 0.125],\n",
       "        [ 0.125],\n",
       "        [ 0.625]])"
      ]
     },
     "execution_count": 14,
     "metadata": {},
     "output_type": "execute_result"
    }
   ],
   "source": [
    "# estimate 2 of hubbiness\n",
    "h = np.dot(L,a)\n",
    "h = h / np.max(h)\n",
    "h"
   ]
  },
  {
   "cell_type": "markdown",
   "metadata": {},
   "source": [
    "## answer: The final estimate of the authority of 2 is 3/5."
   ]
  },
  {
   "cell_type": "markdown",
   "metadata": {},
   "source": [
    "## Question 4"
   ]
  },
  {
   "cell_type": "markdown",
   "metadata": {},
   "source": [
    "Consider an implementation of the Block-Stripe Algorithm discussed in Section 5.2 to compute page rank on a graph of N nodes (i.e., Web pages). Suppose each page has, on average, 20 links, and we divide the new rank vector into k blocks (and correspondingly, the matrix M into k stripes). Each stripe of M has one line per \"source\" web page, in the format:\n",
    "<br><center>[source_id, degree, m, dest_1, ...., dest_m]</center>\n",
    "\n",
    "Notice that we had to add an additional entry, m, to denote the number of destination nodes in this stripe, which of course is no more than the degree of the node. Assume that all entries (scores, degrees, identifiers,...) are encoded using 4 bytes.\n",
    "\n",
    "There is an additional detail we need to account for, namely, <b>locality</b> of links. As a very simple model, assume that we divide web pages into two disjoint sets:\n",
    "\n",
    "1. <b>Introvert</b> pages, which link only to other pages within the same host as themselves.\n",
    "\n",
    "2. <b>Extrovert</b> pages, which have links to pages across several hosts.\n",
    "\n",
    "Assume a fraction x of pages (0 Construct a formula that counts the amount of I/O per page rank iteration in terms of N, x, and k. The 4-tuples below list combinations of N, k, x, and I/O (in bytes). Pick the correct combination.\n",
    "\n",
    "<b>Note.</b> There are some additional optimizations one can think of, such as striping the old score vector, encoding introvert and extrovert pages using different schemes, etc. For the purposes of working this problem, assume we don't do any optimizations beyond the block-stripe algorithm discussed in class.\n",
    "\n",
    "N = 1 billion, k = 2, x = 0.75, 112GB <br>\n",
    "N = 1 billion, k = 2, x = 0.5, 110GB <br>\n",
    "N = 1 billion, k = 3, x = 0.5, 132GB <br>\n",
    "N = 1 billion, k = 3, x = 0.5, 124GB"
   ]
  },
  {
   "cell_type": "code",
   "execution_count": 16,
   "metadata": {
    "collapsed": true
   },
   "outputs": [],
   "source": [
    "# N nodes\n",
    "# k stripes of M / blocks of the vector\n",
    "# x fraction of pages"
   ]
  },
  {
   "cell_type": "code",
   "execution_count": 17,
   "metadata": {
    "collapsed": false
   },
   "outputs": [
    {
     "data": {
      "text/plain": [
       "92"
      ]
     },
     "execution_count": 17,
     "metadata": {},
     "output_type": "execute_result"
    }
   ],
   "source": [
    "4 * 23"
   ]
  },
  {
   "cell_type": "code",
   "execution_count": 18,
   "metadata": {
    "collapsed": true
   },
   "outputs": [],
   "source": [
    "bytes = 4\n",
    "stripe_len = 23\n"
   ]
  },
  {
   "cell_type": "code",
   "execution_count": 20,
   "metadata": {
    "collapsed": false
   },
   "outputs": [
    {
     "data": {
      "text/plain": [
       "92"
      ]
     },
     "execution_count": 20,
     "metadata": {},
     "output_type": "execute_result"
    }
   ],
   "source": [
    "base_GB = bytes * stripe_len\n",
    "base_GB"
   ]
  },
  {
   "cell_type": "code",
   "execution_count": 21,
   "metadata": {
    "collapsed": false
   },
   "outputs": [
    {
     "data": {
      "text/plain": [
       "23.0"
      ]
     },
     "execution_count": 21,
     "metadata": {},
     "output_type": "execute_result"
    }
   ],
   "source": [
    "base_GB * .25"
   ]
  },
  {
   "cell_type": "code",
   "execution_count": 22,
   "metadata": {
    "collapsed": true
   },
   "outputs": [],
   "source": [
    "combos = [(2,0.75), (2,0.5), (3,0.5), (3,0.5)]"
   ]
  },
  {
   "cell_type": "code",
   "execution_count": 26,
   "metadata": {
    "collapsed": false
   },
   "outputs": [
    {
     "name": "stdout",
     "output_type": "stream",
     "text": [
      "k = 2 x = 0.75 115.0GB\n",
      "k = 2 x = 0.5 138.0GB\n",
      "k = 3 x = 0.5 184.0GB\n",
      "k = 3 x = 0.5 184.0GB\n"
     ]
    }
   ],
   "source": [
    "for c in combos:\n",
    "    k = c[0]\n",
    "    x = c[1]\n",
    "    GB = base_GB*x + (base_GB*(1-x))*k\n",
    "    print \"k = \" + str(k), \"x = \" + str(x), str(GB) + \"GB\""
   ]
  },
  {
   "cell_type": "markdown",
   "metadata": {},
   "source": [
    "<b>Question Explanation</b>\n",
    "\n",
    "The number of bytes involved in reading the old pagerank vector and writing the new pagerank vector to disk = 4 (k+1) N For the M matrix: \n",
    "\n",
    "- The introvert pages will appear xN times and each row will have on average 23 entries (3 metadata and 20 destination links). Total number of bytes read = 4(23)(xN)\n",
    "- The extrovert pages will appear (1-x) kN times and each row will have 3 (metadata) + 20/k (destination links) entries on average. Total number of bytes read = 4 * (3+20/k) * (1-x) kN \n",
    "\n",
    "Total I/O per pagerank iteration (in GB, where 1GB ~ 10^9 = N bytes) <br>= 4 [(k+1) N + 23 xN + (3k + 20) (1-x) N] / N <br>= 4 [(k+1) + 23 x + (3k + 20) (1-x)] <br>= 4 [21 + k + 3 (x + (1-x) k)]"
   ]
  },
  {
   "cell_type": "code",
   "execution_count": null,
   "metadata": {
    "collapsed": true
   },
   "outputs": [],
   "source": []
  }
 ],
 "metadata": {
  "kernelspec": {
   "display_name": "Python 2",
   "language": "python",
   "name": "python2"
  },
  "language_info": {
   "codemirror_mode": {
    "name": "ipython",
    "version": 2
   },
   "file_extension": ".py",
   "mimetype": "text/x-python",
   "name": "python",
   "nbconvert_exporter": "python",
   "pygments_lexer": "ipython2",
   "version": "2.7.10"
  }
 },
 "nbformat": 4,
 "nbformat_minor": 0
}
